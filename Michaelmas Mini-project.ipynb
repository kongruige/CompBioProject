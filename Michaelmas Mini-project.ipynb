{
 "cells": [
  {
   "cell_type": "markdown",
   "source": [
    "# Michaelmas Mini-Project: World-Cup Simulation"
   ],
   "metadata": {
    "collapsed": false
   }
  },
  {
   "cell_type": "markdown",
   "source": [
    "## Import Libraries"
   ],
   "metadata": {
    "collapsed": false
   }
  },
  {
   "cell_type": "code",
   "execution_count": 1,
   "outputs": [],
   "source": [
    "import numpy as np\n",
    "import scipy.stats\n",
    "import matplotlib.pyplot as plt\n",
    "import pandas as pd"
   ],
   "metadata": {
    "collapsed": false
   }
  },
  {
   "cell_type": "code",
   "execution_count": 2,
   "outputs": [],
   "source": [
    "# this makes the results deterministic when we need to\n",
    "seed = 31415"
   ],
   "metadata": {
    "collapsed": false
   }
  },
  {
   "cell_type": "markdown",
   "source": [
    "## Part One Section A: Introduction"
   ],
   "metadata": {
    "collapsed": false
   }
  },
  {
   "cell_type": "markdown",
   "source": [
    "### Question 1\n",
    "\n",
    "Introduce two independent random variables\n",
    "\\begin{align}\n",
    "G_A &\\sim \\text{Pois}(\\lambda_A)\\\\\n",
    "G_B &\\sim \\text{Pois}(\\lambda_B)\n",
    "\\end{align}\n",
    "\n",
    "Task: write a function to simulate result of a single game according to the Poisson model above\n",
    "\n",
    "Input: $\\lambda_A$ and $\\lambda_B$\n",
    "\n",
    "Output:\n",
    "1. Number of goals scored by Teams A\n",
    "2. Number of goals scored by Team B\n",
    "3. Result (A - A won; B - B won; D - draw)"
   ],
   "metadata": {
    "collapsed": false
   }
  },
  {
   "cell_type": "code",
   "execution_count": 3,
   "metadata": {
    "collapsed": true
   },
   "outputs": [],
   "source": [
    "def single_game_result(lambdA, lambdB):\n",
    "    # rng = np.random.default_rng(seed)\n",
    "    A_goals = np.random.poisson(lambdA)\n",
    "    B_goals = np.random.poisson(lambdB)\n",
    "    if A_goals > B_goals:\n",
    "        result = 'A'\n",
    "    elif A_goals < B_goals:\n",
    "        result = 'B'\n",
    "    else:\n",
    "        result = 'D'\n",
    "    return [A_goals, B_goals, result]\n"
   ]
  },
  {
   "cell_type": "markdown",
   "source": [
    "Now, to record the results for 1000 games"
   ],
   "metadata": {
    "collapsed": false
   }
  },
  {
   "cell_type": "code",
   "execution_count": 4,
   "outputs": [
    {
     "name": "stdout",
     "output_type": "stream",
     "text": [
      "My estimate for the number of wins by Team A for this particular trial is 280 wins. The mean of the simulation is 291.4 wins and the standard deviation of the simulation is 14.782421993705903 wins, meaning that the likly accuracy of this particular trial is -0.7711862105447874 standard deviations away from the mean\n"
     ]
    }
   ],
   "source": [
    "lambdA = 1.5\n",
    "lambdB = 2.0\n",
    "\n",
    "A_list = [] # this list would be used to calculate the mean\n",
    "for j in range(100):\n",
    "    A_win = 0 # this initialize the tally\n",
    "    for i in range(1000):\n",
    "        if single_game_result(lambdA, lambdB)[2] == 'A':\n",
    "            A_win += 1\n",
    "    A_list.append(A_win)\n",
    "\n",
    "std = np.std(A_list)\n",
    "mean = np.mean(A_list)\n",
    "\n",
    "# Now for a specific trial\n",
    "trial = 0\n",
    "for i in range(1000):\n",
    "    if single_game_result(lambdA, lambdB)[2] == 'A':\n",
    "        trial += 1\n",
    "\n",
    "print('My estimate for the number of wins by Team A for this particular trial is', trial, 'wins. The mean of the simulation is', mean, 'wins and the standard deviation of the simulation is', std, 'wins, meaning that the likly accuracy of this particular trial is', (trial-mean)/std, 'standard deviations away from the mean')"
   ],
   "metadata": {
    "collapsed": false
   }
  },
  {
   "cell_type": "markdown",
   "source": [
    "### Question 2\n",
    "\n",
    "Task: generate dataset D containing results from 10 simulated matches between pairs of teams taken randomly from {W,X,Y,Z}\n",
    "\n",
    "Note: two teams in each match are distinct; each team is involved in at least one match\n",
    "\n",
    "Output: synthetic dataset in the form of a pandas data frame with columns `TeamA`, `TeamB`, `goalA`, `goalB`."
   ],
   "metadata": {
    "collapsed": false
   }
  },
  {
   "cell_type": "code",
   "execution_count": 5,
   "outputs": [],
   "source": [
    "def generate_dataset(teams:list, lambd:list, N:int):\n",
    "    column_names = ['Team A', 'Team B', 'goal A','goal B' ]\n",
    "    index = np.arange(N)\n",
    "\n",
    "    # first I will create an empty dataset with 10 rows and 4 columns\n",
    "\n",
    "    df = pd.DataFrame(columns = column_names, index = index)\n",
    "\n",
    "    # then I will simulate and record the result from each match, calling the function I defined previously\n",
    "\n",
    "    for i in range(N):\n",
    "        a_index, b_index = np.random.choice(len(teams), size = 2,replace = False)\n",
    "        teamA, teamB = teams[a_index], teams[b_index]\n",
    "        lambdA, lambdB = lambd[a_index], lambd[b_index]\n",
    "        goalA, goalB = single_game_result(lambdA, lambdB)[:-1]\n",
    "        df.loc[i,:] = [teamA, teamB, goalA, goalB]\n",
    "\n",
    "    # lastly, I will re-run the simulation if any of the teams is not recorded in the results table\n",
    "\n",
    "    for i in teams:\n",
    "        if i not in df.loc[:,'Team A'].values and i not in df.loc[:,'Team B'].values:\n",
    "            return generate_dataset(teams, lambd, N)\n",
    "\n",
    "    #df.index += 1 #if needed for 1-indexed\n",
    "\n",
    "    return df"
   ],
   "metadata": {
    "collapsed": false
   }
  },
  {
   "cell_type": "code",
   "execution_count": 6,
   "outputs": [],
   "source": [
    "teams = ['W', 'X', 'Y', 'Z']\n",
    "lambd = [np.exp(1), np.exp(0.5), np.exp(0.75), np.exp(1.25)]\n",
    "N = 10"
   ],
   "metadata": {
    "collapsed": false
   }
  },
  {
   "cell_type": "code",
   "execution_count": 7,
   "outputs": [
    {
     "data": {
      "text/plain": "  Team A Team B goal A goal B\n0      X      Y      1      1\n1      W      X      0      0\n2      Z      Y      1      4\n3      W      X      2      3\n4      Z      W      2      3\n5      X      Y      0      1\n6      Z      Y      1      1\n7      X      Y      1      4\n8      X      W      2      1\n9      W      Z      2      5",
      "text/html": "<div>\n<style scoped>\n    .dataframe tbody tr th:only-of-type {\n        vertical-align: middle;\n    }\n\n    .dataframe tbody tr th {\n        vertical-align: top;\n    }\n\n    .dataframe thead th {\n        text-align: right;\n    }\n</style>\n<table border=\"1\" class=\"dataframe\">\n  <thead>\n    <tr style=\"text-align: right;\">\n      <th></th>\n      <th>Team A</th>\n      <th>Team B</th>\n      <th>goal A</th>\n      <th>goal B</th>\n    </tr>\n  </thead>\n  <tbody>\n    <tr>\n      <th>0</th>\n      <td>X</td>\n      <td>Y</td>\n      <td>1</td>\n      <td>1</td>\n    </tr>\n    <tr>\n      <th>1</th>\n      <td>W</td>\n      <td>X</td>\n      <td>0</td>\n      <td>0</td>\n    </tr>\n    <tr>\n      <th>2</th>\n      <td>Z</td>\n      <td>Y</td>\n      <td>1</td>\n      <td>4</td>\n    </tr>\n    <tr>\n      <th>3</th>\n      <td>W</td>\n      <td>X</td>\n      <td>2</td>\n      <td>3</td>\n    </tr>\n    <tr>\n      <th>4</th>\n      <td>Z</td>\n      <td>W</td>\n      <td>2</td>\n      <td>3</td>\n    </tr>\n    <tr>\n      <th>5</th>\n      <td>X</td>\n      <td>Y</td>\n      <td>0</td>\n      <td>1</td>\n    </tr>\n    <tr>\n      <th>6</th>\n      <td>Z</td>\n      <td>Y</td>\n      <td>1</td>\n      <td>1</td>\n    </tr>\n    <tr>\n      <th>7</th>\n      <td>X</td>\n      <td>Y</td>\n      <td>1</td>\n      <td>4</td>\n    </tr>\n    <tr>\n      <th>8</th>\n      <td>X</td>\n      <td>W</td>\n      <td>2</td>\n      <td>1</td>\n    </tr>\n    <tr>\n      <th>9</th>\n      <td>W</td>\n      <td>Z</td>\n      <td>2</td>\n      <td>5</td>\n    </tr>\n  </tbody>\n</table>\n</div>"
     },
     "execution_count": 7,
     "metadata": {},
     "output_type": "execute_result"
    }
   ],
   "source": [
    "results_table = generate_dataset(teams, lambd, N)\n",
    "results_table"
   ],
   "metadata": {
    "collapsed": false
   }
  },
  {
   "cell_type": "code",
   "execution_count": 9,
   "outputs": [],
   "source": [
    "def mean_goal(teams,df):\n",
    "    goal_dict = {}\n",
    "    matches_dict = {}\n",
    "    for i in set(teams):\n",
    "        goal_dict[i] = 0\n",
    "        matches_dict[i] = 0\n",
    "    for j in df.index:\n",
    "        teamA, teamB = df.iloc[j,:2]\n",
    "        goal_dict[teamA] += df.iloc[j,2]\n",
    "        goal_dict[teamB] += df.iloc[j,3]\n",
    "        matches_dict[teamA] += 1\n",
    "        matches_dict[teamB] += 1\n",
    "    for key in goal_dict.keys():\n",
    "        goal_dict[key] /= matches_dict[key]\n",
    "    return goal_dict"
   ],
   "metadata": {
    "collapsed": false
   }
  },
  {
   "cell_type": "code",
   "execution_count": 10,
   "outputs": [
    {
     "name": "stdout",
     "output_type": "stream",
     "text": [
      "the mean goals scored were {'W': 1.6, 'X': 1.1666666666666667, 'Y': 2.2, 'Z': 2.25}\n"
     ]
    }
   ],
   "source": [
    "mean_goals = mean_goal(teams,results_table)\n",
    "mean_goals = sorted(mean_goals.items())\n",
    "mean_goals = {k:v for k,v in mean_goals}\n",
    "print('the mean goals scored were', mean_goals)"
   ],
   "metadata": {
    "collapsed": false
   }
  },
  {
   "cell_type": "markdown",
   "source": [
    "## Question 3\n",
    "\n",
    "Given dataset D with N games, the $i^{th}$ game between Team $s_i$ and Team $t_i$ with score $u_i, v_i$ respectively,then the likelihood of obtain dataset D depending on parameters is given by\n",
    "\\begin{align}\n",
    "L(D|(\\lambda_W, \\lambda_X, \\lambda_Y, \\lambda_Z)^T) &= \\prod^N_{i=1} \\left(\\frac{\\lambda_{s_i}^{u_i}\\text{exp}(-\\lambda_{s_i})}{(u_i)!}\\right) \\left(\\frac{\\lambda_{t_i}^{v_i}\\text{exp}(-\\lambda_{t_i})}{(v_i)!}\\right)\n",
    "\\end{align}\n",
    "\n",
    "Task:\n",
    "1. Use `logpmf()` to calculate log likelihood function given dataset D & particular values of $\\lambda_W, \\lambda_X, \\lambda_Y, \\lambda_Z$\n",
    "2. Use function `minimize()` to find maximum likelihood estimates of parameters $\\lambda_W, \\lambda_X, \\lambda_Y, \\lambda_Z$ for dataset D"
   ],
   "metadata": {
    "collapsed": false
   }
  },
  {
   "cell_type": "code",
   "execution_count": 11,
   "outputs": [],
   "source": [
    "import scipy.optimize as opt\n",
    "import scipy.stats as stats\n",
    "\n",
    "# first I would define this function to convert the data of a particular team to a list for the data to be processed\n",
    "def extract_goals(df, team):\n",
    "    team_df = pd.concat((df['goal A'][df['Team A'] == team],df['goal B'][df['Team B'] == team]))\n",
    "    return team_df.to_list()\n"
   ],
   "metadata": {
    "collapsed": false
   }
  },
  {
   "cell_type": "code",
   "execution_count": 12,
   "outputs": [],
   "source": [
    "# Then I will define the log likelihood function\n",
    "def log_likelihood(L, D): # L -> represents lambda; D -> represents dataset\n",
    "    s=0\n",
    "    for i in range(len(D)):\n",
    "        s+=stats.poisson.logpmf(D[i], L)\n",
    "    return s\n",
    "\n",
    "# I will also define the log-transformation function to avoid optimizer going out of range\n",
    "\n",
    "def log_transform(psi, D):\n",
    "    L = np.exp(psi)\n",
    "    return -1 * log_likelihood(L, D)"
   ],
   "metadata": {
    "collapsed": false
   }
  },
  {
   "cell_type": "code",
   "execution_count": 13,
   "outputs": [
    {
     "data": {
      "text/plain": "[[0, 2, 2, 3, 1], [1, 0, 1, 2, 0, 3], [1, 4, 1, 1, 4], [1, 2, 1, 5]]"
     },
     "execution_count": 13,
     "metadata": {},
     "output_type": "execute_result"
    }
   ],
   "source": [
    "# Now I will perform the optimization, first storing the different number of goals scored by each team in a list of lists called dataset\n",
    "dataset = []\n",
    "\n",
    "for i in teams:\n",
    "    dataset.append(extract_goals(results_table, i))\n",
    "dataset\n"
   ],
   "metadata": {
    "collapsed": false
   }
  },
  {
   "cell_type": "code",
   "execution_count": 14,
   "outputs": [
    {
     "name": "stdout",
     "output_type": "stream",
     "text": [
      "Maximum likelihood estimate (Poisson model): lambda W =1.60\n",
      " psi=0.47; log likelihood=-7.42\n",
      " mean in dataset=1.60\n",
      " mean from model=1.60\n",
      "Maximum likelihood estimate (Poisson model): lambda X =1.17\n",
      " psi=0.15; log likelihood=-8.41\n",
      " mean in dataset=1.17\n",
      " mean from model=1.17\n",
      "Maximum likelihood estimate (Poisson model): lambda Y =2.20\n",
      " psi=0.79; log likelihood=-8.68\n",
      " mean in dataset=2.20\n",
      " mean from model=2.20\n",
      "Maximum likelihood estimate (Poisson model): lambda Z =2.25\n",
      " psi=0.81; log likelihood=-7.18\n",
      " mean in dataset=2.25\n",
      " mean from model=2.25\n"
     ]
    }
   ],
   "source": [
    "poissonLL = []\n",
    "Ls = []\n",
    "\n",
    "for i in range(len(dataset)):\n",
    "    w = opt.minimize(fun=log_transform, x0=0, args=dataset[i])\n",
    "\n",
    "    if w.success:\n",
    "        psi = w.x[0]\n",
    "        L = np.exp(psi)\n",
    "        print(f\"Maximum likelihood estimate (Poisson model): lambda\", str(teams[i]),f\"={L:.2f}\")\n",
    "        print(f\" psi={psi:.2f}; log likelihood={-1 * w.fun:.2f}\")\n",
    "        print(f\" mean in dataset={np.mean(dataset[i]):.2f}\")\n",
    "        print(f\" mean from model={L:.2f}\")\n",
    "    else:\n",
    "        print(\"Optimisation failed\")\n",
    "\n",
    "    # store the lambdas\n",
    "    Ls.append(L)\n",
    "\n",
    "    # lastly store the log-likelihoods for calculation of AICc\n",
    "    poissonLL.append(-1*w.fun)"
   ],
   "metadata": {
    "collapsed": false
   }
  },
  {
   "cell_type": "markdown",
   "source": [
    "Here, I would obtain the corrected AIC for the dataset"
   ],
   "metadata": {
    "collapsed": false
   }
  },
  {
   "cell_type": "code",
   "execution_count": 15,
   "outputs": [
    {
     "name": "stdout",
     "output_type": "stream",
     "text": [
      "W : Poisson k=1 LL=-7.42 AIC=16.84 AICc=18.22\n",
      "X : Poisson k=1 LL=-8.41 AIC=18.81 AICc=19.84\n",
      "Y : Poisson k=1 LL=-8.68 AIC=19.37 AICc=20.75\n",
      "Z : Poisson k=1 LL=-7.18 AIC=16.36 AICc=18.47\n"
     ]
    }
   ],
   "source": [
    "for i in range(len(poissonLL)):\n",
    "    s = \"Poisson\"\n",
    "    k=1\n",
    "    LL = poissonLL[i]\n",
    "    n = len(dataset[i])\n",
    "    AIC = 2 * k - 2 * LL\n",
    "    AICc = AIC + 2 * k * (k + 1) / (n - k - 1.1)\n",
    "    print(teams[i], f\": {s} k={k} LL={LL:.2f} AIC={AIC:.2f} AICc={AICc:.2f}\")"
   ],
   "metadata": {
    "collapsed": false
   }
  },
  {
   "cell_type": "markdown",
   "source": [
    "Lastly, to visualize the dataset and the fitted model."
   ],
   "metadata": {
    "collapsed": false
   }
  },
  {
   "cell_type": "code",
   "execution_count": 16,
   "outputs": [
    {
     "data": {
      "text/plain": "<Figure size 640x480 with 4 Axes>",
      "image/png": "[encoded data removed]"
     },
     "metadata": {},
     "output_type": "display_data"
    }
   ],
   "source": [
    "allX = np.array(range(6))\n",
    "allXPlt = np.array(range(7))\n",
    "\n",
    "def example_plot(ax,i):\n",
    "    allY = stats.poisson.pmf(allX, Ls[i])\n",
    "    ax.hist(dataset[i],bins=allXPlt,density=True,rwidth=0.8,label=\"Data\")\n",
    "    ax.scatter(allX+0.5,allY,color=\"red\",s=150,label=\"X $\\sim$ Pois($\\lambda$)\")\n",
    "    ax.set_xlabel('$x$, a single sample from the random variable $X$', fontsize=8)\n",
    "    ax.set_ylabel('$P(X = x)$', fontsize=8)\n",
    "    ax.set_title('Team '+teams[i], fontsize=14)\n",
    "    ax.legend()\n",
    "\n",
    "fig, axs = plt.subplots(nrows=2, ncols=2, constrained_layout=True)\n",
    "\n",
    "i = 0\n",
    "for ax in axs.flat:\n",
    "    example_plot(ax,i)\n",
    "    i += 1"
   ],
   "metadata": {
    "collapsed": false
   }
  },
  {
   "cell_type": "markdown",
   "source": [
    "## Question 4\n",
    "\n",
    "Task: reshape dataset D to use stacked format and fit model using Poisson Regression"
   ],
   "metadata": {
    "collapsed": false
   }
  },
  {
   "cell_type": "code",
   "execution_count": 17,
   "outputs": [],
   "source": [
    "# first I will reshape the dataset\n",
    "\n",
    "def reshape(df):\n",
    "    reshaped = pd.DataFrame(columns = ['Team', 'Goals'],index = np.arange(len(df.index)*2))\n",
    "\n",
    "    for i in df.index:\n",
    "        reshaped.loc[2*i, 'Team'] = df.loc[i, 'Team A']\n",
    "        reshaped.loc[2*i + 1, 'Team'] = df.loc[i, 'Team B']\n",
    "        reshaped.loc[2*i, 'Goals'] = df.loc[i, 'goal A']\n",
    "        reshaped.loc[2*i + 1, 'Goals'] = df.loc[i, 'goal B']\n",
    "\n",
    "    return reshaped\n"
   ],
   "metadata": {
    "collapsed": false
   }
  },
  {
   "cell_type": "code",
   "execution_count": 18,
   "outputs": [
    {
     "data": {
      "text/plain": "   Team  Goals\n0     X      1\n1     Y      1\n2     W      0\n3     X      0\n4     Z      1\n5     Y      4\n6     W      2\n7     X      3\n8     Z      2\n9     W      3\n10    X      0\n11    Y      1\n12    Z      1\n13    Y      1\n14    X      1\n15    Y      4\n16    X      2\n17    W      1\n18    W      2\n19    Z      5",
      "text/html": "<div>\n<style scoped>\n    .dataframe tbody tr th:only-of-type {\n        vertical-align: middle;\n    }\n\n    .dataframe tbody tr th {\n        vertical-align: top;\n    }\n\n    .dataframe thead th {\n        text-align: right;\n    }\n</style>\n<table border=\"1\" class=\"dataframe\">\n  <thead>\n    <tr style=\"text-align: right;\">\n      <th></th>\n      <th>Team</th>\n      <th>Goals</th>\n    </tr>\n  </thead>\n  <tbody>\n    <tr>\n      <th>0</th>\n      <td>X</td>\n      <td>1</td>\n    </tr>\n    <tr>\n      <th>1</th>\n      <td>Y</td>\n      <td>1</td>\n    </tr>\n    <tr>\n      <th>2</th>\n      <td>W</td>\n      <td>0</td>\n    </tr>\n    <tr>\n      <th>3</th>\n      <td>X</td>\n      <td>0</td>\n    </tr>\n    <tr>\n      <th>4</th>\n      <td>Z</td>\n      <td>1</td>\n    </tr>\n    <tr>\n      <th>5</th>\n      <td>Y</td>\n      <td>4</td>\n    </tr>\n    <tr>\n      <th>6</th>\n      <td>W</td>\n      <td>2</td>\n    </tr>\n    <tr>\n      <th>7</th>\n      <td>X</td>\n      <td>3</td>\n    </tr>\n    <tr>\n      <th>8</th>\n      <td>Z</td>\n      <td>2</td>\n    </tr>\n    <tr>\n      <th>9</th>\n      <td>W</td>\n      <td>3</td>\n    </tr>\n    <tr>\n      <th>10</th>\n      <td>X</td>\n      <td>0</td>\n    </tr>\n    <tr>\n      <th>11</th>\n      <td>Y</td>\n      <td>1</td>\n    </tr>\n    <tr>\n      <th>12</th>\n      <td>Z</td>\n      <td>1</td>\n    </tr>\n    <tr>\n      <th>13</th>\n      <td>Y</td>\n      <td>1</td>\n    </tr>\n    <tr>\n      <th>14</th>\n      <td>X</td>\n      <td>1</td>\n    </tr>\n    <tr>\n      <th>15</th>\n      <td>Y</td>\n      <td>4</td>\n    </tr>\n    <tr>\n      <th>16</th>\n      <td>X</td>\n      <td>2</td>\n    </tr>\n    <tr>\n      <th>17</th>\n      <td>W</td>\n      <td>1</td>\n    </tr>\n    <tr>\n      <th>18</th>\n      <td>W</td>\n      <td>2</td>\n    </tr>\n    <tr>\n      <th>19</th>\n      <td>Z</td>\n      <td>5</td>\n    </tr>\n  </tbody>\n</table>\n</div>"
     },
     "execution_count": 18,
     "metadata": {},
     "output_type": "execute_result"
    }
   ],
   "source": [
    "teams_and_goals = reshape(results_table)\n",
    "\n",
    "# first I will convert the teams into numerical values to avoid errors when passing into the GLM\n",
    "\n",
    "teams_and_goals['Goals'] = pd.to_numeric(teams_and_goals['Goals'])\n",
    "\n",
    "teams_and_goals"
   ],
   "metadata": {
    "collapsed": false
   }
  },
  {
   "cell_type": "code",
   "execution_count": 19,
   "outputs": [
    {
     "name": "stdout",
     "output_type": "stream",
     "text": [
      "                 Generalized Linear Model Regression Results                  \n",
      "==============================================================================\n",
      "Dep. Variable:                  Goals   No. Observations:                   20\n",
      "Model:                            GLM   Df Residuals:                       16\n",
      "Model Family:                 Poisson   Df Model:                            3\n",
      "Link Function:                    Log   Scale:                          1.0000\n",
      "Method:                          IRLS   Log-Likelihood:                -31.689\n",
      "Date:                Sat, 07 Jan 2023   Deviance:                       20.928\n",
      "Time:                        10:29:47   Pearson chi2:                     18.8\n",
      "No. Iterations:                     4   Pseudo R-squ. (CS):             0.1152\n",
      "Covariance Type:            nonrobust                                         \n",
      "==============================================================================\n",
      "                 coef    std err          z      P>|z|      [0.025      0.975]\n",
      "------------------------------------------------------------------------------\n",
      "Intercept      0.4700      0.354      1.329      0.184      -0.223       1.163\n",
      "Team[T.X]     -0.3159      0.518     -0.610      0.542      -1.330       0.699\n",
      "Team[T.Y]      0.3185      0.465      0.685      0.493      -0.592       1.229\n",
      "Team[T.Z]      0.3409      0.486      0.702      0.483      -0.611       1.293\n",
      "==============================================================================\n"
     ]
    }
   ],
   "source": [
    "# Now, fitting the Poisson model as a generalized linear model\n",
    "import statsmodels.formula.api as smf\n",
    "import statsmodels.api as sm\n",
    "\n",
    "model = smf.glm(formula = 'Goals ~ Team',\n",
    "                data = teams_and_goals,\n",
    "                family = sm.families.Poisson()).fit()\n",
    "\n",
    "print(model.summary())"
   ],
   "metadata": {
    "collapsed": false
   }
  },
  {
   "cell_type": "code",
   "execution_count": 20,
   "outputs": [
    {
     "name": "stdout",
     "output_type": "stream",
     "text": [
      "the estimated values for lambda for W, X, Y, Z are  1.60000000000048 1.1666666666976857 2.2000000000131275 2.2500000000390252 respectively, which is identical to the results of mean scoring rate obtained previously\n"
     ]
    }
   ],
   "source": [
    "est_lambdW = np.exp(model.params[0])\n",
    "est_lambdX = np.exp(model.params[1]+model.params[0])\n",
    "est_lambdY = np.exp(model.params[2]+model.params[0])\n",
    "est_lambdZ = np.exp(model.params[3]+model.params[0])\n",
    "print('the estimated values for lambda for W, X, Y, Z are ', est_lambdW, est_lambdX, est_lambdY, est_lambdZ, 'respectively, which is identical to the results of mean scoring rate obtained previously')\n"
   ],
   "metadata": {
    "collapsed": false
   }
  },
  {
   "cell_type": "markdown",
   "source": [
    "## Question 5\n",
    "\n",
    "Assume that if Team $k$ is ranked $r_k$, then the natural logarithm of mean number of goals per match scored by Team $k$ depends linearly on its rank via\n",
    "\\begin{align}\n",
    "\\text{log}(\\lambda_k) = \\alpha + \\beta r_k\n",
    "\\end{align}\n",
    "\n",
    "We know that\n",
    "\\begin{align}\n",
    "r_W &= 2\\\\\n",
    "r_X &= 4\\\\\n",
    "r_Y &= 3\\\\\n",
    "r_Z &= 1\n",
    "\\end{align}\n",
    "\n",
    "Task:\n",
    "1. Update the stacked dataframe to include column `Rank` and use poisson regression to fit model `Goals ~ Rank` to dataset D\n",
    "2. Report estimates of $\\alpha, \\beta$ and AICc of the fitted model\n",
    "3. Include scatter graph, one point per team, showing rank on x-axis and logarithm of goal scoring rate on y-axis. Add line corresponding to fitted values of $\\alpha$ and $\\beta$ to the graph.\n",
    "4. Explain how it shows the fitted values of $\\alpha$ and $\\beta$ are consistent with results from 3 and 4\n",
    "5. Which models fitted is the most parsimonious"
   ],
   "metadata": {
    "collapsed": false
   }
  },
  {
   "cell_type": "code",
   "execution_count": 21,
   "outputs": [],
   "source": [
    "def update_stack(df):\n",
    "    rank = [2,4,3,1]\n",
    "    for i in df.index:\n",
    "        df.loc[i,'Rank'] = rank[teams.index(df.loc[i, 'Team'])]\n",
    "    return df"
   ],
   "metadata": {
    "collapsed": false
   }
  },
  {
   "cell_type": "code",
   "execution_count": 22,
   "outputs": [],
   "source": [
    "teams_and_goals = reshape(results_table)\n",
    "teams_rank_goals = update_stack(teams_and_goals)\n",
    "teams_rank_goals['Rank'] = teams_rank_goals['Rank'].astype(int)\n",
    "teams_rank_goals['Rank'] = pd.to_numeric(teams_rank_goals['Rank'])\n",
    "teams_rank_goals['Goals'] = pd.to_numeric(teams_rank_goals['Goals'])"
   ],
   "metadata": {
    "collapsed": false
   }
  },
  {
   "cell_type": "code",
   "execution_count": 23,
   "outputs": [
    {
     "name": "stdout",
     "output_type": "stream",
     "text": [
      "                 Generalized Linear Model Regression Results                  \n",
      "==============================================================================\n",
      "Dep. Variable:                  Goals   No. Observations:                   20\n",
      "Model:                            GLM   Df Residuals:                       18\n",
      "Model Family:                 Poisson   Df Model:                            1\n",
      "Link Function:                    Log   Scale:                          1.0000\n",
      "Method:                          IRLS   Log-Likelihood:                -32.386\n",
      "Date:                Sat, 07 Jan 2023   Deviance:                       22.321\n",
      "Time:                        10:29:52   Pearson chi2:                     20.5\n",
      "No. Iterations:                     4   Pseudo R-squ. (CS):            0.05135\n",
      "Covariance Type:            nonrobust                                         \n",
      "==============================================================================\n",
      "                 coef    std err          z      P>|z|      [0.025      0.975]\n",
      "------------------------------------------------------------------------------\n",
      "Intercept      0.9580      0.410      2.337      0.019       0.155       1.761\n",
      "Rank          -0.1560      0.152     -1.026      0.305      -0.454       0.142\n",
      "==============================================================================\n"
     ]
    }
   ],
   "source": [
    "import statsmodels.formula.api as smf\n",
    "import statsmodels.api as sm\n",
    "\n",
    "model = smf.glm(formula = 'Goals ~ Rank',\n",
    "                data = teams_rank_goals,\n",
    "                family = sm.families.Poisson()).fit()\n",
    "\n",
    "print(model.summary())"
   ],
   "metadata": {
    "collapsed": false
   }
  },
  {
   "cell_type": "markdown",
   "source": [
    "Now plotting the scatter graph of logarithm of goal scoring rate against the rank"
   ],
   "metadata": {
    "collapsed": false
   }
  },
  {
   "cell_type": "code",
   "execution_count": 24,
   "outputs": [],
   "source": [
    "# I will then store the values of parameters for plotting\n",
    "params = model.params\n",
    "alpha = params[0]\n",
    "beta = params[1]"
   ],
   "metadata": {
    "collapsed": false
   }
  },
  {
   "cell_type": "code",
   "execution_count": 26,
   "outputs": [
    {
     "data": {
      "text/plain": "array([0.47000363, 0.15415068, 0.78845736, 0.81093022])"
     },
     "execution_count": 26,
     "metadata": {},
     "output_type": "execute_result"
    }
   ],
   "source": [
    "lambd = np.array([est_lambdW, est_lambdX, est_lambdY, est_lambdZ])\n",
    "rank = np.array([2,4,3,1])\n",
    "log_rate = np.log(lambd)\n",
    "log_rate"
   ],
   "metadata": {
    "collapsed": false
   }
  },
  {
   "cell_type": "code",
   "execution_count": 27,
   "outputs": [
    {
     "data": {
      "text/plain": "Text(0, 0.5, 'Log of goal scoring rate')"
     },
     "execution_count": 27,
     "metadata": {},
     "output_type": "execute_result"
    },
    {
     "data": {
      "text/plain": "<Figure size 640x480 with 1 Axes>",
      "image/png": "[encoded data removed]"
     },
     "metadata": {},
     "output_type": "display_data"
    }
   ],
   "source": [
    "# now, plotting the scatter plot AND the plot of predicted fit\n",
    "x = np.linspace(1,4,100)\n",
    "y = alpha + beta*x\n",
    "\n",
    "fig, ax = plt.subplots()\n",
    "ax.scatter(rank, log_rate)\n",
    "ax.plot(x,y)\n",
    "ax.set_title('Plot of log of goal scoring rate against rank')\n",
    "ax.set_xlabel('Rank')\n",
    "ax.set_ylabel('Log of goal scoring rate')"
   ],
   "metadata": {
    "collapsed": false
   }
  },
  {
   "cell_type": "markdown",
   "source": [
    "## Part One Section B"
   ],
   "metadata": {
    "collapsed": false
   }
  },
  {
   "cell_type": "markdown",
   "source": [
    "### Question 6\n",
    "\n",
    "Assume that goal scoring rate for team $k$ follows\n",
    "\\begin{align}\n",
    "\\text{log}(\\lambda_k)&= \\alpha + \\beta r_k\n",
    "\\end{align}\n",
    "where $r_k$ is the team's ranking, let $\\alpha = 1$, $\\beta = -0.05$.\n",
    "\n",
    "Task\n",
    "1. Simulate World Cup as a knockout tournament between 32 teams using Poisson model with $\\lambda_k$ as the goal scoring rate of $k^{th}$ team\n",
    "\n",
    "KEY: print details of single example tournament\n",
    "\n",
    "2. Run code 1000 times and estimate the probability of each team winning the entire tournament\n",
    "\n"
   ],
   "metadata": {
    "collapsed": false
   }
  },
  {
   "cell_type": "code",
   "execution_count": 28,
   "outputs": [],
   "source": [
    "teams_df = pd.read_csv('Datasets/2022_teamID.csv')\n",
    "rank_df = pd.read_csv('Datasets/2022_rankings.csv')"
   ],
   "metadata": {
    "collapsed": false
   }
  },
  {
   "cell_type": "code",
   "execution_count": 29,
   "outputs": [
    {
     "name": "stdout",
     "output_type": "stream",
     "text": [
      "  Group  ID         Team Home\n",
      "0     A   1        Qatar  Yes\n",
      "1     A   2      Ecuador   No\n",
      "2     A   3      Senegal   No\n",
      "3     A   4  Netherlands   No\n",
      "4     B   1      England   No\n"
     ]
    }
   ],
   "source": [
    "print(teams_df.head())"
   ],
   "metadata": {
    "collapsed": false
   }
  },
  {
   "cell_type": "code",
   "execution_count": 30,
   "outputs": [
    {
     "name": "stdout",
     "output_type": "stream",
     "text": [
      "        Team  Rank  Rating  Unnamed: 3  Unnamed: 4  Unnamed: 5\n",
      "0     Brazil   1.0  1841.0         NaN         NaN         NaN\n",
      "1    Belgium   2.0  1817.0         NaN         NaN         NaN\n",
      "2  Argentina   3.0  1774.0         NaN         NaN         NaN\n",
      "3     France   4.0  1760.0         NaN         NaN         NaN\n",
      "4    England   5.0  1728.0         NaN         NaN         NaN\n"
     ]
    }
   ],
   "source": [
    "print(rank_df.head())"
   ],
   "metadata": {
    "collapsed": false
   }
  },
  {
   "cell_type": "code",
   "execution_count": 31,
   "outputs": [],
   "source": [
    "# First, I will define how the score rate is calculated\n",
    "def score_rate(ranking, alpha = 1, beta = -0.05):\n",
    "    return np.exp(alpha + beta * ranking)"
   ],
   "metadata": {
    "collapsed": false
   }
  },
  {
   "cell_type": "code",
   "execution_count": 32,
   "outputs": [
    {
     "data": {
      "text/plain": "(73, 32)"
     },
     "execution_count": 32,
     "metadata": {},
     "output_type": "execute_result"
    }
   ],
   "source": [
    "# I will then merge the two dataframes on country and perform some data cleaning\n",
    "combined = pd.merge(rank_df, teams_df,how = 'outer', on = 'Team')\n",
    "combined = combined[['Team', 'Rank', 'Rating', 'Group', 'ID', 'Home']]\n",
    "qualified = combined.dropna(subset=['Group']) #lastly I will only select the teams that are qualified in the world cup\n",
    "len(combined), len(qualified)"
   ],
   "metadata": {
    "collapsed": false
   }
  },
  {
   "cell_type": "code",
   "execution_count": 33,
   "outputs": [
    {
     "name": "stderr",
     "output_type": "stream",
     "text": [
      "/var/folders/yb/bffvyrdd7gn289hkvgkcldn40000gn/T/ipykernel_60044/1089179734.py:2: SettingWithCopyWarning: \n",
      "A value is trying to be set on a copy of a slice from a DataFrame.\n",
      "Try using .loc[row_indexer,col_indexer] = value instead\n",
      "\n",
      "See the caveats in the documentation: https://pandas.pydata.org/pandas-docs/stable/user_guide/indexing.html#returning-a-view-versus-a-copy\n",
      "  qualified['Goal Rate'] = score_rate(qualified['Rank'])\n"
     ]
    }
   ],
   "source": [
    "# now, I will then add a column that denotes the goal scoring rate based on calculations from each team's ranking\n",
    "qualified['Goal Rate'] = score_rate(qualified['Rank'])"
   ],
   "metadata": {
    "collapsed": false
   }
  },
  {
   "cell_type": "markdown",
   "source": [
    "For simplicity due to this particular question, I will only keep the columns 'Teams' and 'Goal Rate' since they are what matters if this is a simple knockout tournament"
   ],
   "metadata": {
    "collapsed": false
   }
  },
  {
   "cell_type": "code",
   "execution_count": 34,
   "outputs": [],
   "source": [
    "round_32 = qualified[['Team', 'Goal Rate']]"
   ],
   "metadata": {
    "collapsed": false
   }
  },
  {
   "cell_type": "markdown",
   "source": [
    "Recall that I have previously defined the function `single_game_result` that pass in the arguments `lambdA, lambdB` and returns the list `[goalA, goalB, result]`, ie predicted goals scored by each team and the final result (A - A win; B - B win; D - draw)"
   ],
   "metadata": {
    "collapsed": false
   }
  },
  {
   "cell_type": "code",
   "execution_count": 35,
   "outputs": [
    {
     "name": "stdout",
     "output_type": "stream",
     "text": [
      "assigned pairs (23, 5)\n",
      "assigned pairs (30, 12)\n",
      "assigned pairs (2, 1)\n",
      "assigned pairs (13, 0)\n",
      "assigned pairs (17, 6)\n",
      "assigned pairs (24, 29)\n",
      "assigned pairs (14, 28)\n",
      "assigned pairs (22, 8)\n",
      "assigned pairs (31, 9)\n",
      "assigned pairs (21, 11)\n",
      "assigned pairs (4, 25)\n",
      "assigned pairs (15, 3)\n",
      "assigned pairs (26, 19)\n",
      "assigned pairs (20, 18)\n",
      "assigned pairs (16, 7)\n",
      "assigned pairs (27, 10)\n"
     ]
    }
   ],
   "source": [
    "# First I would randomly allocate the 16 pairs by generating the 32 numbers from 0 to 31, with each two consecutive numbers denoting a pair\n",
    "\n",
    "pairs_32 = np.random.choice(32,32,replace=False) # using replace = False I make sure that no pair is repeated\n",
    "for i in range(1, len(pairs_32),2):\n",
    "    print('assigned pairs', (pairs_32[i-1], pairs_32[i]))"
   ],
   "metadata": {
    "collapsed": false
   }
  },
  {
   "cell_type": "code",
   "execution_count": 36,
   "outputs": [
    {
     "data": {
      "text/plain": "             Team  Goal Rate\n23        Tunisia   0.606531\n5           Spain   1.915541\n30   Saudi Arabia   0.212248\n12        Uruguay   1.349859\n2       Argentina   2.339647\n1         Belgium   2.459603\n13    Switzerland   1.284025\n0          Brazil   2.585710\n17           Iran   1.000000\n6     Netherlands   1.822119\n24     Costa Rica   0.576950\n29          Qatar   0.223130\n14  United States   1.221403\n28        Ecuador   0.301194\n22    South Korea   0.670320\n8         Denmark   1.648721\n31          Ghana   0.128735\n9         Germany   1.568312\n21         Poland   0.740818\n11         Mexico   1.419068\n4         England   2.117000\n25      Australia   0.406570\n15        Senegal   1.105171\n3          France   2.225541\n26         Canada   0.349938\n19        Morocco   0.904837\n20          Japan   0.818731\n18         Serbia   0.951229\n16          Wales   1.051271\n7        Portugal   1.733253\n27       Cameroon   0.316637\n10        Croatia   1.491825",
      "text/html": "<div>\n<style scoped>\n    .dataframe tbody tr th:only-of-type {\n        vertical-align: middle;\n    }\n\n    .dataframe tbody tr th {\n        vertical-align: top;\n    }\n\n    .dataframe thead th {\n        text-align: right;\n    }\n</style>\n<table border=\"1\" class=\"dataframe\">\n  <thead>\n    <tr style=\"text-align: right;\">\n      <th></th>\n      <th>Team</th>\n      <th>Goal Rate</th>\n    </tr>\n  </thead>\n  <tbody>\n    <tr>\n      <th>23</th>\n      <td>Tunisia</td>\n      <td>0.606531</td>\n    </tr>\n    <tr>\n      <th>5</th>\n      <td>Spain</td>\n      <td>1.915541</td>\n    </tr>\n    <tr>\n      <th>30</th>\n      <td>Saudi Arabia</td>\n      <td>0.212248</td>\n    </tr>\n    <tr>\n      <th>12</th>\n      <td>Uruguay</td>\n      <td>1.349859</td>\n    </tr>\n    <tr>\n      <th>2</th>\n      <td>Argentina</td>\n      <td>2.339647</td>\n    </tr>\n    <tr>\n      <th>1</th>\n      <td>Belgium</td>\n      <td>2.459603</td>\n    </tr>\n    <tr>\n      <th>13</th>\n      <td>Switzerland</td>\n      <td>1.284025</td>\n    </tr>\n    <tr>\n      <th>0</th>\n      <td>Brazil</td>\n      <td>2.585710</td>\n    </tr>\n    <tr>\n      <th>17</th>\n      <td>Iran</td>\n      <td>1.000000</td>\n    </tr>\n    <tr>\n      <th>6</th>\n      <td>Netherlands</td>\n      <td>1.822119</td>\n    </tr>\n    <tr>\n      <th>24</th>\n      <td>Costa Rica</td>\n      <td>0.576950</td>\n    </tr>\n    <tr>\n      <th>29</th>\n      <td>Qatar</td>\n      <td>0.223130</td>\n    </tr>\n    <tr>\n      <th>14</th>\n      <td>United States</td>\n      <td>1.221403</td>\n    </tr>\n    <tr>\n      <th>28</th>\n      <td>Ecuador</td>\n      <td>0.301194</td>\n    </tr>\n    <tr>\n      <th>22</th>\n      <td>South Korea</td>\n      <td>0.670320</td>\n    </tr>\n    <tr>\n      <th>8</th>\n      <td>Denmark</td>\n      <td>1.648721</td>\n    </tr>\n    <tr>\n      <th>31</th>\n      <td>Ghana</td>\n      <td>0.128735</td>\n    </tr>\n    <tr>\n      <th>9</th>\n      <td>Germany</td>\n      <td>1.568312</td>\n    </tr>\n    <tr>\n      <th>21</th>\n      <td>Poland</td>\n      <td>0.740818</td>\n    </tr>\n    <tr>\n      <th>11</th>\n      <td>Mexico</td>\n      <td>1.419068</td>\n    </tr>\n    <tr>\n      <th>4</th>\n      <td>England</td>\n      <td>2.117000</td>\n    </tr>\n    <tr>\n      <th>25</th>\n      <td>Australia</td>\n      <td>0.406570</td>\n    </tr>\n    <tr>\n      <th>15</th>\n      <td>Senegal</td>\n      <td>1.105171</td>\n    </tr>\n    <tr>\n      <th>3</th>\n      <td>France</td>\n      <td>2.225541</td>\n    </tr>\n    <tr>\n      <th>26</th>\n      <td>Canada</td>\n      <td>0.349938</td>\n    </tr>\n    <tr>\n      <th>19</th>\n      <td>Morocco</td>\n      <td>0.904837</td>\n    </tr>\n    <tr>\n      <th>20</th>\n      <td>Japan</td>\n      <td>0.818731</td>\n    </tr>\n    <tr>\n      <th>18</th>\n      <td>Serbia</td>\n      <td>0.951229</td>\n    </tr>\n    <tr>\n      <th>16</th>\n      <td>Wales</td>\n      <td>1.051271</td>\n    </tr>\n    <tr>\n      <th>7</th>\n      <td>Portugal</td>\n      <td>1.733253</td>\n    </tr>\n    <tr>\n      <th>27</th>\n      <td>Cameroon</td>\n      <td>0.316637</td>\n    </tr>\n    <tr>\n      <th>10</th>\n      <td>Croatia</td>\n      <td>1.491825</td>\n    </tr>\n  </tbody>\n</table>\n</div>"
     },
     "execution_count": 36,
     "metadata": {},
     "output_type": "execute_result"
    }
   ],
   "source": [
    "# I would then re-index the df such that every two rows corresponds to the match between teams in a pair\n",
    "round_32 = round_32.reindex(pairs_32)\n",
    "round_32"
   ],
   "metadata": {
    "collapsed": false
   }
  },
  {
   "cell_type": "code",
   "execution_count": 37,
   "outputs": [
    {
     "name": "stdout",
     "output_type": "stream",
     "text": [
      "0 2 B\n",
      "0 1 B\n",
      "1 3 B\n",
      "3 4 B\n",
      "1 1 D\n",
      "2 0 A\n",
      "2 2 D\n",
      "0 0 D\n",
      "0 5 B\n",
      "0 1 B\n",
      "2 1 A\n",
      "0 4 B\n",
      "0 0 D\n",
      "1 1 D\n",
      "1 3 B\n",
      "0 5 B\n"
     ]
    }
   ],
   "source": [
    "round_16 = pd.DataFrame(columns=['Team', 'Goal Rate'], index=np.arange(16))\n",
    "for i in range(len(round_16)):\n",
    "    goalA, goalB, result = single_game_result(round_32.loc[pairs_32[2*i],'Goal Rate'],round_32.loc[pairs_32[2*i + 1],'Goal Rate'])\n",
    "    print(goalA, goalB, result)\n",
    "    if result == 'A':\n",
    "        round_16.loc[i, :] = round_32.loc[pairs_32[2*i],:]\n",
    "    elif result == 'B':\n",
    "        round_16.loc[i,:] = round_32.loc[pairs_32[2*i+1],:]\n",
    "    else:\n",
    "        n, p = 1, 0.5\n",
    "        s = np.random.binomial(n,p) #this defines the outcome from a single bernoulli trial\n",
    "        if s == 0:\n",
    "            round_16.loc[i, :] = round_32.loc[pairs_32[2*i],:]\n",
    "        else:\n",
    "            round_16.loc[i,:] = round_32.loc[pairs_32[2*i+1],:]"
   ],
   "metadata": {
    "collapsed": false
   }
  },
  {
   "cell_type": "markdown",
   "source": [
    "This shows the result from one round of elimination"
   ],
   "metadata": {
    "collapsed": false
   }
  },
  {
   "cell_type": "code",
   "execution_count": 38,
   "outputs": [
    {
     "data": {
      "text/plain": "           Team Goal Rate\n0         Spain  1.915541\n1       Uruguay  1.349859\n2       Belgium  2.459603\n3        Brazil   2.58571\n4   Netherlands  1.822119\n5    Costa Rica   0.57695\n6       Ecuador  0.301194\n7       Denmark  1.648721\n8       Germany  1.568312\n9        Mexico  1.419068\n10      England     2.117\n11       France  2.225541\n12      Morocco  0.904837\n13       Serbia  0.951229\n14     Portugal  1.733253\n15      Croatia  1.491825",
      "text/html": "<div>\n<style scoped>\n    .dataframe tbody tr th:only-of-type {\n        vertical-align: middle;\n    }\n\n    .dataframe tbody tr th {\n        vertical-align: top;\n    }\n\n    .dataframe thead th {\n        text-align: right;\n    }\n</style>\n<table border=\"1\" class=\"dataframe\">\n  <thead>\n    <tr style=\"text-align: right;\">\n      <th></th>\n      <th>Team</th>\n      <th>Goal Rate</th>\n    </tr>\n  </thead>\n  <tbody>\n    <tr>\n      <th>0</th>\n      <td>Spain</td>\n      <td>1.915541</td>\n    </tr>\n    <tr>\n      <th>1</th>\n      <td>Uruguay</td>\n      <td>1.349859</td>\n    </tr>\n    <tr>\n      <th>2</th>\n      <td>Belgium</td>\n      <td>2.459603</td>\n    </tr>\n    <tr>\n      <th>3</th>\n      <td>Brazil</td>\n      <td>2.58571</td>\n    </tr>\n    <tr>\n      <th>4</th>\n      <td>Netherlands</td>\n      <td>1.822119</td>\n    </tr>\n    <tr>\n      <th>5</th>\n      <td>Costa Rica</td>\n      <td>0.57695</td>\n    </tr>\n    <tr>\n      <th>6</th>\n      <td>Ecuador</td>\n      <td>0.301194</td>\n    </tr>\n    <tr>\n      <th>7</th>\n      <td>Denmark</td>\n      <td>1.648721</td>\n    </tr>\n    <tr>\n      <th>8</th>\n      <td>Germany</td>\n      <td>1.568312</td>\n    </tr>\n    <tr>\n      <th>9</th>\n      <td>Mexico</td>\n      <td>1.419068</td>\n    </tr>\n    <tr>\n      <th>10</th>\n      <td>England</td>\n      <td>2.117</td>\n    </tr>\n    <tr>\n      <th>11</th>\n      <td>France</td>\n      <td>2.225541</td>\n    </tr>\n    <tr>\n      <th>12</th>\n      <td>Morocco</td>\n      <td>0.904837</td>\n    </tr>\n    <tr>\n      <th>13</th>\n      <td>Serbia</td>\n      <td>0.951229</td>\n    </tr>\n    <tr>\n      <th>14</th>\n      <td>Portugal</td>\n      <td>1.733253</td>\n    </tr>\n    <tr>\n      <th>15</th>\n      <td>Croatia</td>\n      <td>1.491825</td>\n    </tr>\n  </tbody>\n</table>\n</div>"
     },
     "execution_count": 38,
     "metadata": {},
     "output_type": "execute_result"
    }
   ],
   "source": [
    "round_16"
   ],
   "metadata": {
    "collapsed": false
   }
  },
  {
   "cell_type": "markdown",
   "source": [
    "I will now repeat the same process for round 16, round 8, round 4, and round 2"
   ],
   "metadata": {
    "collapsed": false
   }
  },
  {
   "cell_type": "code",
   "execution_count": 39,
   "outputs": [
    {
     "name": "stdout",
     "output_type": "stream",
     "text": [
      "assigned pairs (13, 8)\n",
      "assigned pairs (1, 7)\n",
      "assigned pairs (9, 0)\n",
      "assigned pairs (10, 12)\n",
      "assigned pairs (2, 4)\n",
      "assigned pairs (3, 5)\n",
      "assigned pairs (6, 15)\n",
      "assigned pairs (14, 11)\n",
      "0 1 B\n",
      "0 2 B\n",
      "1 5 B\n",
      "1 0 A\n",
      "4 3 A\n",
      "1 0 A\n",
      "0 2 B\n",
      "1 0 A\n"
     ]
    }
   ],
   "source": [
    "# for round 16\n",
    "\n",
    "pairs_16 = np.random.choice(16,16,replace=False) # using replace = False I make sure that no pair is repeated\n",
    "for i in range(1, len(pairs_16),2):\n",
    "    print('assigned pairs', (pairs_16[i-1], pairs_16[i]))\n",
    "\n",
    "round_16 = round_16.reindex(pairs_16)\n",
    "\n",
    "round_8 = pd.DataFrame(columns=['Team', 'Goal Rate'], index=np.arange(8))\n",
    "for i in range(len(round_8)):\n",
    "    goalA, goalB, result = single_game_result(round_16.loc[pairs_16[2*i],'Goal Rate'],round_16.loc[pairs_16[2*i + 1],'Goal Rate'])\n",
    "    print(goalA, goalB, result)\n",
    "    if result == 'A':\n",
    "        round_8.loc[i, :] = round_16.loc[pairs_16[2*i],:]\n",
    "    elif result == 'B':\n",
    "        round_8.loc[i,:] = round_16.loc[pairs_16[2*i+1],:]\n",
    "    else:\n",
    "        n, p = 1, 0.5\n",
    "        s = np.random.binomial(n,p) #this defines the outcome from a single bernoulli trial\n",
    "        if s == 0:\n",
    "            round_8.loc[i, :] = round_16.loc[pairs_16[2*i],:]\n",
    "        else:\n",
    "            round_8.loc[i,:] = round_16.loc[pairs_16[2*i+1],:]"
   ],
   "metadata": {
    "collapsed": false
   }
  },
  {
   "cell_type": "code",
   "execution_count": 40,
   "outputs": [
    {
     "data": {
      "text/plain": "       Team Goal Rate\n0   Germany  1.568312\n1   Denmark  1.648721\n2     Spain  1.915541\n3   England     2.117\n4   Belgium  2.459603\n5    Brazil   2.58571\n6   Croatia  1.491825\n7  Portugal  1.733253",
      "text/html": "<div>\n<style scoped>\n    .dataframe tbody tr th:only-of-type {\n        vertical-align: middle;\n    }\n\n    .dataframe tbody tr th {\n        vertical-align: top;\n    }\n\n    .dataframe thead th {\n        text-align: right;\n    }\n</style>\n<table border=\"1\" class=\"dataframe\">\n  <thead>\n    <tr style=\"text-align: right;\">\n      <th></th>\n      <th>Team</th>\n      <th>Goal Rate</th>\n    </tr>\n  </thead>\n  <tbody>\n    <tr>\n      <th>0</th>\n      <td>Germany</td>\n      <td>1.568312</td>\n    </tr>\n    <tr>\n      <th>1</th>\n      <td>Denmark</td>\n      <td>1.648721</td>\n    </tr>\n    <tr>\n      <th>2</th>\n      <td>Spain</td>\n      <td>1.915541</td>\n    </tr>\n    <tr>\n      <th>3</th>\n      <td>England</td>\n      <td>2.117</td>\n    </tr>\n    <tr>\n      <th>4</th>\n      <td>Belgium</td>\n      <td>2.459603</td>\n    </tr>\n    <tr>\n      <th>5</th>\n      <td>Brazil</td>\n      <td>2.58571</td>\n    </tr>\n    <tr>\n      <th>6</th>\n      <td>Croatia</td>\n      <td>1.491825</td>\n    </tr>\n    <tr>\n      <th>7</th>\n      <td>Portugal</td>\n      <td>1.733253</td>\n    </tr>\n  </tbody>\n</table>\n</div>"
     },
     "execution_count": 40,
     "metadata": {},
     "output_type": "execute_result"
    }
   ],
   "source": [
    "round_8"
   ],
   "metadata": {
    "collapsed": false
   }
  },
  {
   "cell_type": "code",
   "execution_count": 41,
   "outputs": [
    {
     "name": "stdout",
     "output_type": "stream",
     "text": [
      "assigned pairs (5, 2)\n",
      "assigned pairs (3, 1)\n",
      "assigned pairs (0, 6)\n",
      "assigned pairs (7, 4)\n",
      "2 2 D\n",
      "0 2 B\n",
      "0 3 B\n",
      "3 2 A\n"
     ]
    }
   ],
   "source": [
    "# for round 8\n",
    "\n",
    "pairs_8 = np.random.choice(8,8,replace=False) # using replace = False I make sure that no pair is repeated\n",
    "for i in range(1, len(pairs_8),2):\n",
    "    print('assigned pairs', (pairs_8[i-1], pairs_8[i]))\n",
    "\n",
    "round_8 = round_8.reindex(pairs_8)\n",
    "\n",
    "round_4 = pd.DataFrame(columns=['Team', 'Goal Rate'], index=np.arange(4))\n",
    "for i in range(len(round_4)):\n",
    "    goalA, goalB, result = single_game_result(round_8.loc[pairs_8[2*i],'Goal Rate'],round_8.loc[pairs_8[2*i + 1],'Goal Rate'])\n",
    "    print(goalA, goalB, result)\n",
    "    if result == 'A':\n",
    "        round_4.loc[i, :] = round_8.loc[pairs_8[2*i],:]\n",
    "    elif result == 'B':\n",
    "        round_4.loc[i,:] = round_8.loc[pairs_8[2*i+1],:]\n",
    "    else:\n",
    "        n, p = 1, 0.5\n",
    "        s = np.random.binomial(n,p) #this defines the outcome from a single bernoulli trial\n",
    "        if s == 0:\n",
    "            round_4.loc[i, :] = round_8.loc[pairs_8[2*i],:]\n",
    "        else:\n",
    "            round_4.loc[i,:] = round_8.loc[pairs_8[2*i+1],:]"
   ],
   "metadata": {
    "collapsed": false
   }
  },
  {
   "cell_type": "code",
   "execution_count": 42,
   "outputs": [
    {
     "data": {
      "text/plain": "       Team Goal Rate\n0    Brazil   2.58571\n1   Denmark  1.648721\n2   Croatia  1.491825\n3  Portugal  1.733253",
      "text/html": "<div>\n<style scoped>\n    .dataframe tbody tr th:only-of-type {\n        vertical-align: middle;\n    }\n\n    .dataframe tbody tr th {\n        vertical-align: top;\n    }\n\n    .dataframe thead th {\n        text-align: right;\n    }\n</style>\n<table border=\"1\" class=\"dataframe\">\n  <thead>\n    <tr style=\"text-align: right;\">\n      <th></th>\n      <th>Team</th>\n      <th>Goal Rate</th>\n    </tr>\n  </thead>\n  <tbody>\n    <tr>\n      <th>0</th>\n      <td>Brazil</td>\n      <td>2.58571</td>\n    </tr>\n    <tr>\n      <th>1</th>\n      <td>Denmark</td>\n      <td>1.648721</td>\n    </tr>\n    <tr>\n      <th>2</th>\n      <td>Croatia</td>\n      <td>1.491825</td>\n    </tr>\n    <tr>\n      <th>3</th>\n      <td>Portugal</td>\n      <td>1.733253</td>\n    </tr>\n  </tbody>\n</table>\n</div>"
     },
     "execution_count": 42,
     "metadata": {},
     "output_type": "execute_result"
    }
   ],
   "source": [
    "round_4"
   ],
   "metadata": {
    "collapsed": false
   }
  },
  {
   "cell_type": "code",
   "execution_count": 43,
   "outputs": [
    {
     "name": "stdout",
     "output_type": "stream",
     "text": [
      "assigned pairs (2, 0)\n",
      "assigned pairs (3, 1)\n",
      "0 1 B\n",
      "0 1 B\n"
     ]
    }
   ],
   "source": [
    "# for round 4\n",
    "\n",
    "pairs_4 = np.random.choice(4,4,replace=False) # using replace = False I make sure that no pair is repeated\n",
    "for i in range(1, len(pairs_4),2):\n",
    "    print('assigned pairs', (pairs_4[i-1], pairs_4[i]))\n",
    "\n",
    "round_4 = round_4.reindex(pairs_4)\n",
    "\n",
    "round_2 = pd.DataFrame(columns=['Team', 'Goal Rate'], index=np.arange(2))\n",
    "for i in range(len(round_2)):\n",
    "    goalA, goalB, result = single_game_result(round_4.loc[pairs_4[2*i],'Goal Rate'],round_4.loc[pairs_4[2*i + 1],'Goal Rate'])\n",
    "    print(goalA, goalB, result)\n",
    "    if result == 'A':\n",
    "        round_2.loc[i, :] = round_4.loc[pairs_4[2*i],:]\n",
    "    elif result == 'B':\n",
    "        round_2.loc[i,:] = round_4.loc[pairs_4[2*i+1],:]\n",
    "    else:\n",
    "        n, p = 1, 0.5\n",
    "        s = np.random.binomial(n,p) #this defines the outcome from a single bernoulli trial\n",
    "        if s == 0:\n",
    "            round_2.loc[i, :] = round_4.loc[pairs_4[2*i],:]\n",
    "        else:\n",
    "            round_2.loc[i,:] = round_4.loc[pairs_4[2*i+1],:]"
   ],
   "metadata": {
    "collapsed": false
   }
  },
  {
   "cell_type": "code",
   "execution_count": 44,
   "outputs": [
    {
     "data": {
      "text/plain": "      Team Goal Rate\n0   Brazil   2.58571\n1  Denmark  1.648721",
      "text/html": "<div>\n<style scoped>\n    .dataframe tbody tr th:only-of-type {\n        vertical-align: middle;\n    }\n\n    .dataframe tbody tr th {\n        vertical-align: top;\n    }\n\n    .dataframe thead th {\n        text-align: right;\n    }\n</style>\n<table border=\"1\" class=\"dataframe\">\n  <thead>\n    <tr style=\"text-align: right;\">\n      <th></th>\n      <th>Team</th>\n      <th>Goal Rate</th>\n    </tr>\n  </thead>\n  <tbody>\n    <tr>\n      <th>0</th>\n      <td>Brazil</td>\n      <td>2.58571</td>\n    </tr>\n    <tr>\n      <th>1</th>\n      <td>Denmark</td>\n      <td>1.648721</td>\n    </tr>\n  </tbody>\n</table>\n</div>"
     },
     "execution_count": 44,
     "metadata": {},
     "output_type": "execute_result"
    }
   ],
   "source": [
    "round_2"
   ],
   "metadata": {
    "collapsed": false
   }
  },
  {
   "cell_type": "code",
   "execution_count": 45,
   "outputs": [
    {
     "name": "stdout",
     "output_type": "stream",
     "text": [
      "assigned pairs (1, 0)\n",
      "0 2 B\n"
     ]
    }
   ],
   "source": [
    "# for the championship\n",
    "\n",
    "pairs_2 = np.random.choice(2,2,replace=False) # using replace = False I make sure that no pair is repeated\n",
    "for i in range(1, len(pairs_2),2):\n",
    "    print('assigned pairs', (pairs_2[i-1], pairs_2[i]))\n",
    "\n",
    "round_2 = round_2.reindex(pairs_2)\n",
    "\n",
    "round_1 = pd.DataFrame(columns=['Team', 'Goal Rate'], index=np.arange(1))\n",
    "for i in range(len(round_1)):\n",
    "    goalA, goalB, result = single_game_result(round_2.loc[pairs_2[2*i],'Goal Rate'],round_2.loc[pairs_2[2*i + 1],'Goal Rate'])\n",
    "    print(goalA, goalB, result)\n",
    "    if result == 'A':\n",
    "        round_1.loc[i, :] = round_2.loc[pairs_2[2*i],:]\n",
    "    elif result == 'B':\n",
    "        round_1.loc[i,:] = round_2.loc[pairs_2[2*i+1],:]\n",
    "    else:\n",
    "        n, p = 1, 0.5\n",
    "        s = np.random.binomial(n,p) #this defines the outcome from a single bernoulli trial\n",
    "        if s == 0:\n",
    "            round_1.loc[i, :] = round_2.loc[pairs_2[2*i],:]\n",
    "        else:\n",
    "            round_1.loc[i,:] = round_2.loc[pairs_2[2*i+1],:]"
   ],
   "metadata": {
    "collapsed": false
   }
  },
  {
   "cell_type": "markdown",
   "source": [
    "And finally the champion for this one single round of simulation is determined"
   ],
   "metadata": {
    "collapsed": false
   }
  },
  {
   "cell_type": "code",
   "execution_count": 46,
   "outputs": [
    {
     "name": "stdout",
     "output_type": "stream",
     "text": [
      "The champion for this single simulation is Brazil\n"
     ]
    }
   ],
   "source": [
    "champion = round_1.loc[0,'Team']\n",
    "print(\"The champion for this single simulation is\" , champion)"
   ],
   "metadata": {
    "collapsed": false
   }
  },
  {
   "cell_type": "markdown",
   "source": [
    "Now, to run the simulation 1000 times, we must define a functions that perform the task on each part of the knockout and iterate"
   ],
   "metadata": {
    "collapsed": false
   }
  },
  {
   "cell_type": "code",
   "execution_count": 50,
   "outputs": [],
   "source": [
    "# this function outputs the randomly reordered dataframe given an input dataframe\n",
    "def reorder(df):\n",
    "    n = len(df)\n",
    "    pairs = np.random.choice(n,n,replace=False)\n",
    "    df = df.reindex(pairs)\n",
    "    return df"
   ],
   "metadata": {
    "collapsed": false
   }
  },
  {
   "cell_type": "code",
   "execution_count": 51,
   "outputs": [],
   "source": [
    "# this function passes in a randomly reordered df and performs knockout as shown above\n",
    "def knockout(df):\n",
    "    n = len(df)\n",
    "    new_df = pd.DataFrame(columns=['Team', 'Goal Rate'], index=np.arange(n/2))\n",
    "    pairs = df.index.to_list()\n",
    "\n",
    "    for i in range(len(new_df)):\n",
    "        goalA, goalB, result = single_game_result(df.loc[pairs[2*i],'Goal Rate'],df.loc[pairs[2*i + 1],'Goal Rate'])\n",
    "        if result == 'A':\n",
    "            new_df.loc[i, :] = df.loc[pairs[2*i],:]\n",
    "        elif result == 'B':\n",
    "            new_df.loc[i,:] = df.loc[pairs[2*i+1],:]\n",
    "        else:\n",
    "            n, p = 1, 0.5\n",
    "            s = np.random.binomial(n,p) #this defines the outcome from a single bernoulli trial\n",
    "            if s == 0:\n",
    "                new_df.loc[i, :] = df.loc[pairs[2*i],:]\n",
    "            else:\n",
    "                new_df.loc[i,:] = df.loc[pairs[2*i+1],:]\n",
    "    return new_df\n"
   ],
   "metadata": {
    "collapsed": false
   }
  },
  {
   "cell_type": "markdown",
   "source": [
    "We are now ready to run the simulation 1000 times. For every iteration we will still begin with the `round_32` data since it is unchanged."
   ],
   "metadata": {
    "collapsed": false
   }
  },
  {
   "cell_type": "code",
   "execution_count": 52,
   "outputs": [],
   "source": [
    "# here I will define a new dict to tally the number of wins for each team\n",
    "teams = round_32['Team'].values.tolist()\n",
    "tally = {key: 0 for key in teams}"
   ],
   "metadata": {
    "collapsed": false
   }
  },
  {
   "cell_type": "code",
   "execution_count": 53,
   "outputs": [
    {
     "name": "stdout",
     "output_type": "stream",
     "text": [
      "The champion for this single simulation is France\n",
      "The champion for this single simulation is Argentina\n",
      "The champion for this single simulation is France\n",
      "The champion for this single simulation is Switzerland\n",
      "The champion for this single simulation is Belgium\n",
      "The champion for this single simulation is Belgium\n",
      "The champion for this single simulation is Brazil\n",
      "The champion for this single simulation is Brazil\n",
      "The champion for this single simulation is Brazil\n",
      "The champion for this single simulation is France\n",
      "The champion for this single simulation is Germany\n",
      "The champion for this single simulation is Denmark\n",
      "The champion for this single simulation is Belgium\n",
      "The champion for this single simulation is Spain\n",
      "The champion for this single simulation is Netherlands\n",
      "The champion for this single simulation is Wales\n",
      "The champion for this single simulation is Argentina\n",
      "The champion for this single simulation is France\n",
      "The champion for this single simulation is Belgium\n",
      "The champion for this single simulation is France\n",
      "The champion for this single simulation is Belgium\n",
      "The champion for this single simulation is Spain\n",
      "The champion for this single simulation is Belgium\n",
      "The champion for this single simulation is Germany\n",
      "The champion for this single simulation is Belgium\n",
      "The champion for this single simulation is Japan\n",
      "The champion for this single simulation is England\n",
      "The champion for this single simulation is Netherlands\n",
      "The champion for this single simulation is Argentina\n",
      "The champion for this single simulation is Belgium\n",
      "The champion for this single simulation is Denmark\n",
      "The champion for this single simulation is Uruguay\n",
      "The champion for this single simulation is Costa Rica\n",
      "The champion for this single simulation is Denmark\n",
      "The champion for this single simulation is Belgium\n",
      "The champion for this single simulation is Germany\n",
      "The champion for this single simulation is Brazil\n",
      "The champion for this single simulation is Brazil\n",
      "The champion for this single simulation is Belgium\n",
      "The champion for this single simulation is Netherlands\n",
      "The champion for this single simulation is Spain\n",
      "The champion for this single simulation is Senegal\n",
      "The champion for this single simulation is Argentina\n",
      "The champion for this single simulation is Brazil\n",
      "The champion for this single simulation is Brazil\n",
      "The champion for this single simulation is Uruguay\n",
      "The champion for this single simulation is Belgium\n",
      "The champion for this single simulation is United States\n",
      "The champion for this single simulation is Netherlands\n",
      "The champion for this single simulation is Belgium\n",
      "The champion for this single simulation is Argentina\n",
      "The champion for this single simulation is Portugal\n",
      "The champion for this single simulation is Germany\n",
      "The champion for this single simulation is Croatia\n",
      "The champion for this single simulation is Brazil\n",
      "The champion for this single simulation is Brazil\n",
      "The champion for this single simulation is Portugal\n",
      "The champion for this single simulation is Brazil\n",
      "The champion for this single simulation is Brazil\n",
      "The champion for this single simulation is Portugal\n",
      "The champion for this single simulation is Brazil\n",
      "The champion for this single simulation is Belgium\n",
      "The champion for this single simulation is Netherlands\n",
      "The champion for this single simulation is Spain\n",
      "The champion for this single simulation is France\n",
      "The champion for this single simulation is France\n",
      "The champion for this single simulation is Croatia\n",
      "The champion for this single simulation is United States\n",
      "The champion for this single simulation is Germany\n",
      "The champion for this single simulation is Argentina\n",
      "The champion for this single simulation is Iran\n",
      "The champion for this single simulation is England\n",
      "The champion for this single simulation is Spain\n",
      "The champion for this single simulation is Switzerland\n",
      "The champion for this single simulation is Mexico\n",
      "The champion for this single simulation is Spain\n",
      "The champion for this single simulation is Brazil\n",
      "The champion for this single simulation is Mexico\n",
      "The champion for this single simulation is Germany\n",
      "The champion for this single simulation is England\n",
      "The champion for this single simulation is France\n",
      "The champion for this single simulation is Spain\n",
      "The champion for this single simulation is Spain\n",
      "The champion for this single simulation is Netherlands\n",
      "The champion for this single simulation is France\n",
      "The champion for this single simulation is Netherlands\n",
      "The champion for this single simulation is Argentina\n",
      "The champion for this single simulation is Japan\n",
      "The champion for this single simulation is England\n",
      "The champion for this single simulation is Spain\n",
      "The champion for this single simulation is Portugal\n",
      "The champion for this single simulation is Switzerland\n",
      "The champion for this single simulation is France\n",
      "The champion for this single simulation is Belgium\n",
      "The champion for this single simulation is Denmark\n",
      "The champion for this single simulation is Switzerland\n",
      "The champion for this single simulation is Spain\n",
      "The champion for this single simulation is Brazil\n",
      "The champion for this single simulation is Belgium\n",
      "The champion for this single simulation is France\n",
      "The champion for this single simulation is France\n",
      "The champion for this single simulation is Brazil\n",
      "The champion for this single simulation is Germany\n",
      "The champion for this single simulation is Switzerland\n",
      "The champion for this single simulation is Netherlands\n",
      "The champion for this single simulation is France\n",
      "The champion for this single simulation is Serbia\n",
      "The champion for this single simulation is Belgium\n",
      "The champion for this single simulation is Germany\n",
      "The champion for this single simulation is Australia\n",
      "The champion for this single simulation is Argentina\n",
      "The champion for this single simulation is Brazil\n",
      "The champion for this single simulation is Spain\n",
      "The champion for this single simulation is France\n",
      "The champion for this single simulation is Brazil\n",
      "The champion for this single simulation is Argentina\n",
      "The champion for this single simulation is Belgium\n",
      "The champion for this single simulation is Brazil\n",
      "The champion for this single simulation is Brazil\n",
      "The champion for this single simulation is Argentina\n",
      "The champion for this single simulation is Iran\n",
      "The champion for this single simulation is United States\n",
      "The champion for this single simulation is Switzerland\n",
      "The champion for this single simulation is Brazil\n",
      "The champion for this single simulation is Poland\n",
      "The champion for this single simulation is Poland\n",
      "The champion for this single simulation is Brazil\n",
      "The champion for this single simulation is France\n",
      "The champion for this single simulation is France\n",
      "The champion for this single simulation is Spain\n",
      "The champion for this single simulation is Spain\n",
      "The champion for this single simulation is Argentina\n",
      "The champion for this single simulation is Argentina\n",
      "The champion for this single simulation is Denmark\n",
      "The champion for this single simulation is Brazil\n",
      "The champion for this single simulation is Croatia\n",
      "The champion for this single simulation is Denmark\n",
      "The champion for this single simulation is Germany\n",
      "The champion for this single simulation is Brazil\n",
      "The champion for this single simulation is England\n",
      "The champion for this single simulation is Brazil\n",
      "The champion for this single simulation is Portugal\n",
      "The champion for this single simulation is England\n",
      "The champion for this single simulation is England\n",
      "The champion for this single simulation is Uruguay\n",
      "The champion for this single simulation is England\n",
      "The champion for this single simulation is Belgium\n",
      "The champion for this single simulation is Belgium\n",
      "The champion for this single simulation is Switzerland\n",
      "The champion for this single simulation is Belgium\n",
      "The champion for this single simulation is Mexico\n",
      "The champion for this single simulation is France\n",
      "The champion for this single simulation is Iran\n",
      "The champion for this single simulation is Germany\n",
      "The champion for this single simulation is Portugal\n",
      "The champion for this single simulation is France\n",
      "The champion for this single simulation is Iran\n",
      "The champion for this single simulation is Brazil\n",
      "The champion for this single simulation is Belgium\n",
      "The champion for this single simulation is Belgium\n",
      "The champion for this single simulation is Denmark\n",
      "The champion for this single simulation is Brazil\n",
      "The champion for this single simulation is France\n",
      "The champion for this single simulation is France\n",
      "The champion for this single simulation is Netherlands\n",
      "The champion for this single simulation is Switzerland\n",
      "The champion for this single simulation is Switzerland\n",
      "The champion for this single simulation is Morocco\n",
      "The champion for this single simulation is Spain\n",
      "The champion for this single simulation is Argentina\n",
      "The champion for this single simulation is Argentina\n",
      "The champion for this single simulation is Belgium\n",
      "The champion for this single simulation is Brazil\n",
      "The champion for this single simulation is Uruguay\n",
      "The champion for this single simulation is Senegal\n",
      "The champion for this single simulation is France\n",
      "The champion for this single simulation is Belgium\n",
      "The champion for this single simulation is Brazil\n",
      "The champion for this single simulation is England\n",
      "The champion for this single simulation is Belgium\n",
      "The champion for this single simulation is Brazil\n",
      "The champion for this single simulation is Argentina\n",
      "The champion for this single simulation is Germany\n",
      "The champion for this single simulation is Belgium\n",
      "The champion for this single simulation is Mexico\n",
      "The champion for this single simulation is France\n",
      "The champion for this single simulation is Argentina\n",
      "The champion for this single simulation is England\n",
      "The champion for this single simulation is Brazil\n",
      "The champion for this single simulation is Brazil\n",
      "The champion for this single simulation is France\n",
      "The champion for this single simulation is France\n",
      "The champion for this single simulation is Ecuador\n",
      "The champion for this single simulation is England\n",
      "The champion for this single simulation is Brazil\n",
      "The champion for this single simulation is Switzerland\n",
      "The champion for this single simulation is England\n",
      "The champion for this single simulation is Brazil\n",
      "The champion for this single simulation is Brazil\n",
      "The champion for this single simulation is Belgium\n",
      "The champion for this single simulation is Argentina\n",
      "The champion for this single simulation is Spain\n",
      "The champion for this single simulation is Argentina\n",
      "The champion for this single simulation is Netherlands\n",
      "The champion for this single simulation is Belgium\n",
      "The champion for this single simulation is Denmark\n",
      "The champion for this single simulation is Belgium\n",
      "The champion for this single simulation is Brazil\n",
      "The champion for this single simulation is France\n",
      "The champion for this single simulation is Belgium\n",
      "The champion for this single simulation is Mexico\n",
      "The champion for this single simulation is Croatia\n",
      "The champion for this single simulation is Belgium\n",
      "The champion for this single simulation is Germany\n",
      "The champion for this single simulation is Portugal\n",
      "The champion for this single simulation is France\n",
      "The champion for this single simulation is Argentina\n",
      "The champion for this single simulation is Brazil\n",
      "The champion for this single simulation is Netherlands\n",
      "The champion for this single simulation is Belgium\n",
      "The champion for this single simulation is Croatia\n",
      "The champion for this single simulation is Argentina\n",
      "The champion for this single simulation is Brazil\n",
      "The champion for this single simulation is Belgium\n",
      "The champion for this single simulation is France\n",
      "The champion for this single simulation is Brazil\n",
      "The champion for this single simulation is France\n",
      "The champion for this single simulation is Portugal\n",
      "The champion for this single simulation is Argentina\n",
      "The champion for this single simulation is Denmark\n",
      "The champion for this single simulation is Brazil\n",
      "The champion for this single simulation is England\n",
      "The champion for this single simulation is England\n",
      "The champion for this single simulation is Argentina\n",
      "The champion for this single simulation is Denmark\n",
      "The champion for this single simulation is Portugal\n",
      "The champion for this single simulation is Brazil\n",
      "The champion for this single simulation is Argentina\n",
      "The champion for this single simulation is Argentina\n",
      "The champion for this single simulation is United States\n",
      "The champion for this single simulation is Denmark\n",
      "The champion for this single simulation is Brazil\n",
      "The champion for this single simulation is Belgium\n",
      "The champion for this single simulation is Brazil\n",
      "The champion for this single simulation is Brazil\n",
      "The champion for this single simulation is Belgium\n",
      "The champion for this single simulation is France\n",
      "The champion for this single simulation is Belgium\n",
      "The champion for this single simulation is Brazil\n",
      "The champion for this single simulation is Uruguay\n",
      "The champion for this single simulation is Brazil\n",
      "The champion for this single simulation is England\n",
      "The champion for this single simulation is Netherlands\n",
      "The champion for this single simulation is Germany\n",
      "The champion for this single simulation is Portugal\n",
      "The champion for this single simulation is Netherlands\n",
      "The champion for this single simulation is France\n",
      "The champion for this single simulation is Germany\n",
      "The champion for this single simulation is Belgium\n",
      "The champion for this single simulation is Spain\n",
      "The champion for this single simulation is Spain\n",
      "The champion for this single simulation is England\n",
      "The champion for this single simulation is Netherlands\n",
      "The champion for this single simulation is Belgium\n",
      "The champion for this single simulation is France\n",
      "The champion for this single simulation is Croatia\n",
      "The champion for this single simulation is Argentina\n",
      "The champion for this single simulation is Germany\n",
      "The champion for this single simulation is Uruguay\n",
      "The champion for this single simulation is Brazil\n",
      "The champion for this single simulation is Brazil\n",
      "The champion for this single simulation is England\n",
      "The champion for this single simulation is Belgium\n",
      "The champion for this single simulation is France\n",
      "The champion for this single simulation is Spain\n",
      "The champion for this single simulation is Netherlands\n",
      "The champion for this single simulation is Brazil\n",
      "The champion for this single simulation is Spain\n",
      "The champion for this single simulation is Netherlands\n",
      "The champion for this single simulation is Argentina\n",
      "The champion for this single simulation is Wales\n",
      "The champion for this single simulation is Belgium\n",
      "The champion for this single simulation is Argentina\n",
      "The champion for this single simulation is Denmark\n",
      "The champion for this single simulation is Brazil\n",
      "The champion for this single simulation is Argentina\n",
      "The champion for this single simulation is Belgium\n",
      "The champion for this single simulation is Brazil\n",
      "The champion for this single simulation is Germany\n",
      "The champion for this single simulation is South Korea\n",
      "The champion for this single simulation is England\n",
      "The champion for this single simulation is Belgium\n",
      "The champion for this single simulation is Spain\n",
      "The champion for this single simulation is Brazil\n",
      "The champion for this single simulation is Brazil\n",
      "The champion for this single simulation is Brazil\n",
      "The champion for this single simulation is Switzerland\n",
      "The champion for this single simulation is England\n",
      "The champion for this single simulation is Spain\n",
      "The champion for this single simulation is England\n",
      "The champion for this single simulation is Brazil\n",
      "The champion for this single simulation is Belgium\n",
      "The champion for this single simulation is Brazil\n",
      "The champion for this single simulation is Portugal\n",
      "The champion for this single simulation is Argentina\n",
      "The champion for this single simulation is Brazil\n",
      "The champion for this single simulation is Portugal\n",
      "The champion for this single simulation is Spain\n",
      "The champion for this single simulation is Denmark\n",
      "The champion for this single simulation is Portugal\n",
      "The champion for this single simulation is Mexico\n",
      "The champion for this single simulation is Denmark\n",
      "The champion for this single simulation is Belgium\n",
      "The champion for this single simulation is France\n",
      "The champion for this single simulation is Croatia\n",
      "The champion for this single simulation is Argentina\n",
      "The champion for this single simulation is Portugal\n",
      "The champion for this single simulation is Brazil\n",
      "The champion for this single simulation is Spain\n",
      "The champion for this single simulation is Argentina\n",
      "The champion for this single simulation is Wales\n",
      "The champion for this single simulation is Croatia\n",
      "The champion for this single simulation is France\n",
      "The champion for this single simulation is United States\n",
      "The champion for this single simulation is France\n",
      "The champion for this single simulation is Netherlands\n",
      "The champion for this single simulation is England\n",
      "The champion for this single simulation is Portugal\n",
      "The champion for this single simulation is Belgium\n",
      "The champion for this single simulation is Argentina\n",
      "The champion for this single simulation is Argentina\n",
      "The champion for this single simulation is Morocco\n",
      "The champion for this single simulation is England\n",
      "The champion for this single simulation is England\n",
      "The champion for this single simulation is Belgium\n",
      "The champion for this single simulation is Japan\n",
      "The champion for this single simulation is Belgium\n",
      "The champion for this single simulation is Belgium\n",
      "The champion for this single simulation is Argentina\n",
      "The champion for this single simulation is Argentina\n",
      "The champion for this single simulation is Brazil\n",
      "The champion for this single simulation is Denmark\n",
      "The champion for this single simulation is Netherlands\n",
      "The champion for this single simulation is Belgium\n",
      "The champion for this single simulation is Portugal\n",
      "The champion for this single simulation is England\n",
      "The champion for this single simulation is Argentina\n",
      "The champion for this single simulation is Argentina\n",
      "The champion for this single simulation is Belgium\n",
      "The champion for this single simulation is Argentina\n",
      "The champion for this single simulation is Netherlands\n",
      "The champion for this single simulation is Switzerland\n",
      "The champion for this single simulation is Argentina\n",
      "The champion for this single simulation is Argentina\n",
      "The champion for this single simulation is France\n",
      "The champion for this single simulation is Denmark\n",
      "The champion for this single simulation is Senegal\n",
      "The champion for this single simulation is France\n",
      "The champion for this single simulation is Brazil\n",
      "The champion for this single simulation is Brazil\n",
      "The champion for this single simulation is England\n",
      "The champion for this single simulation is Brazil\n",
      "The champion for this single simulation is Netherlands\n",
      "The champion for this single simulation is Spain\n",
      "The champion for this single simulation is Belgium\n",
      "The champion for this single simulation is Spain\n",
      "The champion for this single simulation is Argentina\n",
      "The champion for this single simulation is Belgium\n",
      "The champion for this single simulation is Brazil\n",
      "The champion for this single simulation is Spain\n",
      "The champion for this single simulation is England\n",
      "The champion for this single simulation is Argentina\n",
      "The champion for this single simulation is Uruguay\n",
      "The champion for this single simulation is Brazil\n",
      "The champion for this single simulation is Denmark\n",
      "The champion for this single simulation is England\n",
      "The champion for this single simulation is Brazil\n",
      "The champion for this single simulation is Belgium\n",
      "The champion for this single simulation is England\n",
      "The champion for this single simulation is Argentina\n",
      "The champion for this single simulation is Portugal\n",
      "The champion for this single simulation is Spain\n",
      "The champion for this single simulation is Belgium\n",
      "The champion for this single simulation is France\n",
      "The champion for this single simulation is Brazil\n",
      "The champion for this single simulation is Croatia\n",
      "The champion for this single simulation is Brazil\n",
      "The champion for this single simulation is Belgium\n",
      "The champion for this single simulation is Belgium\n",
      "The champion for this single simulation is Belgium\n",
      "The champion for this single simulation is France\n",
      "The champion for this single simulation is France\n",
      "The champion for this single simulation is England\n",
      "The champion for this single simulation is France\n",
      "The champion for this single simulation is Spain\n",
      "The champion for this single simulation is Japan\n",
      "The champion for this single simulation is Brazil\n",
      "The champion for this single simulation is Spain\n",
      "The champion for this single simulation is Brazil\n",
      "The champion for this single simulation is Wales\n",
      "The champion for this single simulation is Argentina\n",
      "The champion for this single simulation is Portugal\n",
      "The champion for this single simulation is France\n",
      "The champion for this single simulation is Mexico\n",
      "The champion for this single simulation is Argentina\n",
      "The champion for this single simulation is Brazil\n",
      "The champion for this single simulation is South Korea\n",
      "The champion for this single simulation is Argentina\n",
      "The champion for this single simulation is England\n",
      "The champion for this single simulation is Mexico\n",
      "The champion for this single simulation is Belgium\n",
      "The champion for this single simulation is Belgium\n",
      "The champion for this single simulation is Brazil\n",
      "The champion for this single simulation is Switzerland\n",
      "The champion for this single simulation is Belgium\n",
      "The champion for this single simulation is Belgium\n",
      "The champion for this single simulation is Belgium\n",
      "The champion for this single simulation is Tunisia\n",
      "The champion for this single simulation is Spain\n",
      "The champion for this single simulation is Brazil\n",
      "The champion for this single simulation is Belgium\n",
      "The champion for this single simulation is England\n",
      "The champion for this single simulation is United States\n",
      "The champion for this single simulation is Belgium\n",
      "The champion for this single simulation is Uruguay\n",
      "The champion for this single simulation is Argentina\n",
      "The champion for this single simulation is Spain\n",
      "The champion for this single simulation is Switzerland\n",
      "The champion for this single simulation is Belgium\n",
      "The champion for this single simulation is Belgium\n",
      "The champion for this single simulation is Brazil\n",
      "The champion for this single simulation is Belgium\n",
      "The champion for this single simulation is Belgium\n",
      "The champion for this single simulation is Brazil\n",
      "The champion for this single simulation is Spain\n",
      "The champion for this single simulation is Germany\n",
      "The champion for this single simulation is Portugal\n",
      "The champion for this single simulation is France\n",
      "The champion for this single simulation is Portugal\n",
      "The champion for this single simulation is Mexico\n",
      "The champion for this single simulation is England\n",
      "The champion for this single simulation is Argentina\n",
      "The champion for this single simulation is Argentina\n",
      "The champion for this single simulation is Argentina\n",
      "The champion for this single simulation is Belgium\n",
      "The champion for this single simulation is Germany\n",
      "The champion for this single simulation is Brazil\n",
      "The champion for this single simulation is Belgium\n",
      "The champion for this single simulation is Belgium\n",
      "The champion for this single simulation is Brazil\n",
      "The champion for this single simulation is Brazil\n",
      "The champion for this single simulation is Mexico\n",
      "The champion for this single simulation is Belgium\n",
      "The champion for this single simulation is Switzerland\n",
      "The champion for this single simulation is Senegal\n",
      "The champion for this single simulation is Argentina\n",
      "The champion for this single simulation is Brazil\n",
      "The champion for this single simulation is Brazil\n",
      "The champion for this single simulation is Portugal\n",
      "The champion for this single simulation is Belgium\n",
      "The champion for this single simulation is Brazil\n",
      "The champion for this single simulation is England\n",
      "The champion for this single simulation is Brazil\n",
      "The champion for this single simulation is Germany\n",
      "The champion for this single simulation is Belgium\n",
      "The champion for this single simulation is Argentina\n",
      "The champion for this single simulation is England\n",
      "The champion for this single simulation is Argentina\n",
      "The champion for this single simulation is Netherlands\n",
      "The champion for this single simulation is France\n",
      "The champion for this single simulation is Germany\n",
      "The champion for this single simulation is Argentina\n",
      "The champion for this single simulation is Croatia\n",
      "The champion for this single simulation is Germany\n",
      "The champion for this single simulation is Argentina\n",
      "The champion for this single simulation is Netherlands\n",
      "The champion for this single simulation is Belgium\n",
      "The champion for this single simulation is Portugal\n",
      "The champion for this single simulation is England\n",
      "The champion for this single simulation is France\n",
      "The champion for this single simulation is Brazil\n",
      "The champion for this single simulation is France\n",
      "The champion for this single simulation is England\n",
      "The champion for this single simulation is Denmark\n",
      "The champion for this single simulation is Croatia\n",
      "The champion for this single simulation is Portugal\n",
      "The champion for this single simulation is Brazil\n",
      "The champion for this single simulation is Croatia\n",
      "The champion for this single simulation is Brazil\n",
      "The champion for this single simulation is England\n",
      "The champion for this single simulation is United States\n",
      "The champion for this single simulation is Brazil\n",
      "The champion for this single simulation is Brazil\n",
      "The champion for this single simulation is Brazil\n",
      "The champion for this single simulation is England\n",
      "The champion for this single simulation is Denmark\n",
      "The champion for this single simulation is Brazil\n",
      "The champion for this single simulation is Argentina\n",
      "The champion for this single simulation is France\n",
      "The champion for this single simulation is Belgium\n",
      "The champion for this single simulation is Brazil\n",
      "The champion for this single simulation is Portugal\n",
      "The champion for this single simulation is Belgium\n",
      "The champion for this single simulation is France\n",
      "The champion for this single simulation is England\n",
      "The champion for this single simulation is Spain\n",
      "The champion for this single simulation is Spain\n",
      "The champion for this single simulation is Argentina\n",
      "The champion for this single simulation is Spain\n",
      "The champion for this single simulation is Denmark\n",
      "The champion for this single simulation is Brazil\n",
      "The champion for this single simulation is Argentina\n",
      "The champion for this single simulation is Portugal\n",
      "The champion for this single simulation is France\n",
      "The champion for this single simulation is Denmark\n",
      "The champion for this single simulation is Brazil\n",
      "The champion for this single simulation is Belgium\n",
      "The champion for this single simulation is England\n",
      "The champion for this single simulation is Argentina\n",
      "The champion for this single simulation is Portugal\n",
      "The champion for this single simulation is Belgium\n",
      "The champion for this single simulation is Brazil\n",
      "The champion for this single simulation is Netherlands\n",
      "The champion for this single simulation is United States\n",
      "The champion for this single simulation is Uruguay\n",
      "The champion for this single simulation is England\n",
      "The champion for this single simulation is Croatia\n",
      "The champion for this single simulation is Croatia\n",
      "The champion for this single simulation is Brazil\n",
      "The champion for this single simulation is Spain\n",
      "The champion for this single simulation is Brazil\n",
      "The champion for this single simulation is South Korea\n",
      "The champion for this single simulation is Belgium\n",
      "The champion for this single simulation is Belgium\n",
      "The champion for this single simulation is Argentina\n",
      "The champion for this single simulation is Argentina\n",
      "The champion for this single simulation is Switzerland\n",
      "The champion for this single simulation is United States\n",
      "The champion for this single simulation is Belgium\n",
      "The champion for this single simulation is Croatia\n",
      "The champion for this single simulation is Belgium\n",
      "The champion for this single simulation is France\n",
      "The champion for this single simulation is Spain\n",
      "The champion for this single simulation is Brazil\n",
      "The champion for this single simulation is Argentina\n",
      "The champion for this single simulation is Argentina\n",
      "The champion for this single simulation is Uruguay\n",
      "The champion for this single simulation is Argentina\n",
      "The champion for this single simulation is Denmark\n",
      "The champion for this single simulation is France\n",
      "The champion for this single simulation is Belgium\n",
      "The champion for this single simulation is England\n",
      "The champion for this single simulation is Uruguay\n",
      "The champion for this single simulation is Argentina\n",
      "The champion for this single simulation is Belgium\n",
      "The champion for this single simulation is England\n",
      "The champion for this single simulation is Brazil\n",
      "The champion for this single simulation is Denmark\n",
      "The champion for this single simulation is Brazil\n",
      "The champion for this single simulation is Netherlands\n",
      "The champion for this single simulation is Brazil\n",
      "The champion for this single simulation is France\n",
      "The champion for this single simulation is France\n",
      "The champion for this single simulation is France\n",
      "The champion for this single simulation is Croatia\n",
      "The champion for this single simulation is Brazil\n",
      "The champion for this single simulation is Brazil\n",
      "The champion for this single simulation is Argentina\n",
      "The champion for this single simulation is Belgium\n",
      "The champion for this single simulation is Belgium\n",
      "The champion for this single simulation is Germany\n",
      "The champion for this single simulation is England\n",
      "The champion for this single simulation is Belgium\n",
      "The champion for this single simulation is Spain\n",
      "The champion for this single simulation is Mexico\n",
      "The champion for this single simulation is Brazil\n",
      "The champion for this single simulation is Brazil\n",
      "The champion for this single simulation is Belgium\n",
      "The champion for this single simulation is England\n",
      "The champion for this single simulation is Brazil\n",
      "The champion for this single simulation is Spain\n",
      "The champion for this single simulation is Argentina\n",
      "The champion for this single simulation is France\n",
      "The champion for this single simulation is Brazil\n",
      "The champion for this single simulation is Argentina\n",
      "The champion for this single simulation is Brazil\n",
      "The champion for this single simulation is Germany\n",
      "The champion for this single simulation is Brazil\n",
      "The champion for this single simulation is Belgium\n",
      "The champion for this single simulation is Belgium\n",
      "The champion for this single simulation is Netherlands\n",
      "The champion for this single simulation is Spain\n",
      "The champion for this single simulation is Argentina\n",
      "The champion for this single simulation is Uruguay\n",
      "The champion for this single simulation is Brazil\n",
      "The champion for this single simulation is Belgium\n",
      "The champion for this single simulation is England\n",
      "The champion for this single simulation is Germany\n",
      "The champion for this single simulation is Argentina\n",
      "The champion for this single simulation is England\n",
      "The champion for this single simulation is Uruguay\n",
      "The champion for this single simulation is Argentina\n",
      "The champion for this single simulation is Wales\n",
      "The champion for this single simulation is England\n",
      "The champion for this single simulation is United States\n",
      "The champion for this single simulation is Brazil\n",
      "The champion for this single simulation is Belgium\n",
      "The champion for this single simulation is Mexico\n",
      "The champion for this single simulation is Spain\n",
      "The champion for this single simulation is Spain\n",
      "The champion for this single simulation is Serbia\n",
      "The champion for this single simulation is Portugal\n",
      "The champion for this single simulation is United States\n",
      "The champion for this single simulation is Portugal\n",
      "The champion for this single simulation is Argentina\n",
      "The champion for this single simulation is Senegal\n",
      "The champion for this single simulation is Belgium\n",
      "The champion for this single simulation is Denmark\n",
      "The champion for this single simulation is Morocco\n",
      "The champion for this single simulation is France\n",
      "The champion for this single simulation is Netherlands\n",
      "The champion for this single simulation is Spain\n",
      "The champion for this single simulation is Portugal\n",
      "The champion for this single simulation is Senegal\n",
      "The champion for this single simulation is Brazil\n",
      "The champion for this single simulation is Belgium\n",
      "The champion for this single simulation is France\n",
      "The champion for this single simulation is France\n",
      "The champion for this single simulation is France\n",
      "The champion for this single simulation is Argentina\n",
      "The champion for this single simulation is Portugal\n",
      "The champion for this single simulation is Belgium\n",
      "The champion for this single simulation is Belgium\n",
      "The champion for this single simulation is Belgium\n",
      "The champion for this single simulation is England\n",
      "The champion for this single simulation is United States\n",
      "The champion for this single simulation is Croatia\n",
      "The champion for this single simulation is Germany\n",
      "The champion for this single simulation is Netherlands\n",
      "The champion for this single simulation is Brazil\n",
      "The champion for this single simulation is Brazil\n",
      "The champion for this single simulation is Spain\n",
      "The champion for this single simulation is Switzerland\n",
      "The champion for this single simulation is Germany\n",
      "The champion for this single simulation is Spain\n",
      "The champion for this single simulation is Belgium\n",
      "The champion for this single simulation is Senegal\n",
      "The champion for this single simulation is Brazil\n",
      "The champion for this single simulation is Netherlands\n",
      "The champion for this single simulation is Argentina\n",
      "The champion for this single simulation is Morocco\n",
      "The champion for this single simulation is France\n",
      "The champion for this single simulation is Belgium\n",
      "The champion for this single simulation is Portugal\n",
      "The champion for this single simulation is Argentina\n",
      "The champion for this single simulation is Brazil\n",
      "The champion for this single simulation is England\n",
      "The champion for this single simulation is Mexico\n",
      "The champion for this single simulation is Belgium\n",
      "The champion for this single simulation is Brazil\n",
      "The champion for this single simulation is France\n",
      "The champion for this single simulation is Croatia\n",
      "The champion for this single simulation is Brazil\n",
      "The champion for this single simulation is Spain\n",
      "The champion for this single simulation is Argentina\n",
      "The champion for this single simulation is Belgium\n",
      "The champion for this single simulation is Denmark\n",
      "The champion for this single simulation is Argentina\n",
      "The champion for this single simulation is Brazil\n",
      "The champion for this single simulation is Wales\n",
      "The champion for this single simulation is France\n",
      "The champion for this single simulation is Brazil\n",
      "The champion for this single simulation is France\n",
      "The champion for this single simulation is Argentina\n",
      "The champion for this single simulation is Netherlands\n",
      "The champion for this single simulation is Netherlands\n",
      "The champion for this single simulation is Netherlands\n",
      "The champion for this single simulation is Denmark\n",
      "The champion for this single simulation is Brazil\n",
      "The champion for this single simulation is Belgium\n",
      "The champion for this single simulation is France\n",
      "The champion for this single simulation is Argentina\n",
      "The champion for this single simulation is Argentina\n",
      "The champion for this single simulation is Belgium\n",
      "The champion for this single simulation is Netherlands\n",
      "The champion for this single simulation is Brazil\n",
      "The champion for this single simulation is Belgium\n",
      "The champion for this single simulation is Portugal\n",
      "The champion for this single simulation is Netherlands\n",
      "The champion for this single simulation is Belgium\n",
      "The champion for this single simulation is France\n",
      "The champion for this single simulation is Belgium\n",
      "The champion for this single simulation is Brazil\n",
      "The champion for this single simulation is England\n",
      "The champion for this single simulation is Spain\n",
      "The champion for this single simulation is United States\n",
      "The champion for this single simulation is Denmark\n",
      "The champion for this single simulation is Brazil\n",
      "The champion for this single simulation is Uruguay\n",
      "The champion for this single simulation is Brazil\n",
      "The champion for this single simulation is France\n",
      "The champion for this single simulation is Belgium\n",
      "The champion for this single simulation is Brazil\n",
      "The champion for this single simulation is Brazil\n",
      "The champion for this single simulation is Denmark\n",
      "The champion for this single simulation is Spain\n",
      "The champion for this single simulation is Spain\n",
      "The champion for this single simulation is Netherlands\n",
      "The champion for this single simulation is Argentina\n",
      "The champion for this single simulation is Denmark\n",
      "The champion for this single simulation is Belgium\n",
      "The champion for this single simulation is Belgium\n",
      "The champion for this single simulation is England\n",
      "The champion for this single simulation is Argentina\n",
      "The champion for this single simulation is Netherlands\n",
      "The champion for this single simulation is Spain\n",
      "The champion for this single simulation is Belgium\n",
      "The champion for this single simulation is Brazil\n",
      "The champion for this single simulation is Portugal\n",
      "The champion for this single simulation is England\n",
      "The champion for this single simulation is Switzerland\n",
      "The champion for this single simulation is Argentina\n",
      "The champion for this single simulation is France\n",
      "The champion for this single simulation is Netherlands\n",
      "The champion for this single simulation is Argentina\n",
      "The champion for this single simulation is Brazil\n",
      "The champion for this single simulation is Belgium\n",
      "The champion for this single simulation is Germany\n",
      "The champion for this single simulation is Netherlands\n",
      "The champion for this single simulation is Brazil\n",
      "The champion for this single simulation is Netherlands\n",
      "The champion for this single simulation is Germany\n",
      "The champion for this single simulation is Belgium\n",
      "The champion for this single simulation is Croatia\n",
      "The champion for this single simulation is Netherlands\n",
      "The champion for this single simulation is Belgium\n",
      "The champion for this single simulation is England\n",
      "The champion for this single simulation is Wales\n",
      "The champion for this single simulation is Senegal\n",
      "The champion for this single simulation is France\n",
      "The champion for this single simulation is Uruguay\n",
      "The champion for this single simulation is Argentina\n",
      "The champion for this single simulation is Brazil\n",
      "The champion for this single simulation is Uruguay\n",
      "The champion for this single simulation is United States\n",
      "The champion for this single simulation is France\n",
      "The champion for this single simulation is Spain\n",
      "The champion for this single simulation is Belgium\n",
      "The champion for this single simulation is Germany\n",
      "The champion for this single simulation is Japan\n",
      "The champion for this single simulation is Wales\n",
      "The champion for this single simulation is Mexico\n",
      "The champion for this single simulation is Portugal\n",
      "The champion for this single simulation is Argentina\n",
      "The champion for this single simulation is Uruguay\n",
      "The champion for this single simulation is Spain\n",
      "The champion for this single simulation is Iran\n",
      "The champion for this single simulation is Brazil\n",
      "The champion for this single simulation is Serbia\n",
      "The champion for this single simulation is Brazil\n",
      "The champion for this single simulation is Brazil\n",
      "The champion for this single simulation is Netherlands\n",
      "The champion for this single simulation is Belgium\n",
      "The champion for this single simulation is Uruguay\n",
      "The champion for this single simulation is Brazil\n",
      "The champion for this single simulation is Argentina\n",
      "The champion for this single simulation is France\n",
      "The champion for this single simulation is Belgium\n",
      "The champion for this single simulation is England\n",
      "The champion for this single simulation is Serbia\n",
      "The champion for this single simulation is Belgium\n",
      "The champion for this single simulation is Mexico\n",
      "The champion for this single simulation is Iran\n",
      "The champion for this single simulation is Serbia\n",
      "The champion for this single simulation is Netherlands\n",
      "The champion for this single simulation is Senegal\n",
      "The champion for this single simulation is Morocco\n",
      "The champion for this single simulation is France\n",
      "The champion for this single simulation is England\n",
      "The champion for this single simulation is Belgium\n",
      "The champion for this single simulation is Brazil\n",
      "The champion for this single simulation is Argentina\n",
      "The champion for this single simulation is United States\n",
      "The champion for this single simulation is Netherlands\n",
      "The champion for this single simulation is Brazil\n",
      "The champion for this single simulation is Brazil\n",
      "The champion for this single simulation is Argentina\n",
      "The champion for this single simulation is Serbia\n",
      "The champion for this single simulation is Argentina\n",
      "The champion for this single simulation is Uruguay\n",
      "The champion for this single simulation is Brazil\n",
      "The champion for this single simulation is France\n",
      "The champion for this single simulation is Netherlands\n",
      "The champion for this single simulation is France\n",
      "The champion for this single simulation is Brazil\n",
      "The champion for this single simulation is Belgium\n",
      "The champion for this single simulation is Argentina\n",
      "The champion for this single simulation is Costa Rica\n",
      "The champion for this single simulation is Argentina\n",
      "The champion for this single simulation is Brazil\n",
      "The champion for this single simulation is Senegal\n",
      "The champion for this single simulation is Brazil\n",
      "The champion for this single simulation is England\n",
      "The champion for this single simulation is Argentina\n",
      "The champion for this single simulation is Spain\n",
      "The champion for this single simulation is Brazil\n",
      "The champion for this single simulation is Argentina\n",
      "The champion for this single simulation is England\n",
      "The champion for this single simulation is Netherlands\n",
      "The champion for this single simulation is Belgium\n",
      "The champion for this single simulation is Mexico\n",
      "The champion for this single simulation is Uruguay\n",
      "The champion for this single simulation is Argentina\n",
      "The champion for this single simulation is Belgium\n",
      "The champion for this single simulation is Uruguay\n",
      "The champion for this single simulation is Portugal\n",
      "The champion for this single simulation is Argentina\n",
      "The champion for this single simulation is Brazil\n",
      "The champion for this single simulation is United States\n",
      "The champion for this single simulation is France\n",
      "The champion for this single simulation is Brazil\n",
      "The champion for this single simulation is Spain\n",
      "The champion for this single simulation is England\n",
      "The champion for this single simulation is England\n",
      "The champion for this single simulation is England\n",
      "The champion for this single simulation is Portugal\n",
      "The champion for this single simulation is Netherlands\n",
      "The champion for this single simulation is England\n",
      "The champion for this single simulation is Brazil\n",
      "The champion for this single simulation is Brazil\n",
      "The champion for this single simulation is Denmark\n",
      "The champion for this single simulation is Brazil\n",
      "The champion for this single simulation is Brazil\n",
      "The champion for this single simulation is Argentina\n",
      "The champion for this single simulation is Spain\n",
      "The champion for this single simulation is France\n",
      "The champion for this single simulation is Serbia\n",
      "The champion for this single simulation is Argentina\n",
      "The champion for this single simulation is Brazil\n",
      "The champion for this single simulation is Brazil\n",
      "The champion for this single simulation is Germany\n",
      "The champion for this single simulation is Uruguay\n",
      "The champion for this single simulation is Croatia\n",
      "The champion for this single simulation is Belgium\n",
      "The champion for this single simulation is Brazil\n",
      "The champion for this single simulation is Belgium\n",
      "The champion for this single simulation is Brazil\n",
      "The champion for this single simulation is Wales\n",
      "The champion for this single simulation is South Korea\n",
      "The champion for this single simulation is Belgium\n",
      "The champion for this single simulation is Wales\n",
      "The champion for this single simulation is Portugal\n",
      "The champion for this single simulation is France\n",
      "The champion for this single simulation is Germany\n",
      "The champion for this single simulation is Argentina\n",
      "The champion for this single simulation is Denmark\n",
      "The champion for this single simulation is Brazil\n",
      "The champion for this single simulation is France\n",
      "The champion for this single simulation is Brazil\n",
      "The champion for this single simulation is Belgium\n",
      "The champion for this single simulation is Spain\n",
      "The champion for this single simulation is Brazil\n",
      "The champion for this single simulation is Brazil\n",
      "The champion for this single simulation is Serbia\n",
      "The champion for this single simulation is Netherlands\n",
      "The champion for this single simulation is Netherlands\n",
      "The champion for this single simulation is Serbia\n",
      "The champion for this single simulation is Portugal\n",
      "The champion for this single simulation is Brazil\n",
      "The champion for this single simulation is Croatia\n",
      "The champion for this single simulation is Brazil\n",
      "The champion for this single simulation is England\n",
      "The champion for this single simulation is Belgium\n",
      "The champion for this single simulation is Belgium\n",
      "The champion for this single simulation is Denmark\n",
      "The champion for this single simulation is Argentina\n",
      "The champion for this single simulation is Brazil\n",
      "The champion for this single simulation is Wales\n",
      "The champion for this single simulation is Iran\n",
      "The champion for this single simulation is Uruguay\n",
      "The champion for this single simulation is England\n",
      "The champion for this single simulation is France\n",
      "The champion for this single simulation is Belgium\n",
      "The champion for this single simulation is Argentina\n",
      "The champion for this single simulation is Brazil\n",
      "The champion for this single simulation is Spain\n",
      "The champion for this single simulation is Switzerland\n",
      "The champion for this single simulation is Brazil\n",
      "The champion for this single simulation is Switzerland\n",
      "The champion for this single simulation is Brazil\n",
      "The champion for this single simulation is Argentina\n",
      "The champion for this single simulation is Spain\n",
      "The champion for this single simulation is Argentina\n",
      "The champion for this single simulation is Argentina\n",
      "The champion for this single simulation is England\n",
      "The champion for this single simulation is Argentina\n",
      "The champion for this single simulation is France\n",
      "The champion for this single simulation is Belgium\n",
      "The champion for this single simulation is Netherlands\n",
      "The champion for this single simulation is Portugal\n",
      "The champion for this single simulation is Argentina\n",
      "The champion for this single simulation is Belgium\n",
      "The champion for this single simulation is England\n",
      "The champion for this single simulation is Wales\n",
      "The champion for this single simulation is Argentina\n",
      "The champion for this single simulation is Spain\n",
      "The champion for this single simulation is Portugal\n",
      "The champion for this single simulation is Belgium\n",
      "The champion for this single simulation is Argentina\n",
      "The champion for this single simulation is Brazil\n",
      "The champion for this single simulation is England\n",
      "The champion for this single simulation is Portugal\n",
      "The champion for this single simulation is England\n",
      "The champion for this single simulation is Brazil\n",
      "The champion for this single simulation is France\n",
      "The champion for this single simulation is France\n",
      "The champion for this single simulation is Brazil\n",
      "The champion for this single simulation is Brazil\n",
      "The champion for this single simulation is Serbia\n",
      "The champion for this single simulation is England\n",
      "The champion for this single simulation is Spain\n",
      "The champion for this single simulation is Brazil\n",
      "The champion for this single simulation is Argentina\n",
      "The champion for this single simulation is Brazil\n",
      "The champion for this single simulation is Belgium\n",
      "The champion for this single simulation is Brazil\n",
      "The champion for this single simulation is Argentina\n",
      "The champion for this single simulation is Tunisia\n",
      "The champion for this single simulation is Brazil\n",
      "The champion for this single simulation is Belgium\n",
      "The champion for this single simulation is Brazil\n",
      "The champion for this single simulation is Brazil\n",
      "The champion for this single simulation is Morocco\n",
      "The champion for this single simulation is Germany\n",
      "The champion for this single simulation is Switzerland\n",
      "The champion for this single simulation is Netherlands\n",
      "The champion for this single simulation is Belgium\n",
      "The champion for this single simulation is England\n",
      "The champion for this single simulation is Belgium\n",
      "The champion for this single simulation is Brazil\n",
      "The champion for this single simulation is Netherlands\n",
      "The champion for this single simulation is Argentina\n",
      "The champion for this single simulation is France\n",
      "The champion for this single simulation is Iran\n",
      "The champion for this single simulation is Serbia\n",
      "The champion for this single simulation is Brazil\n",
      "The champion for this single simulation is Spain\n",
      "The champion for this single simulation is Belgium\n",
      "The champion for this single simulation is Senegal\n",
      "The champion for this single simulation is Netherlands\n",
      "The champion for this single simulation is Brazil\n",
      "The champion for this single simulation is Portugal\n",
      "The champion for this single simulation is Belgium\n",
      "The champion for this single simulation is United States\n",
      "The champion for this single simulation is Netherlands\n",
      "The champion for this single simulation is Brazil\n",
      "The champion for this single simulation is England\n",
      "The champion for this single simulation is Spain\n",
      "The champion for this single simulation is France\n",
      "The champion for this single simulation is England\n",
      "The champion for this single simulation is France\n",
      "The champion for this single simulation is Brazil\n",
      "The champion for this single simulation is England\n",
      "The champion for this single simulation is Belgium\n",
      "The champion for this single simulation is France\n",
      "The champion for this single simulation is Belgium\n",
      "The champion for this single simulation is England\n",
      "The champion for this single simulation is France\n",
      "The champion for this single simulation is Germany\n",
      "The champion for this single simulation is Denmark\n",
      "The champion for this single simulation is Belgium\n",
      "The champion for this single simulation is Uruguay\n",
      "The champion for this single simulation is Netherlands\n",
      "The champion for this single simulation is Belgium\n",
      "The champion for this single simulation is Belgium\n",
      "The champion for this single simulation is Brazil\n",
      "The champion for this single simulation is Senegal\n",
      "The champion for this single simulation is Belgium\n",
      "The champion for this single simulation is Belgium\n",
      "The champion for this single simulation is England\n",
      "The champion for this single simulation is Spain\n",
      "The champion for this single simulation is Brazil\n",
      "The champion for this single simulation is Belgium\n",
      "The champion for this single simulation is Brazil\n",
      "The champion for this single simulation is Croatia\n",
      "The champion for this single simulation is Brazil\n",
      "The champion for this single simulation is Spain\n",
      "The champion for this single simulation is Belgium\n",
      "The champion for this single simulation is Brazil\n",
      "The champion for this single simulation is Switzerland\n",
      "The champion for this single simulation is Argentina\n",
      "The champion for this single simulation is England\n",
      "The champion for this single simulation is England\n",
      "The champion for this single simulation is Argentina\n",
      "The champion for this single simulation is Brazil\n",
      "The champion for this single simulation is Croatia\n",
      "The champion for this single simulation is France\n",
      "The champion for this single simulation is Spain\n",
      "The champion for this single simulation is Argentina\n",
      "The champion for this single simulation is Portugal\n"
     ]
    }
   ],
   "source": [
    "for i in range(1000):\n",
    "    # round 32 to round 16\n",
    "    r_32 = reorder(round_32)\n",
    "    r_16 = knockout(r_32)\n",
    "\n",
    "    # round 16 to round 8\n",
    "    r_16 = reorder(r_16)\n",
    "    r_8 = knockout(r_16)\n",
    "\n",
    "    # round 8 to round 4\n",
    "    r_8 = reorder(r_8)\n",
    "    r_4 = knockout(r_8)\n",
    "\n",
    "    # round 4 to round 2\n",
    "    r_4 = reorder(r_4)\n",
    "    r_2 = knockout(r_4)\n",
    "\n",
    "    # championship!\n",
    "    r_2 = reorder(r_2)\n",
    "    r_1 = knockout(r_2)\n",
    "\n",
    "    champion = r_1.loc[0,'Team']\n",
    "    print(\"The champion for this single simulation is\" , champion)\n",
    "\n",
    "    # Finally tally the number of wins\n",
    "    tally[champion] += 1\n",
    "\n"
   ],
   "metadata": {
    "collapsed": false
   }
  },
  {
   "cell_type": "code",
   "execution_count": 203,
   "outputs": [
    {
     "name": "stdout",
     "output_type": "stream",
     "text": [
      "The winning probability for each team in the worldcup is shown here {'Senegal': 0.008, 'Iran': 0.006, 'Tunisia': 0.0, 'Morocco': 0.004, 'South Korea': 0.001, 'Argentina': 0.116, 'Wales': 0.013, 'Qatar': 0.0, 'Denmark': 0.042, 'Canada': 0.0, 'Ecuador': 0.001, 'Netherlands': 0.056, 'Uruguay': 0.023, 'Belgium': 0.155, 'Cameroon': 0.0, 'United States': 0.011, 'Saudi Arabia': 0.0, 'Croatia': 0.034, 'Portugal': 0.057, 'Costa Rica': 0.003, 'Switzerland': 0.016, 'Germany': 0.031, 'Australia': 0.0, 'France': 0.092, 'England': 0.091, 'Ghana': 0.0, 'Mexico': 0.022, 'Serbia': 0.004, 'Poland': 0.002, 'Brazil': 0.156, 'Spain': 0.052, 'Japan': 0.004}\n"
     ]
    }
   ],
   "source": [
    "win_prob = {key:value/1000 for key, value in tally.items()}\n",
    "print('The winning probability for each team in the worldcup is shown here', win_prob)"
   ],
   "metadata": {
    "collapsed": false
   }
  },
  {
   "cell_type": "code",
   "execution_count": 203,
   "outputs": [],
   "source": [],
   "metadata": {
    "collapsed": false
   }
  },
  {
   "cell_type": "markdown",
   "source": [
    "## Part 2: Main Project"
   ],
   "metadata": {
    "collapsed": false
   }
  },
  {
   "cell_type": "code",
   "execution_count": 54,
   "outputs": [],
   "source": [
    "import numpy as np\n",
    "import matplotlib.pyplot as plt\n",
    "import pandas as pd\n"
   ],
   "metadata": {
    "collapsed": false
   }
  },
  {
   "cell_type": "markdown",
   "source": [
    "For a more sophisticated model, the number of goals scored by team A and team B would be\n",
    "\\begin{align} \\text{log}(\\lambda_A) &= \\alpha + \\beta r_A + \\gamma r_B + v_A\\\\\n",
    "\\text{log}(\\lambda_B) &= \\alpha + \\beta r_B + \\gamma r_A + v_B\n",
    "\\end{align}\n",
    "\n",
    "Where $r_A, r_B$ are the rankings for team A and B respectively,\n",
    "\n",
    "Parameters $v_A, v_B$ accounts for home advantage\n",
    "\\begin{align} v_x = \\begin{cases}  v_h & \\text{ if team x is the host nation (and the opposing team is not)} \\\\ v_n &\\text{ if neither team is the host nation} \\\\ 0 & \\text{ if the opposing team is the host nation}\\end{cases}\n",
    "\\end{align}\n",
    "\n",
    "$v_h$ is hence the additional expected no. of goals scored per game by host nation; $v_n$ is the additional number of goals scored per game by both teams in games in which both teams are neutral.\n",
    "\n",
    "Initial model would fit parameters $\\alpha, \\beta, \\gamma, v_h,$ and $v_n$\n"
   ],
   "metadata": {
    "collapsed": false
   }
  },
  {
   "cell_type": "code",
   "execution_count": 55,
   "outputs": [
    {
     "data": {
      "text/plain": "   Year  Game          TeamA        TeamB GameType Home  goalA  goalB\n0  1994     1        Germany      Bolivia  Group C  NaN      1      0\n1  1994     2          Spain  South Korea  Group C  NaN      2      2\n2  1994     3  United States  Switzerland  Group A    A      1      1\n3  1994     4          Italy      Ireland  Group E  NaN      0      1\n4  1994     5       Colombia      Romania  Group A  NaN      1      3",
      "text/html": "<div>\n<style scoped>\n    .dataframe tbody tr th:only-of-type {\n        vertical-align: middle;\n    }\n\n    .dataframe tbody tr th {\n        vertical-align: top;\n    }\n\n    .dataframe thead th {\n        text-align: right;\n    }\n</style>\n<table border=\"1\" class=\"dataframe\">\n  <thead>\n    <tr style=\"text-align: right;\">\n      <th></th>\n      <th>Year</th>\n      <th>Game</th>\n      <th>TeamA</th>\n      <th>TeamB</th>\n      <th>GameType</th>\n      <th>Home</th>\n      <th>goalA</th>\n      <th>goalB</th>\n    </tr>\n  </thead>\n  <tbody>\n    <tr>\n      <th>0</th>\n      <td>1994</td>\n      <td>1</td>\n      <td>Germany</td>\n      <td>Bolivia</td>\n      <td>Group C</td>\n      <td>NaN</td>\n      <td>1</td>\n      <td>0</td>\n    </tr>\n    <tr>\n      <th>1</th>\n      <td>1994</td>\n      <td>2</td>\n      <td>Spain</td>\n      <td>South Korea</td>\n      <td>Group C</td>\n      <td>NaN</td>\n      <td>2</td>\n      <td>2</td>\n    </tr>\n    <tr>\n      <th>2</th>\n      <td>1994</td>\n      <td>3</td>\n      <td>United States</td>\n      <td>Switzerland</td>\n      <td>Group A</td>\n      <td>A</td>\n      <td>1</td>\n      <td>1</td>\n    </tr>\n    <tr>\n      <th>3</th>\n      <td>1994</td>\n      <td>4</td>\n      <td>Italy</td>\n      <td>Ireland</td>\n      <td>Group E</td>\n      <td>NaN</td>\n      <td>0</td>\n      <td>1</td>\n    </tr>\n    <tr>\n      <th>4</th>\n      <td>1994</td>\n      <td>5</td>\n      <td>Colombia</td>\n      <td>Romania</td>\n      <td>Group A</td>\n      <td>NaN</td>\n      <td>1</td>\n      <td>3</td>\n    </tr>\n  </tbody>\n</table>\n</div>"
     },
     "execution_count": 55,
     "metadata": {},
     "output_type": "execute_result"
    }
   ],
   "source": [
    "game_data = pd.read_csv('Datasets/gameData.csv')\n",
    "rank_data = pd.read_csv('Datasets/rankData.csv')\n",
    "game_data.head()"
   ],
   "metadata": {
    "collapsed": false
   }
  },
  {
   "cell_type": "code",
   "execution_count": 56,
   "outputs": [
    {
     "data": {
      "text/plain": "     Year         Team  Rank  Rating\n0    1994    Argentina     8      55\n1    1994      Belgium    27      44\n2    1994      Bolivia    43      35\n3    1994       Brazil     3      59\n4    1994     Bulgaria    29      44\n..    ...          ...   ...     ...\n211  2018        Spain    10    1126\n212  2018       Sweden    24     880\n213  2018  Switzerland     6    1199\n214  2018      Tunisia    21     910\n215  2018      Uruguay    14    1018\n\n[216 rows x 4 columns]",
      "text/html": "<div>\n<style scoped>\n    .dataframe tbody tr th:only-of-type {\n        vertical-align: middle;\n    }\n\n    .dataframe tbody tr th {\n        vertical-align: top;\n    }\n\n    .dataframe thead th {\n        text-align: right;\n    }\n</style>\n<table border=\"1\" class=\"dataframe\">\n  <thead>\n    <tr style=\"text-align: right;\">\n      <th></th>\n      <th>Year</th>\n      <th>Team</th>\n      <th>Rank</th>\n      <th>Rating</th>\n    </tr>\n  </thead>\n  <tbody>\n    <tr>\n      <th>0</th>\n      <td>1994</td>\n      <td>Argentina</td>\n      <td>8</td>\n      <td>55</td>\n    </tr>\n    <tr>\n      <th>1</th>\n      <td>1994</td>\n      <td>Belgium</td>\n      <td>27</td>\n      <td>44</td>\n    </tr>\n    <tr>\n      <th>2</th>\n      <td>1994</td>\n      <td>Bolivia</td>\n      <td>43</td>\n      <td>35</td>\n    </tr>\n    <tr>\n      <th>3</th>\n      <td>1994</td>\n      <td>Brazil</td>\n      <td>3</td>\n      <td>59</td>\n    </tr>\n    <tr>\n      <th>4</th>\n      <td>1994</td>\n      <td>Bulgaria</td>\n      <td>29</td>\n      <td>44</td>\n    </tr>\n    <tr>\n      <th>...</th>\n      <td>...</td>\n      <td>...</td>\n      <td>...</td>\n      <td>...</td>\n    </tr>\n    <tr>\n      <th>211</th>\n      <td>2018</td>\n      <td>Spain</td>\n      <td>10</td>\n      <td>1126</td>\n    </tr>\n    <tr>\n      <th>212</th>\n      <td>2018</td>\n      <td>Sweden</td>\n      <td>24</td>\n      <td>880</td>\n    </tr>\n    <tr>\n      <th>213</th>\n      <td>2018</td>\n      <td>Switzerland</td>\n      <td>6</td>\n      <td>1199</td>\n    </tr>\n    <tr>\n      <th>214</th>\n      <td>2018</td>\n      <td>Tunisia</td>\n      <td>21</td>\n      <td>910</td>\n    </tr>\n    <tr>\n      <th>215</th>\n      <td>2018</td>\n      <td>Uruguay</td>\n      <td>14</td>\n      <td>1018</td>\n    </tr>\n  </tbody>\n</table>\n<p>216 rows × 4 columns</p>\n</div>"
     },
     "execution_count": 56,
     "metadata": {},
     "output_type": "execute_result"
    }
   ],
   "source": [
    "rank_data"
   ],
   "metadata": {
    "collapsed": false
   }
  },
  {
   "cell_type": "markdown",
   "source": [],
   "metadata": {
    "collapsed": false
   }
  },
  {
   "cell_type": "markdown",
   "source": [
    "First, to convert the data of whether either of the teams of interest is the host, I will create two extra columns, `host` and `neutral` as required"
   ],
   "metadata": {
    "collapsed": false
   }
  },
  {
   "cell_type": "code",
   "execution_count": 57,
   "outputs": [],
   "source": [
    "# recall that I have defined this function previously, I will only modify slightly so that the names of the columns correspond to game_data and the extra columns of host and neutral would be incorporated\n",
    "def reshape_historic(df):\n",
    "    reshaped = pd.DataFrame(columns = ['Team', 'Goals', 'Host', 'Neutral', 'Year'],index = np.arange(len(df.index)*2))\n",
    "\n",
    "    reshaped['Host'] = np.zeros(len(df.index)*2)\n",
    "    reshaped['Neutral'] = np.zeros(len(df.index)*2)\n",
    "\n",
    "    for i in df.index:\n",
    "        reshaped.loc[2*i, 'Team'] = df.loc[i, 'TeamA']\n",
    "        reshaped.loc[2*i + 1, 'Team'] = df.loc[i, 'TeamB']\n",
    "        reshaped.loc[2*i, 'Goals'] = df.loc[i, 'goalA']\n",
    "        reshaped.loc[2*i + 1, 'Goals'] = df.loc[i, 'goalB']\n",
    "        reshaped.loc[2*i, 'Year'] = df.loc[i, 'Year']\n",
    "        reshaped.loc[2*i+1, 'Year'] = df.loc[i, 'Year']\n",
    "\n",
    "        if df.loc[i, 'Home'] == 'A':\n",
    "            reshaped.loc[2*i, 'Host'] = 1\n",
    "\n",
    "        elif df.loc[i, 'Home'] == 'B':\n",
    "            reshaped.loc[2*i + 1, 'Host'] = 1\n",
    "\n",
    "        else:\n",
    "            reshaped.loc[2*i, 'Neutral'] = 1\n",
    "            reshaped.loc[2*i + 1, 'Neutral'] = 1\n",
    "\n",
    "    return reshaped"
   ],
   "metadata": {
    "collapsed": false
   }
  },
  {
   "cell_type": "code",
   "execution_count": 58,
   "outputs": [
    {
     "data": {
      "text/plain": "            Team Goals  Host  Neutral  Year\n0        Germany     1   0.0      1.0  1994\n1        Bolivia     0   0.0      1.0  1994\n2          Spain     2   0.0      1.0  1994\n3    South Korea     2   0.0      1.0  1994\n4  United States     1   1.0      0.0  1994",
      "text/html": "<div>\n<style scoped>\n    .dataframe tbody tr th:only-of-type {\n        vertical-align: middle;\n    }\n\n    .dataframe tbody tr th {\n        vertical-align: top;\n    }\n\n    .dataframe thead th {\n        text-align: right;\n    }\n</style>\n<table border=\"1\" class=\"dataframe\">\n  <thead>\n    <tr style=\"text-align: right;\">\n      <th></th>\n      <th>Team</th>\n      <th>Goals</th>\n      <th>Host</th>\n      <th>Neutral</th>\n      <th>Year</th>\n    </tr>\n  </thead>\n  <tbody>\n    <tr>\n      <th>0</th>\n      <td>Germany</td>\n      <td>1</td>\n      <td>0.0</td>\n      <td>1.0</td>\n      <td>1994</td>\n    </tr>\n    <tr>\n      <th>1</th>\n      <td>Bolivia</td>\n      <td>0</td>\n      <td>0.0</td>\n      <td>1.0</td>\n      <td>1994</td>\n    </tr>\n    <tr>\n      <th>2</th>\n      <td>Spain</td>\n      <td>2</td>\n      <td>0.0</td>\n      <td>1.0</td>\n      <td>1994</td>\n    </tr>\n    <tr>\n      <th>3</th>\n      <td>South Korea</td>\n      <td>2</td>\n      <td>0.0</td>\n      <td>1.0</td>\n      <td>1994</td>\n    </tr>\n    <tr>\n      <th>4</th>\n      <td>United States</td>\n      <td>1</td>\n      <td>1.0</td>\n      <td>0.0</td>\n      <td>1994</td>\n    </tr>\n  </tbody>\n</table>\n</div>"
     },
     "execution_count": 58,
     "metadata": {},
     "output_type": "execute_result"
    }
   ],
   "source": [
    "host = reshape_historic(game_data)\n",
    "host.head()"
   ],
   "metadata": {
    "collapsed": false
   }
  },
  {
   "cell_type": "markdown",
   "source": [
    "I will now incorporate the rank data"
   ],
   "metadata": {
    "collapsed": false
   }
  },
  {
   "cell_type": "code",
   "execution_count": 59,
   "outputs": [
    {
     "data": {
      "text/plain": "              Team Goals  Host  Neutral  Year  Rank  Rating\n0          Germany     1   0.0      1.0  1994     1      60\n1          Bolivia     0   0.0      1.0  1994    43      35\n2            Spain     2   0.0      1.0  1994     5      56\n3      South Korea     2   0.0      1.0  1994    37      38\n4    United States     1   1.0      0.0  1994    23      47\n..             ...   ...   ...      ...   ...   ...     ...\n867        England     1   0.0      1.0  2018    12    1051\n868        Belgium     2   0.0      1.0  2018     3    1298\n869        England     0   0.0      1.0  2018    12    1051\n870         France     4   0.0      1.0  2018     7    1198\n871        Croatia     2   0.0      1.0  2018    20     945\n\n[872 rows x 7 columns]",
      "text/html": "<div>\n<style scoped>\n    .dataframe tbody tr th:only-of-type {\n        vertical-align: middle;\n    }\n\n    .dataframe tbody tr th {\n        vertical-align: top;\n    }\n\n    .dataframe thead th {\n        text-align: right;\n    }\n</style>\n<table border=\"1\" class=\"dataframe\">\n  <thead>\n    <tr style=\"text-align: right;\">\n      <th></th>\n      <th>Team</th>\n      <th>Goals</th>\n      <th>Host</th>\n      <th>Neutral</th>\n      <th>Year</th>\n      <th>Rank</th>\n      <th>Rating</th>\n    </tr>\n  </thead>\n  <tbody>\n    <tr>\n      <th>0</th>\n      <td>Germany</td>\n      <td>1</td>\n      <td>0.0</td>\n      <td>1.0</td>\n      <td>1994</td>\n      <td>1</td>\n      <td>60</td>\n    </tr>\n    <tr>\n      <th>1</th>\n      <td>Bolivia</td>\n      <td>0</td>\n      <td>0.0</td>\n      <td>1.0</td>\n      <td>1994</td>\n      <td>43</td>\n      <td>35</td>\n    </tr>\n    <tr>\n      <th>2</th>\n      <td>Spain</td>\n      <td>2</td>\n      <td>0.0</td>\n      <td>1.0</td>\n      <td>1994</td>\n      <td>5</td>\n      <td>56</td>\n    </tr>\n    <tr>\n      <th>3</th>\n      <td>South Korea</td>\n      <td>2</td>\n      <td>0.0</td>\n      <td>1.0</td>\n      <td>1994</td>\n      <td>37</td>\n      <td>38</td>\n    </tr>\n    <tr>\n      <th>4</th>\n      <td>United States</td>\n      <td>1</td>\n      <td>1.0</td>\n      <td>0.0</td>\n      <td>1994</td>\n      <td>23</td>\n      <td>47</td>\n    </tr>\n    <tr>\n      <th>...</th>\n      <td>...</td>\n      <td>...</td>\n      <td>...</td>\n      <td>...</td>\n      <td>...</td>\n      <td>...</td>\n      <td>...</td>\n    </tr>\n    <tr>\n      <th>867</th>\n      <td>England</td>\n      <td>1</td>\n      <td>0.0</td>\n      <td>1.0</td>\n      <td>2018</td>\n      <td>12</td>\n      <td>1051</td>\n    </tr>\n    <tr>\n      <th>868</th>\n      <td>Belgium</td>\n      <td>2</td>\n      <td>0.0</td>\n      <td>1.0</td>\n      <td>2018</td>\n      <td>3</td>\n      <td>1298</td>\n    </tr>\n    <tr>\n      <th>869</th>\n      <td>England</td>\n      <td>0</td>\n      <td>0.0</td>\n      <td>1.0</td>\n      <td>2018</td>\n      <td>12</td>\n      <td>1051</td>\n    </tr>\n    <tr>\n      <th>870</th>\n      <td>France</td>\n      <td>4</td>\n      <td>0.0</td>\n      <td>1.0</td>\n      <td>2018</td>\n      <td>7</td>\n      <td>1198</td>\n    </tr>\n    <tr>\n      <th>871</th>\n      <td>Croatia</td>\n      <td>2</td>\n      <td>0.0</td>\n      <td>1.0</td>\n      <td>2018</td>\n      <td>20</td>\n      <td>945</td>\n    </tr>\n  </tbody>\n</table>\n<p>872 rows × 7 columns</p>\n</div>"
     },
     "execution_count": 59,
     "metadata": {},
     "output_type": "execute_result"
    }
   ],
   "source": [
    "combined = pd.merge(host, rank_data, how = 'left', on = ['Team', 'Year'])\n",
    "combined"
   ],
   "metadata": {
    "collapsed": false
   }
  },
  {
   "cell_type": "markdown",
   "source": [
    "Since we will only be using the rank data and whether the country is a host nation to predict the goal rate, I will drop the other columns. I will also add another column of `Opponent Rank` since that is also incorporated into the linear model"
   ],
   "metadata": {
    "collapsed": false
   }
  },
  {
   "cell_type": "code",
   "execution_count": 60,
   "outputs": [
    {
     "name": "stderr",
     "output_type": "stream",
     "text": [
      "/var/folders/yb/bffvyrdd7gn289hkvgkcldn40000gn/T/ipykernel_60044/2932650777.py:4: SettingWithCopyWarning: \n",
      "A value is trying to be set on a copy of a slice from a DataFrame.\n",
      "Try using .loc[row_indexer,col_indexer] = value instead\n",
      "\n",
      "See the caveats in the documentation: https://pandas.pydata.org/pandas-docs/stable/user_guide/indexing.html#returning-a-view-versus-a-copy\n",
      "  df.loc[i, 'Opponent_Rank'] = df.loc[i+1, 'Rank']\n"
     ]
    },
    {
     "data": {
      "text/plain": "            Team Goals  Rank  Host  Neutral  Opponent_Rank\n0        Germany     1     1   0.0      1.0           43.0\n1        Bolivia     0    43   0.0      1.0            1.0\n2          Spain     2     5   0.0      1.0           37.0\n3    South Korea     2    37   0.0      1.0            5.0\n4  United States     1    23   1.0      0.0           12.0",
      "text/html": "<div>\n<style scoped>\n    .dataframe tbody tr th:only-of-type {\n        vertical-align: middle;\n    }\n\n    .dataframe tbody tr th {\n        vertical-align: top;\n    }\n\n    .dataframe thead th {\n        text-align: right;\n    }\n</style>\n<table border=\"1\" class=\"dataframe\">\n  <thead>\n    <tr style=\"text-align: right;\">\n      <th></th>\n      <th>Team</th>\n      <th>Goals</th>\n      <th>Rank</th>\n      <th>Host</th>\n      <th>Neutral</th>\n      <th>Opponent_Rank</th>\n    </tr>\n  </thead>\n  <tbody>\n    <tr>\n      <th>0</th>\n      <td>Germany</td>\n      <td>1</td>\n      <td>1</td>\n      <td>0.0</td>\n      <td>1.0</td>\n      <td>43.0</td>\n    </tr>\n    <tr>\n      <th>1</th>\n      <td>Bolivia</td>\n      <td>0</td>\n      <td>43</td>\n      <td>0.0</td>\n      <td>1.0</td>\n      <td>1.0</td>\n    </tr>\n    <tr>\n      <th>2</th>\n      <td>Spain</td>\n      <td>2</td>\n      <td>5</td>\n      <td>0.0</td>\n      <td>1.0</td>\n      <td>37.0</td>\n    </tr>\n    <tr>\n      <th>3</th>\n      <td>South Korea</td>\n      <td>2</td>\n      <td>37</td>\n      <td>0.0</td>\n      <td>1.0</td>\n      <td>5.0</td>\n    </tr>\n    <tr>\n      <th>4</th>\n      <td>United States</td>\n      <td>1</td>\n      <td>23</td>\n      <td>1.0</td>\n      <td>0.0</td>\n      <td>12.0</td>\n    </tr>\n  </tbody>\n</table>\n</div>"
     },
     "execution_count": 60,
     "metadata": {},
     "output_type": "execute_result"
    }
   ],
   "source": [
    "df = combined[['Team', 'Goals', 'Rank','Host', 'Neutral']]\n",
    "for i in df.index:\n",
    "    if i % 2 == 0:\n",
    "        df.loc[i, 'Opponent_Rank'] = df.loc[i+1, 'Rank']\n",
    "    else:\n",
    "        df.loc[i, 'Opponent_Rank'] = df.loc[i-1, 'Rank']\n",
    "df.head()"
   ],
   "metadata": {
    "collapsed": false
   }
  },
  {
   "cell_type": "markdown",
   "source": [
    "Lastly, to make sure that the data is numeric"
   ],
   "metadata": {
    "collapsed": false
   }
  },
  {
   "cell_type": "code",
   "execution_count": 61,
   "outputs": [
    {
     "name": "stderr",
     "output_type": "stream",
     "text": [
      "/var/folders/yb/bffvyrdd7gn289hkvgkcldn40000gn/T/ipykernel_60044/298359278.py:1: SettingWithCopyWarning: \n",
      "A value is trying to be set on a copy of a slice from a DataFrame.\n",
      "Try using .loc[row_indexer,col_indexer] = value instead\n",
      "\n",
      "See the caveats in the documentation: https://pandas.pydata.org/pandas-docs/stable/user_guide/indexing.html#returning-a-view-versus-a-copy\n",
      "  df[[ 'Goals', 'Rank', 'Opponent_Rank', 'Host', 'Neutral']] = df[['Goals','Rank', 'Opponent_Rank', 'Host', 'Neutral']].apply(pd.to_numeric)\n"
     ]
    },
    {
     "data": {
      "text/plain": "   Goals  Rank  Opponent_Rank  Host  Neutral\n0      1     1           43.0   0.0      1.0\n1      0    43            1.0   0.0      1.0\n2      2     5           37.0   0.0      1.0\n3      2    37            5.0   0.0      1.0\n4      1    23           12.0   1.0      0.0",
      "text/html": "<div>\n<style scoped>\n    .dataframe tbody tr th:only-of-type {\n        vertical-align: middle;\n    }\n\n    .dataframe tbody tr th {\n        vertical-align: top;\n    }\n\n    .dataframe thead th {\n        text-align: right;\n    }\n</style>\n<table border=\"1\" class=\"dataframe\">\n  <thead>\n    <tr style=\"text-align: right;\">\n      <th></th>\n      <th>Goals</th>\n      <th>Rank</th>\n      <th>Opponent_Rank</th>\n      <th>Host</th>\n      <th>Neutral</th>\n    </tr>\n  </thead>\n  <tbody>\n    <tr>\n      <th>0</th>\n      <td>1</td>\n      <td>1</td>\n      <td>43.0</td>\n      <td>0.0</td>\n      <td>1.0</td>\n    </tr>\n    <tr>\n      <th>1</th>\n      <td>0</td>\n      <td>43</td>\n      <td>1.0</td>\n      <td>0.0</td>\n      <td>1.0</td>\n    </tr>\n    <tr>\n      <th>2</th>\n      <td>2</td>\n      <td>5</td>\n      <td>37.0</td>\n      <td>0.0</td>\n      <td>1.0</td>\n    </tr>\n    <tr>\n      <th>3</th>\n      <td>2</td>\n      <td>37</td>\n      <td>5.0</td>\n      <td>0.0</td>\n      <td>1.0</td>\n    </tr>\n    <tr>\n      <th>4</th>\n      <td>1</td>\n      <td>23</td>\n      <td>12.0</td>\n      <td>1.0</td>\n      <td>0.0</td>\n    </tr>\n  </tbody>\n</table>\n</div>"
     },
     "execution_count": 61,
     "metadata": {},
     "output_type": "execute_result"
    }
   ],
   "source": [
    "df[[ 'Goals', 'Rank', 'Opponent_Rank', 'Host', 'Neutral']] = df[['Goals','Rank', 'Opponent_Rank', 'Host', 'Neutral']].apply(pd.to_numeric)\n",
    "df = df[['Goals','Rank', 'Opponent_Rank', 'Host', 'Neutral']]\n",
    "df.head()"
   ],
   "metadata": {
    "collapsed": false
   }
  },
  {
   "cell_type": "markdown",
   "source": [
    "Next, after some data cleaning, I will fit the five-parameter model from 1994 to 2018"
   ],
   "metadata": {
    "collapsed": false
   }
  },
  {
   "cell_type": "code",
   "execution_count": 62,
   "outputs": [],
   "source": [
    "import statsmodels.api as sm\n",
    "import statsmodels.formula.api as smf\n",
    "from statsmodels.formula.api import glm"
   ],
   "metadata": {
    "collapsed": false
   }
  },
  {
   "cell_type": "code",
   "execution_count": 63,
   "outputs": [
    {
     "name": "stdout",
     "output_type": "stream",
     "text": [
      "                 Generalized Linear Model Regression Results                  \n",
      "==============================================================================\n",
      "Dep. Variable:                  Goals   No. Observations:                  872\n",
      "Model:                            GLM   Df Residuals:                      867\n",
      "Model Family:                 Poisson   Df Model:                            4\n",
      "Link Function:                    Log   Scale:                          1.0000\n",
      "Method:                          IRLS   Log-Likelihood:                -1228.2\n",
      "Date:                Sat, 07 Jan 2023   Deviance:                       1005.5\n",
      "Time:                        10:32:17   Pearson chi2:                     912.\n",
      "No. Iterations:                     5   Pseudo R-squ. (CS):             0.1090\n",
      "Covariance Type:            nonrobust                                         \n",
      "=================================================================================\n",
      "                    coef    std err          z      P>|z|      [0.025      0.975]\n",
      "---------------------------------------------------------------------------------\n",
      "Intercept        -0.1753      0.167     -1.050      0.294      -0.503       0.152\n",
      "Rank             -0.0125      0.002     -6.078      0.000      -0.017      -0.008\n",
      "Opponent_Rank     0.0118      0.002      7.492      0.000       0.009       0.015\n",
      "Host              0.7073      0.196      3.602      0.000       0.322       1.092\n",
      "Neutral           0.3600      0.156      2.311      0.021       0.055       0.665\n",
      "=================================================================================\n"
     ]
    }
   ],
   "source": [
    "model = glm(formula = 'Goals ~ Rank + Opponent_Rank + Host + Neutral',\n",
    "            data = df,\n",
    "            family = sm.families.Poisson()).fit()\n",
    "print(model.summary())"
   ],
   "metadata": {
    "collapsed": false
   }
  },
  {
   "cell_type": "markdown",
   "source": [
    "Now, after fitting the model, I can store the desired parameters and use them to predict the goal rates"
   ],
   "metadata": {
    "collapsed": false
   }
  },
  {
   "cell_type": "code",
   "execution_count": 64,
   "outputs": [],
   "source": [
    "alpha, beta, gamma, h, n = model.params # h denotes coefficient associated with Host and n denotes coefficient associated with Neutral since they are both binary values"
   ],
   "metadata": {
    "collapsed": false
   }
  },
  {
   "cell_type": "code",
   "execution_count": 65,
   "outputs": [],
   "source": [
    "def goal_rate(rA, rB, host, neutral, alpha = alpha, beta = beta, gamma = gamma, h = h, n = n):\n",
    "    return np.exp(alpha + beta * rA + gamma * rB + h * host + n * neutral)"
   ],
   "metadata": {
    "collapsed": false
   }
  },
  {
   "cell_type": "markdown",
   "source": [
    "I will then apply the derived formula for goal rate to the dataframe to create new column `Goal Rate`, but this time using the 2022 rank data"
   ],
   "metadata": {
    "collapsed": false
   }
  },
  {
   "cell_type": "code",
   "execution_count": 66,
   "outputs": [
    {
     "data": {
      "text/plain": "   Group  ID           Team Home\n0      A   1          Qatar  Yes\n1      A   2        Ecuador   No\n2      A   3        Senegal   No\n3      A   4    Netherlands   No\n4      B   1        England   No\n5      B   2           Iran   No\n6      B   3  United States   No\n7      B   4          Wales   No\n8      C   1      Argentina   No\n9      C   2   Saudi Arabia   No\n10     C   3         Mexico   No\n11     C   4         Poland   No\n12     D   1         France   No\n13     D   2      Australia   No\n14     D   3        Denmark   No\n15     D   4        Tunisia   No\n16     E   1          Spain   No\n17     E   2     Costa Rica   No\n18     E   3        Germany   No\n19     E   4          Japan   No\n20     F   1        Belgium   No\n21     F   2         Canada   No\n22     F   3        Morocco   No\n23     F   4        Croatia   No\n24     G   1         Brazil   No\n25     G   2         Serbia   No\n26     G   3    Switzerland   No\n27     G   4       Cameroon   No\n28     H   1       Portugal   No\n29     H   2          Ghana   No\n30     H   3        Uruguay   No\n31     H   4    South Korea   No",
      "text/html": "<div>\n<style scoped>\n    .dataframe tbody tr th:only-of-type {\n        vertical-align: middle;\n    }\n\n    .dataframe tbody tr th {\n        vertical-align: top;\n    }\n\n    .dataframe thead th {\n        text-align: right;\n    }\n</style>\n<table border=\"1\" class=\"dataframe\">\n  <thead>\n    <tr style=\"text-align: right;\">\n      <th></th>\n      <th>Group</th>\n      <th>ID</th>\n      <th>Team</th>\n      <th>Home</th>\n    </tr>\n  </thead>\n  <tbody>\n    <tr>\n      <th>0</th>\n      <td>A</td>\n      <td>1</td>\n      <td>Qatar</td>\n      <td>Yes</td>\n    </tr>\n    <tr>\n      <th>1</th>\n      <td>A</td>\n      <td>2</td>\n      <td>Ecuador</td>\n      <td>No</td>\n    </tr>\n    <tr>\n      <th>2</th>\n      <td>A</td>\n      <td>3</td>\n      <td>Senegal</td>\n      <td>No</td>\n    </tr>\n    <tr>\n      <th>3</th>\n      <td>A</td>\n      <td>4</td>\n      <td>Netherlands</td>\n      <td>No</td>\n    </tr>\n    <tr>\n      <th>4</th>\n      <td>B</td>\n      <td>1</td>\n      <td>England</td>\n      <td>No</td>\n    </tr>\n    <tr>\n      <th>5</th>\n      <td>B</td>\n      <td>2</td>\n      <td>Iran</td>\n      <td>No</td>\n    </tr>\n    <tr>\n      <th>6</th>\n      <td>B</td>\n      <td>3</td>\n      <td>United States</td>\n      <td>No</td>\n    </tr>\n    <tr>\n      <th>7</th>\n      <td>B</td>\n      <td>4</td>\n      <td>Wales</td>\n      <td>No</td>\n    </tr>\n    <tr>\n      <th>8</th>\n      <td>C</td>\n      <td>1</td>\n      <td>Argentina</td>\n      <td>No</td>\n    </tr>\n    <tr>\n      <th>9</th>\n      <td>C</td>\n      <td>2</td>\n      <td>Saudi Arabia</td>\n      <td>No</td>\n    </tr>\n    <tr>\n      <th>10</th>\n      <td>C</td>\n      <td>3</td>\n      <td>Mexico</td>\n      <td>No</td>\n    </tr>\n    <tr>\n      <th>11</th>\n      <td>C</td>\n      <td>4</td>\n      <td>Poland</td>\n      <td>No</td>\n    </tr>\n    <tr>\n      <th>12</th>\n      <td>D</td>\n      <td>1</td>\n      <td>France</td>\n      <td>No</td>\n    </tr>\n    <tr>\n      <th>13</th>\n      <td>D</td>\n      <td>2</td>\n      <td>Australia</td>\n      <td>No</td>\n    </tr>\n    <tr>\n      <th>14</th>\n      <td>D</td>\n      <td>3</td>\n      <td>Denmark</td>\n      <td>No</td>\n    </tr>\n    <tr>\n      <th>15</th>\n      <td>D</td>\n      <td>4</td>\n      <td>Tunisia</td>\n      <td>No</td>\n    </tr>\n    <tr>\n      <th>16</th>\n      <td>E</td>\n      <td>1</td>\n      <td>Spain</td>\n      <td>No</td>\n    </tr>\n    <tr>\n      <th>17</th>\n      <td>E</td>\n      <td>2</td>\n      <td>Costa Rica</td>\n      <td>No</td>\n    </tr>\n    <tr>\n      <th>18</th>\n      <td>E</td>\n      <td>3</td>\n      <td>Germany</td>\n      <td>No</td>\n    </tr>\n    <tr>\n      <th>19</th>\n      <td>E</td>\n      <td>4</td>\n      <td>Japan</td>\n      <td>No</td>\n    </tr>\n    <tr>\n      <th>20</th>\n      <td>F</td>\n      <td>1</td>\n      <td>Belgium</td>\n      <td>No</td>\n    </tr>\n    <tr>\n      <th>21</th>\n      <td>F</td>\n      <td>2</td>\n      <td>Canada</td>\n      <td>No</td>\n    </tr>\n    <tr>\n      <th>22</th>\n      <td>F</td>\n      <td>3</td>\n      <td>Morocco</td>\n      <td>No</td>\n    </tr>\n    <tr>\n      <th>23</th>\n      <td>F</td>\n      <td>4</td>\n      <td>Croatia</td>\n      <td>No</td>\n    </tr>\n    <tr>\n      <th>24</th>\n      <td>G</td>\n      <td>1</td>\n      <td>Brazil</td>\n      <td>No</td>\n    </tr>\n    <tr>\n      <th>25</th>\n      <td>G</td>\n      <td>2</td>\n      <td>Serbia</td>\n      <td>No</td>\n    </tr>\n    <tr>\n      <th>26</th>\n      <td>G</td>\n      <td>3</td>\n      <td>Switzerland</td>\n      <td>No</td>\n    </tr>\n    <tr>\n      <th>27</th>\n      <td>G</td>\n      <td>4</td>\n      <td>Cameroon</td>\n      <td>No</td>\n    </tr>\n    <tr>\n      <th>28</th>\n      <td>H</td>\n      <td>1</td>\n      <td>Portugal</td>\n      <td>No</td>\n    </tr>\n    <tr>\n      <th>29</th>\n      <td>H</td>\n      <td>2</td>\n      <td>Ghana</td>\n      <td>No</td>\n    </tr>\n    <tr>\n      <th>30</th>\n      <td>H</td>\n      <td>3</td>\n      <td>Uruguay</td>\n      <td>No</td>\n    </tr>\n    <tr>\n      <th>31</th>\n      <td>H</td>\n      <td>4</td>\n      <td>South Korea</td>\n      <td>No</td>\n    </tr>\n  </tbody>\n</table>\n</div>"
     },
     "execution_count": 66,
     "metadata": {},
     "output_type": "execute_result"
    }
   ],
   "source": [
    "# Here we will simply assume again that the tournament is a simple knock-out tournament.\n",
    "team_id = pd.read_csv('Datasets/2022_teamID.csv')\n",
    "rankings = pd.read_csv('Datasets/2022_rankings.csv')\n",
    "team_id"
   ],
   "metadata": {
    "collapsed": false
   }
  },
  {
   "cell_type": "code",
   "execution_count": 67,
   "outputs": [
    {
     "data": {
      "text/plain": "         Team  Rank  Rating  Unnamed: 3  Unnamed: 4  Unnamed: 5\n0      Brazil   1.0  1841.0         NaN         NaN         NaN\n1     Belgium   2.0  1817.0         NaN         NaN         NaN\n2   Argentina   3.0  1774.0         NaN         NaN         NaN\n3      France   4.0  1760.0         NaN         NaN         NaN\n4     England   5.0  1728.0         NaN         NaN         NaN\n..        ...   ...     ...         ...         ...         ...\n68        NaN   NaN     NaN         NaN         NaN         NaN\n69        NaN   NaN     NaN         NaN         NaN         NaN\n70        NaN   NaN     NaN         NaN         NaN         NaN\n71        NaN   NaN     NaN         NaN         NaN         NaN\n72        NaN   NaN     NaN         NaN         NaN         NaN\n\n[73 rows x 6 columns]",
      "text/html": "<div>\n<style scoped>\n    .dataframe tbody tr th:only-of-type {\n        vertical-align: middle;\n    }\n\n    .dataframe tbody tr th {\n        vertical-align: top;\n    }\n\n    .dataframe thead th {\n        text-align: right;\n    }\n</style>\n<table border=\"1\" class=\"dataframe\">\n  <thead>\n    <tr style=\"text-align: right;\">\n      <th></th>\n      <th>Team</th>\n      <th>Rank</th>\n      <th>Rating</th>\n      <th>Unnamed: 3</th>\n      <th>Unnamed: 4</th>\n      <th>Unnamed: 5</th>\n    </tr>\n  </thead>\n  <tbody>\n    <tr>\n      <th>0</th>\n      <td>Brazil</td>\n      <td>1.0</td>\n      <td>1841.0</td>\n      <td>NaN</td>\n      <td>NaN</td>\n      <td>NaN</td>\n    </tr>\n    <tr>\n      <th>1</th>\n      <td>Belgium</td>\n      <td>2.0</td>\n      <td>1817.0</td>\n      <td>NaN</td>\n      <td>NaN</td>\n      <td>NaN</td>\n    </tr>\n    <tr>\n      <th>2</th>\n      <td>Argentina</td>\n      <td>3.0</td>\n      <td>1774.0</td>\n      <td>NaN</td>\n      <td>NaN</td>\n      <td>NaN</td>\n    </tr>\n    <tr>\n      <th>3</th>\n      <td>France</td>\n      <td>4.0</td>\n      <td>1760.0</td>\n      <td>NaN</td>\n      <td>NaN</td>\n      <td>NaN</td>\n    </tr>\n    <tr>\n      <th>4</th>\n      <td>England</td>\n      <td>5.0</td>\n      <td>1728.0</td>\n      <td>NaN</td>\n      <td>NaN</td>\n      <td>NaN</td>\n    </tr>\n    <tr>\n      <th>...</th>\n      <td>...</td>\n      <td>...</td>\n      <td>...</td>\n      <td>...</td>\n      <td>...</td>\n      <td>...</td>\n    </tr>\n    <tr>\n      <th>68</th>\n      <td>NaN</td>\n      <td>NaN</td>\n      <td>NaN</td>\n      <td>NaN</td>\n      <td>NaN</td>\n      <td>NaN</td>\n    </tr>\n    <tr>\n      <th>69</th>\n      <td>NaN</td>\n      <td>NaN</td>\n      <td>NaN</td>\n      <td>NaN</td>\n      <td>NaN</td>\n      <td>NaN</td>\n    </tr>\n    <tr>\n      <th>70</th>\n      <td>NaN</td>\n      <td>NaN</td>\n      <td>NaN</td>\n      <td>NaN</td>\n      <td>NaN</td>\n      <td>NaN</td>\n    </tr>\n    <tr>\n      <th>71</th>\n      <td>NaN</td>\n      <td>NaN</td>\n      <td>NaN</td>\n      <td>NaN</td>\n      <td>NaN</td>\n      <td>NaN</td>\n    </tr>\n    <tr>\n      <th>72</th>\n      <td>NaN</td>\n      <td>NaN</td>\n      <td>NaN</td>\n      <td>NaN</td>\n      <td>NaN</td>\n      <td>NaN</td>\n    </tr>\n  </tbody>\n</table>\n<p>73 rows × 6 columns</p>\n</div>"
     },
     "execution_count": 67,
     "metadata": {},
     "output_type": "execute_result"
    }
   ],
   "source": [
    "rankings"
   ],
   "metadata": {
    "collapsed": false
   }
  },
  {
   "cell_type": "code",
   "execution_count": 68,
   "outputs": [
    {
     "data": {
      "text/plain": "             Team  Rank Home\n0          Brazil   1.0   No\n1         Belgium   2.0   No\n2       Argentina   3.0   No\n3          France   4.0   No\n4         England   5.0   No\n5           Spain   7.0   No\n6     Netherlands   8.0   No\n7        Portugal   9.0   No\n8         Denmark  10.0   No\n9         Germany  11.0   No\n10        Croatia  12.0   No\n11         Mexico  13.0   No\n12        Uruguay  14.0   No\n13    Switzerland  15.0   No\n14  United States  16.0   No\n15        Senegal  18.0   No\n16          Wales  19.0   No\n17           Iran  20.0   No\n18         Serbia  21.0   No\n19        Morocco  22.0   No\n20          Japan  24.0   No\n21         Poland  26.0   No\n22    South Korea  28.0   No\n23        Tunisia  30.0   No\n24     Costa Rica  31.0   No\n25      Australia  38.0   No\n26         Canada  41.0   No\n27       Cameroon  43.0   No\n28        Ecuador  44.0   No\n29          Qatar  50.0  Yes\n30   Saudi Arabia  51.0   No\n31          Ghana  61.0   No",
      "text/html": "<div>\n<style scoped>\n    .dataframe tbody tr th:only-of-type {\n        vertical-align: middle;\n    }\n\n    .dataframe tbody tr th {\n        vertical-align: top;\n    }\n\n    .dataframe thead th {\n        text-align: right;\n    }\n</style>\n<table border=\"1\" class=\"dataframe\">\n  <thead>\n    <tr style=\"text-align: right;\">\n      <th></th>\n      <th>Team</th>\n      <th>Rank</th>\n      <th>Home</th>\n    </tr>\n  </thead>\n  <tbody>\n    <tr>\n      <th>0</th>\n      <td>Brazil</td>\n      <td>1.0</td>\n      <td>No</td>\n    </tr>\n    <tr>\n      <th>1</th>\n      <td>Belgium</td>\n      <td>2.0</td>\n      <td>No</td>\n    </tr>\n    <tr>\n      <th>2</th>\n      <td>Argentina</td>\n      <td>3.0</td>\n      <td>No</td>\n    </tr>\n    <tr>\n      <th>3</th>\n      <td>France</td>\n      <td>4.0</td>\n      <td>No</td>\n    </tr>\n    <tr>\n      <th>4</th>\n      <td>England</td>\n      <td>5.0</td>\n      <td>No</td>\n    </tr>\n    <tr>\n      <th>5</th>\n      <td>Spain</td>\n      <td>7.0</td>\n      <td>No</td>\n    </tr>\n    <tr>\n      <th>6</th>\n      <td>Netherlands</td>\n      <td>8.0</td>\n      <td>No</td>\n    </tr>\n    <tr>\n      <th>7</th>\n      <td>Portugal</td>\n      <td>9.0</td>\n      <td>No</td>\n    </tr>\n    <tr>\n      <th>8</th>\n      <td>Denmark</td>\n      <td>10.0</td>\n      <td>No</td>\n    </tr>\n    <tr>\n      <th>9</th>\n      <td>Germany</td>\n      <td>11.0</td>\n      <td>No</td>\n    </tr>\n    <tr>\n      <th>10</th>\n      <td>Croatia</td>\n      <td>12.0</td>\n      <td>No</td>\n    </tr>\n    <tr>\n      <th>11</th>\n      <td>Mexico</td>\n      <td>13.0</td>\n      <td>No</td>\n    </tr>\n    <tr>\n      <th>12</th>\n      <td>Uruguay</td>\n      <td>14.0</td>\n      <td>No</td>\n    </tr>\n    <tr>\n      <th>13</th>\n      <td>Switzerland</td>\n      <td>15.0</td>\n      <td>No</td>\n    </tr>\n    <tr>\n      <th>14</th>\n      <td>United States</td>\n      <td>16.0</td>\n      <td>No</td>\n    </tr>\n    <tr>\n      <th>15</th>\n      <td>Senegal</td>\n      <td>18.0</td>\n      <td>No</td>\n    </tr>\n    <tr>\n      <th>16</th>\n      <td>Wales</td>\n      <td>19.0</td>\n      <td>No</td>\n    </tr>\n    <tr>\n      <th>17</th>\n      <td>Iran</td>\n      <td>20.0</td>\n      <td>No</td>\n    </tr>\n    <tr>\n      <th>18</th>\n      <td>Serbia</td>\n      <td>21.0</td>\n      <td>No</td>\n    </tr>\n    <tr>\n      <th>19</th>\n      <td>Morocco</td>\n      <td>22.0</td>\n      <td>No</td>\n    </tr>\n    <tr>\n      <th>20</th>\n      <td>Japan</td>\n      <td>24.0</td>\n      <td>No</td>\n    </tr>\n    <tr>\n      <th>21</th>\n      <td>Poland</td>\n      <td>26.0</td>\n      <td>No</td>\n    </tr>\n    <tr>\n      <th>22</th>\n      <td>South Korea</td>\n      <td>28.0</td>\n      <td>No</td>\n    </tr>\n    <tr>\n      <th>23</th>\n      <td>Tunisia</td>\n      <td>30.0</td>\n      <td>No</td>\n    </tr>\n    <tr>\n      <th>24</th>\n      <td>Costa Rica</td>\n      <td>31.0</td>\n      <td>No</td>\n    </tr>\n    <tr>\n      <th>25</th>\n      <td>Australia</td>\n      <td>38.0</td>\n      <td>No</td>\n    </tr>\n    <tr>\n      <th>26</th>\n      <td>Canada</td>\n      <td>41.0</td>\n      <td>No</td>\n    </tr>\n    <tr>\n      <th>27</th>\n      <td>Cameroon</td>\n      <td>43.0</td>\n      <td>No</td>\n    </tr>\n    <tr>\n      <th>28</th>\n      <td>Ecuador</td>\n      <td>44.0</td>\n      <td>No</td>\n    </tr>\n    <tr>\n      <th>29</th>\n      <td>Qatar</td>\n      <td>50.0</td>\n      <td>Yes</td>\n    </tr>\n    <tr>\n      <th>30</th>\n      <td>Saudi Arabia</td>\n      <td>51.0</td>\n      <td>No</td>\n    </tr>\n    <tr>\n      <th>31</th>\n      <td>Ghana</td>\n      <td>61.0</td>\n      <td>No</td>\n    </tr>\n  </tbody>\n</table>\n</div>"
     },
     "execution_count": 68,
     "metadata": {},
     "output_type": "execute_result"
    }
   ],
   "source": [
    "# I will call the new combined dataset 'joined' and perform some data-cleaning\n",
    "joined = pd.merge(rankings, team_id, on = 'Team')\n",
    "round_32 = joined[['Team', 'Rank', 'Home']]\n",
    "round_32"
   ],
   "metadata": {
    "collapsed": false
   }
  },
  {
   "cell_type": "markdown",
   "source": [
    "Again I will modify the function `reorder` and `knockout` to take into account the more sophisticated parameters"
   ],
   "metadata": {
    "collapsed": false
   }
  },
  {
   "cell_type": "code",
   "execution_count": 70,
   "outputs": [],
   "source": [
    "# this function will take in a data frame, produce random pairings, and add additional columns `Host` and `Neutral` based on the pairing\n",
    "def reorder_new(df):\n",
    "    n = len(df)\n",
    "    pairs = np.random.choice(n,n,replace=False)\n",
    "    df = df.reindex(pairs)\n",
    "\n",
    "    # this modifies the host column\n",
    "    df['Host'] = pd.DataFrame(df['Home'] == 'Yes').astype(int)\n",
    "    df['Neutral'] = pd.DataFrame(np.ones(n))\n",
    "    df = df.reset_index(drop = True)\n",
    "    if 'Yes' in df['Home']:\n",
    "        idx = df[df['Home']=='Yes'].index.values[0]\n",
    "        if idx % 2 == 0:\n",
    "            df.loc[idx+1, 'Neutral'] = 0\n",
    "        else:\n",
    "            df.loc[idx-1, 'Neutral'] = 0\n",
    "    return df"
   ],
   "metadata": {
    "collapsed": false
   }
  },
  {
   "cell_type": "code",
   "execution_count": 71,
   "outputs": [],
   "source": [
    "def add_opponent(df):\n",
    "    for i in df.index:\n",
    "        if i % 2 == 0:\n",
    "            df.loc[i, 'Opponent_Rank'] = df.loc[i+1, 'Rank']\n",
    "        else:\n",
    "            df.loc[i, 'Opponent_Rank'] = df.loc[i-1, 'Rank']\n",
    "    return df"
   ],
   "metadata": {
    "collapsed": false
   }
  },
  {
   "cell_type": "code",
   "execution_count": 73,
   "outputs": [],
   "source": [
    "# this function passes in a randomly reordered df and performs knockout\n",
    "def single_game_result(lambdA, lambdB):\n",
    "    # rng = np.random.default_rng(seed)\n",
    "    A_goals = np.random.poisson(lambdA)\n",
    "    B_goals = np.random.poisson(lambdB)\n",
    "    if A_goals > B_goals:\n",
    "        result = 'A'\n",
    "    elif A_goals < B_goals:\n",
    "        result = 'B'\n",
    "    else:\n",
    "        result = 'D'\n",
    "    return [A_goals, B_goals, result]\n",
    "\n",
    "def knockout(df):\n",
    "    n = len(df)\n",
    "    new_df = pd.DataFrame(columns=['Team', 'Goal Rate', 'Rank', 'Home'], index=np.arange(n/2))\n",
    "    pairs = df.index.to_list()\n",
    "\n",
    "    for i in range(len(new_df)):\n",
    "        goalA, goalB, result = single_game_result(df.loc[2*i,'Goal Rate'],df.loc[2*i + 1,'Goal Rate'])\n",
    "        if result == 'A':\n",
    "            new_df.loc[i, :] = df.loc[2*i,:]\n",
    "        elif result == 'B':\n",
    "            new_df.loc[i,:] = df.loc[2*i+1,:]\n",
    "        else:\n",
    "            n, p = 1, 0.5\n",
    "            s = np.random.binomial(n,p) #this defines the outcome from a single bernoulli trial\n",
    "            if s == 0:\n",
    "                new_df.loc[i, :] = df.loc[2*i,:]\n",
    "            else:\n",
    "                new_df.loc[i,:] = df.loc[2*i+1,:]\n",
    "    return new_df"
   ],
   "metadata": {
    "collapsed": false
   }
  },
  {
   "cell_type": "code",
   "execution_count": 74,
   "outputs": [
    {
     "data": {
      "text/plain": "               Team Goal Rate  Rank Home\n0.0          Poland  1.013282  26.0   No\n1.0         Ecuador  1.000641  44.0   No\n2.0         Uruguay  1.580873  14.0   No\n3.0         Croatia  1.085383  12.0   No\n4.0         England  2.037959   5.0   No\n5.0         Senegal    1.2019  18.0   No\n6.0   United States  1.261723  16.0   No\n7.0    Saudi Arabia  1.056259  51.0   No\n8.0         Morocco  0.935587  22.0   No\n9.0          Brazil  1.576566   1.0   No\n10.0          Spain  2.263039   7.0   No\n11.0       Portugal  1.531243   9.0   No\n12.0    South Korea  1.375021  28.0   No\n13.0    Switzerland  1.262603  15.0   No\n14.0    Netherlands  1.224671   8.0   No\n15.0        Germany   1.08614  11.0   No",
      "text/html": "<div>\n<style scoped>\n    .dataframe tbody tr th:only-of-type {\n        vertical-align: middle;\n    }\n\n    .dataframe tbody tr th {\n        vertical-align: top;\n    }\n\n    .dataframe thead th {\n        text-align: right;\n    }\n</style>\n<table border=\"1\" class=\"dataframe\">\n  <thead>\n    <tr style=\"text-align: right;\">\n      <th></th>\n      <th>Team</th>\n      <th>Goal Rate</th>\n      <th>Rank</th>\n      <th>Home</th>\n    </tr>\n  </thead>\n  <tbody>\n    <tr>\n      <th>0.0</th>\n      <td>Poland</td>\n      <td>1.013282</td>\n      <td>26.0</td>\n      <td>No</td>\n    </tr>\n    <tr>\n      <th>1.0</th>\n      <td>Ecuador</td>\n      <td>1.000641</td>\n      <td>44.0</td>\n      <td>No</td>\n    </tr>\n    <tr>\n      <th>2.0</th>\n      <td>Uruguay</td>\n      <td>1.580873</td>\n      <td>14.0</td>\n      <td>No</td>\n    </tr>\n    <tr>\n      <th>3.0</th>\n      <td>Croatia</td>\n      <td>1.085383</td>\n      <td>12.0</td>\n      <td>No</td>\n    </tr>\n    <tr>\n      <th>4.0</th>\n      <td>England</td>\n      <td>2.037959</td>\n      <td>5.0</td>\n      <td>No</td>\n    </tr>\n    <tr>\n      <th>5.0</th>\n      <td>Senegal</td>\n      <td>1.2019</td>\n      <td>18.0</td>\n      <td>No</td>\n    </tr>\n    <tr>\n      <th>6.0</th>\n      <td>United States</td>\n      <td>1.261723</td>\n      <td>16.0</td>\n      <td>No</td>\n    </tr>\n    <tr>\n      <th>7.0</th>\n      <td>Saudi Arabia</td>\n      <td>1.056259</td>\n      <td>51.0</td>\n      <td>No</td>\n    </tr>\n    <tr>\n      <th>8.0</th>\n      <td>Morocco</td>\n      <td>0.935587</td>\n      <td>22.0</td>\n      <td>No</td>\n    </tr>\n    <tr>\n      <th>9.0</th>\n      <td>Brazil</td>\n      <td>1.576566</td>\n      <td>1.0</td>\n      <td>No</td>\n    </tr>\n    <tr>\n      <th>10.0</th>\n      <td>Spain</td>\n      <td>2.263039</td>\n      <td>7.0</td>\n      <td>No</td>\n    </tr>\n    <tr>\n      <th>11.0</th>\n      <td>Portugal</td>\n      <td>1.531243</td>\n      <td>9.0</td>\n      <td>No</td>\n    </tr>\n    <tr>\n      <th>12.0</th>\n      <td>South Korea</td>\n      <td>1.375021</td>\n      <td>28.0</td>\n      <td>No</td>\n    </tr>\n    <tr>\n      <th>13.0</th>\n      <td>Switzerland</td>\n      <td>1.262603</td>\n      <td>15.0</td>\n      <td>No</td>\n    </tr>\n    <tr>\n      <th>14.0</th>\n      <td>Netherlands</td>\n      <td>1.224671</td>\n      <td>8.0</td>\n      <td>No</td>\n    </tr>\n    <tr>\n      <th>15.0</th>\n      <td>Germany</td>\n      <td>1.08614</td>\n      <td>11.0</td>\n      <td>No</td>\n    </tr>\n  </tbody>\n</table>\n</div>"
     },
     "execution_count": 74,
     "metadata": {},
     "output_type": "execute_result"
    }
   ],
   "source": [
    "# Example: round 16\n",
    "round_32 = reorder_new(round_32)\n",
    "round_32 = add_opponent(round_32)\n",
    "round_32['Goal Rate'] = goal_rate(round_32['Rank'], round_32['Opponent_Rank'], round_32['Host'], round_32['Neutral'])\n",
    "round_16 = knockout(round_32)\n",
    "round_16"
   ],
   "metadata": {
    "collapsed": false
   }
  },
  {
   "cell_type": "code",
   "execution_count": 75,
   "outputs": [
    {
     "data": {
      "text/plain": "              Team Goal Rate  Rank Home\n0.0  United States   1.04473  16.0   No\n1.0    Netherlands  1.182094   8.0   No\n2.0        Uruguay  1.308993  14.0   No\n3.0         Poland  0.989658  26.0   No\n4.0    South Korea  1.011869  28.0   No\n5.0        Croatia  1.280259  12.0   No\n6.0         Brazil  2.167801   1.0   No\n7.0       Portugal  1.806171   9.0   No",
      "text/html": "<div>\n<style scoped>\n    .dataframe tbody tr th:only-of-type {\n        vertical-align: middle;\n    }\n\n    .dataframe tbody tr th {\n        vertical-align: top;\n    }\n\n    .dataframe thead th {\n        text-align: right;\n    }\n</style>\n<table border=\"1\" class=\"dataframe\">\n  <thead>\n    <tr style=\"text-align: right;\">\n      <th></th>\n      <th>Team</th>\n      <th>Goal Rate</th>\n      <th>Rank</th>\n      <th>Home</th>\n    </tr>\n  </thead>\n  <tbody>\n    <tr>\n      <th>0.0</th>\n      <td>United States</td>\n      <td>1.04473</td>\n      <td>16.0</td>\n      <td>No</td>\n    </tr>\n    <tr>\n      <th>1.0</th>\n      <td>Netherlands</td>\n      <td>1.182094</td>\n      <td>8.0</td>\n      <td>No</td>\n    </tr>\n    <tr>\n      <th>2.0</th>\n      <td>Uruguay</td>\n      <td>1.308993</td>\n      <td>14.0</td>\n      <td>No</td>\n    </tr>\n    <tr>\n      <th>3.0</th>\n      <td>Poland</td>\n      <td>0.989658</td>\n      <td>26.0</td>\n      <td>No</td>\n    </tr>\n    <tr>\n      <th>4.0</th>\n      <td>South Korea</td>\n      <td>1.011869</td>\n      <td>28.0</td>\n      <td>No</td>\n    </tr>\n    <tr>\n      <th>5.0</th>\n      <td>Croatia</td>\n      <td>1.280259</td>\n      <td>12.0</td>\n      <td>No</td>\n    </tr>\n    <tr>\n      <th>6.0</th>\n      <td>Brazil</td>\n      <td>2.167801</td>\n      <td>1.0</td>\n      <td>No</td>\n    </tr>\n    <tr>\n      <th>7.0</th>\n      <td>Portugal</td>\n      <td>1.806171</td>\n      <td>9.0</td>\n      <td>No</td>\n    </tr>\n  </tbody>\n</table>\n</div>"
     },
     "execution_count": 75,
     "metadata": {},
     "output_type": "execute_result"
    }
   ],
   "source": [
    "# Example: round 8\n",
    "round_16 = reorder_new(round_16)\n",
    "round_16 = add_opponent(round_16)\n",
    "round_16['Host'] = round_16['Host'].astype(float)\n",
    "round_16['Rank'] = round_16['Rank'].astype(float)\n",
    "round_16['Goal Rate'] = goal_rate(round_16['Rank'], round_16['Opponent_Rank'], round_16['Host'], round_16['Neutral'])\n",
    "round_8 = knockout(round_16)\n",
    "round_8"
   ],
   "metadata": {
    "collapsed": false
   }
  },
  {
   "cell_type": "code",
   "execution_count": 76,
   "outputs": [],
   "source": [
    "# here I will define a new dict to tally the number of wins for each team\n",
    "teams = round_32['Team'].values.tolist()\n",
    "tally = {key: 0 for key in teams}"
   ],
   "metadata": {
    "collapsed": false
   }
  },
  {
   "cell_type": "code",
   "execution_count": 77,
   "outputs": [
    {
     "name": "stdout",
     "output_type": "stream",
     "text": [
      "The winner of this simulation is Iran\n",
      "The winner of this simulation is France\n",
      "The winner of this simulation is Belgium\n",
      "The winner of this simulation is Argentina\n",
      "The winner of this simulation is Spain\n",
      "The winner of this simulation is France\n",
      "The winner of this simulation is Mexico\n",
      "The winner of this simulation is Netherlands\n",
      "The winner of this simulation is Switzerland\n",
      "The winner of this simulation is England\n",
      "The winner of this simulation is Denmark\n",
      "The winner of this simulation is Wales\n",
      "The winner of this simulation is Japan\n",
      "The winner of this simulation is Senegal\n",
      "The winner of this simulation is Belgium\n",
      "The winner of this simulation is Wales\n",
      "The winner of this simulation is Mexico\n",
      "The winner of this simulation is Japan\n",
      "The winner of this simulation is Denmark\n",
      "The winner of this simulation is Brazil\n",
      "The winner of this simulation is Tunisia\n",
      "The winner of this simulation is England\n",
      "The winner of this simulation is Denmark\n",
      "The winner of this simulation is Spain\n",
      "The winner of this simulation is Argentina\n",
      "The winner of this simulation is Brazil\n",
      "The winner of this simulation is Argentina\n",
      "The winner of this simulation is Serbia\n",
      "The winner of this simulation is Japan\n",
      "The winner of this simulation is Iran\n",
      "The winner of this simulation is France\n",
      "The winner of this simulation is Senegal\n",
      "The winner of this simulation is Denmark\n",
      "The winner of this simulation is Denmark\n",
      "The winner of this simulation is Belgium\n",
      "The winner of this simulation is France\n",
      "The winner of this simulation is United States\n",
      "The winner of this simulation is Denmark\n",
      "The winner of this simulation is Netherlands\n",
      "The winner of this simulation is Belgium\n",
      "The winner of this simulation is France\n",
      "The winner of this simulation is Mexico\n",
      "The winner of this simulation is Portugal\n",
      "The winner of this simulation is Serbia\n",
      "The winner of this simulation is Belgium\n",
      "The winner of this simulation is England\n",
      "The winner of this simulation is Japan\n",
      "The winner of this simulation is Croatia\n",
      "The winner of this simulation is Belgium\n",
      "The winner of this simulation is Brazil\n",
      "The winner of this simulation is Senegal\n",
      "The winner of this simulation is Belgium\n",
      "The winner of this simulation is Qatar\n",
      "The winner of this simulation is Uruguay\n",
      "The winner of this simulation is Netherlands\n",
      "The winner of this simulation is Croatia\n",
      "The winner of this simulation is Portugal\n",
      "The winner of this simulation is Argentina\n",
      "The winner of this simulation is Argentina\n",
      "The winner of this simulation is United States\n",
      "The winner of this simulation is England\n",
      "The winner of this simulation is Ecuador\n",
      "The winner of this simulation is Canada\n",
      "The winner of this simulation is Denmark\n",
      "The winner of this simulation is France\n",
      "The winner of this simulation is Denmark\n",
      "The winner of this simulation is Iran\n",
      "The winner of this simulation is Switzerland\n",
      "The winner of this simulation is Croatia\n",
      "The winner of this simulation is France\n",
      "The winner of this simulation is Portugal\n",
      "The winner of this simulation is Denmark\n",
      "The winner of this simulation is Serbia\n",
      "The winner of this simulation is Portugal\n",
      "The winner of this simulation is Uruguay\n",
      "The winner of this simulation is France\n",
      "The winner of this simulation is France\n",
      "The winner of this simulation is Belgium\n",
      "The winner of this simulation is Argentina\n",
      "The winner of this simulation is France\n",
      "The winner of this simulation is Belgium\n",
      "The winner of this simulation is Argentina\n",
      "The winner of this simulation is Spain\n",
      "The winner of this simulation is Belgium\n",
      "The winner of this simulation is Netherlands\n",
      "The winner of this simulation is Portugal\n",
      "The winner of this simulation is Belgium\n",
      "The winner of this simulation is France\n",
      "The winner of this simulation is Belgium\n",
      "The winner of this simulation is England\n",
      "The winner of this simulation is Japan\n",
      "The winner of this simulation is France\n",
      "The winner of this simulation is Qatar\n",
      "The winner of this simulation is Brazil\n",
      "The winner of this simulation is Morocco\n",
      "The winner of this simulation is Tunisia\n",
      "The winner of this simulation is Serbia\n",
      "The winner of this simulation is Costa Rica\n",
      "The winner of this simulation is England\n",
      "The winner of this simulation is France\n",
      "The winner of this simulation is France\n",
      "The winner of this simulation is Uruguay\n",
      "The winner of this simulation is Qatar\n",
      "The winner of this simulation is Mexico\n",
      "The winner of this simulation is Spain\n",
      "The winner of this simulation is Argentina\n",
      "The winner of this simulation is Netherlands\n",
      "The winner of this simulation is Portugal\n",
      "The winner of this simulation is Switzerland\n",
      "The winner of this simulation is Belgium\n",
      "The winner of this simulation is Belgium\n",
      "The winner of this simulation is Poland\n",
      "The winner of this simulation is Iran\n",
      "The winner of this simulation is Portugal\n",
      "The winner of this simulation is United States\n",
      "The winner of this simulation is Spain\n",
      "The winner of this simulation is Spain\n",
      "The winner of this simulation is Germany\n",
      "The winner of this simulation is France\n",
      "The winner of this simulation is Qatar\n",
      "The winner of this simulation is Spain\n",
      "The winner of this simulation is Netherlands\n",
      "The winner of this simulation is Brazil\n",
      "The winner of this simulation is Brazil\n",
      "The winner of this simulation is United States\n",
      "The winner of this simulation is Belgium\n",
      "The winner of this simulation is Spain\n",
      "The winner of this simulation is Argentina\n",
      "The winner of this simulation is Argentina\n",
      "The winner of this simulation is United States\n",
      "The winner of this simulation is Spain\n",
      "The winner of this simulation is Argentina\n",
      "The winner of this simulation is Denmark\n",
      "The winner of this simulation is Denmark\n",
      "The winner of this simulation is France\n",
      "The winner of this simulation is Belgium\n",
      "The winner of this simulation is Denmark\n",
      "The winner of this simulation is Portugal\n",
      "The winner of this simulation is Mexico\n",
      "The winner of this simulation is United States\n",
      "The winner of this simulation is Brazil\n",
      "The winner of this simulation is Netherlands\n",
      "The winner of this simulation is Mexico\n",
      "The winner of this simulation is Belgium\n",
      "The winner of this simulation is Belgium\n",
      "The winner of this simulation is France\n",
      "The winner of this simulation is France\n",
      "The winner of this simulation is England\n",
      "The winner of this simulation is Denmark\n",
      "The winner of this simulation is Croatia\n",
      "The winner of this simulation is France\n",
      "The winner of this simulation is Tunisia\n",
      "The winner of this simulation is France\n",
      "The winner of this simulation is Qatar\n",
      "The winner of this simulation is Belgium\n",
      "The winner of this simulation is Denmark\n",
      "The winner of this simulation is Uruguay\n",
      "The winner of this simulation is Argentina\n",
      "The winner of this simulation is Croatia\n",
      "The winner of this simulation is Senegal\n",
      "The winner of this simulation is Switzerland\n",
      "The winner of this simulation is Belgium\n",
      "The winner of this simulation is Wales\n",
      "The winner of this simulation is Brazil\n",
      "The winner of this simulation is Brazil\n",
      "The winner of this simulation is Spain\n",
      "The winner of this simulation is Japan\n",
      "The winner of this simulation is Spain\n",
      "The winner of this simulation is Belgium\n",
      "The winner of this simulation is Canada\n",
      "The winner of this simulation is Uruguay\n",
      "The winner of this simulation is Switzerland\n",
      "The winner of this simulation is Croatia\n",
      "The winner of this simulation is France\n",
      "The winner of this simulation is Brazil\n",
      "The winner of this simulation is Portugal\n",
      "The winner of this simulation is England\n",
      "The winner of this simulation is South Korea\n",
      "The winner of this simulation is Denmark\n",
      "The winner of this simulation is Switzerland\n",
      "The winner of this simulation is Netherlands\n",
      "The winner of this simulation is Brazil\n",
      "The winner of this simulation is Brazil\n",
      "The winner of this simulation is Portugal\n",
      "The winner of this simulation is Senegal\n",
      "The winner of this simulation is Brazil\n",
      "The winner of this simulation is Denmark\n",
      "The winner of this simulation is Wales\n",
      "The winner of this simulation is Belgium\n",
      "The winner of this simulation is Brazil\n",
      "The winner of this simulation is Netherlands\n",
      "The winner of this simulation is France\n",
      "The winner of this simulation is Brazil\n",
      "The winner of this simulation is Belgium\n",
      "The winner of this simulation is Serbia\n",
      "The winner of this simulation is Netherlands\n",
      "The winner of this simulation is Croatia\n",
      "The winner of this simulation is Portugal\n",
      "The winner of this simulation is Serbia\n",
      "The winner of this simulation is Netherlands\n",
      "The winner of this simulation is Iran\n",
      "The winner of this simulation is Poland\n",
      "The winner of this simulation is Morocco\n",
      "The winner of this simulation is Germany\n",
      "The winner of this simulation is Poland\n",
      "The winner of this simulation is Australia\n",
      "The winner of this simulation is Mexico\n",
      "The winner of this simulation is France\n",
      "The winner of this simulation is Germany\n",
      "The winner of this simulation is France\n",
      "The winner of this simulation is Netherlands\n",
      "The winner of this simulation is Australia\n",
      "The winner of this simulation is Switzerland\n",
      "The winner of this simulation is Netherlands\n",
      "The winner of this simulation is Spain\n",
      "The winner of this simulation is Netherlands\n",
      "The winner of this simulation is Germany\n",
      "The winner of this simulation is United States\n",
      "The winner of this simulation is Mexico\n",
      "The winner of this simulation is Switzerland\n",
      "The winner of this simulation is Belgium\n",
      "The winner of this simulation is Denmark\n",
      "The winner of this simulation is Wales\n",
      "The winner of this simulation is Portugal\n",
      "The winner of this simulation is Portugal\n",
      "The winner of this simulation is Netherlands\n",
      "The winner of this simulation is Brazil\n",
      "The winner of this simulation is Serbia\n",
      "The winner of this simulation is Denmark\n",
      "The winner of this simulation is Senegal\n",
      "The winner of this simulation is Netherlands\n",
      "The winner of this simulation is Croatia\n",
      "The winner of this simulation is Portugal\n",
      "The winner of this simulation is Switzerland\n",
      "The winner of this simulation is Costa Rica\n",
      "The winner of this simulation is Wales\n",
      "The winner of this simulation is France\n",
      "The winner of this simulation is France\n",
      "The winner of this simulation is Brazil\n",
      "The winner of this simulation is Belgium\n",
      "The winner of this simulation is Brazil\n",
      "The winner of this simulation is Argentina\n",
      "The winner of this simulation is Belgium\n",
      "The winner of this simulation is Senegal\n",
      "The winner of this simulation is Belgium\n",
      "The winner of this simulation is Mexico\n",
      "The winner of this simulation is United States\n",
      "The winner of this simulation is Germany\n",
      "The winner of this simulation is England\n",
      "The winner of this simulation is England\n",
      "The winner of this simulation is England\n",
      "The winner of this simulation is Uruguay\n",
      "The winner of this simulation is Croatia\n",
      "The winner of this simulation is Poland\n",
      "The winner of this simulation is France\n",
      "The winner of this simulation is Netherlands\n",
      "The winner of this simulation is Germany\n",
      "The winner of this simulation is United States\n",
      "The winner of this simulation is Netherlands\n",
      "The winner of this simulation is South Korea\n",
      "The winner of this simulation is Argentina\n",
      "The winner of this simulation is Croatia\n",
      "The winner of this simulation is Switzerland\n",
      "The winner of this simulation is England\n",
      "The winner of this simulation is France\n",
      "The winner of this simulation is Belgium\n",
      "The winner of this simulation is Wales\n",
      "The winner of this simulation is Qatar\n",
      "The winner of this simulation is Belgium\n",
      "The winner of this simulation is Croatia\n",
      "The winner of this simulation is Ecuador\n",
      "The winner of this simulation is United States\n",
      "The winner of this simulation is England\n",
      "The winner of this simulation is Netherlands\n",
      "The winner of this simulation is Mexico\n",
      "The winner of this simulation is England\n",
      "The winner of this simulation is Portugal\n",
      "The winner of this simulation is United States\n",
      "The winner of this simulation is Senegal\n",
      "The winner of this simulation is Uruguay\n",
      "The winner of this simulation is Denmark\n",
      "The winner of this simulation is Uruguay\n",
      "The winner of this simulation is England\n",
      "The winner of this simulation is Qatar\n",
      "The winner of this simulation is Iran\n",
      "The winner of this simulation is Portugal\n",
      "The winner of this simulation is Belgium\n",
      "The winner of this simulation is Brazil\n",
      "The winner of this simulation is Belgium\n",
      "The winner of this simulation is Denmark\n",
      "The winner of this simulation is Spain\n",
      "The winner of this simulation is Morocco\n",
      "The winner of this simulation is Switzerland\n",
      "The winner of this simulation is Argentina\n",
      "The winner of this simulation is Uruguay\n",
      "The winner of this simulation is Argentina\n",
      "The winner of this simulation is Mexico\n",
      "The winner of this simulation is England\n",
      "The winner of this simulation is Belgium\n",
      "The winner of this simulation is South Korea\n",
      "The winner of this simulation is Wales\n",
      "The winner of this simulation is Uruguay\n",
      "The winner of this simulation is Portugal\n",
      "The winner of this simulation is Serbia\n",
      "The winner of this simulation is Netherlands\n",
      "The winner of this simulation is Germany\n",
      "The winner of this simulation is Brazil\n",
      "The winner of this simulation is Germany\n",
      "The winner of this simulation is Belgium\n",
      "The winner of this simulation is Belgium\n",
      "The winner of this simulation is Poland\n",
      "The winner of this simulation is Senegal\n",
      "The winner of this simulation is Spain\n",
      "The winner of this simulation is Mexico\n",
      "The winner of this simulation is Mexico\n",
      "The winner of this simulation is Australia\n",
      "The winner of this simulation is United States\n",
      "The winner of this simulation is Denmark\n",
      "The winner of this simulation is Switzerland\n",
      "The winner of this simulation is Argentina\n",
      "The winner of this simulation is England\n",
      "The winner of this simulation is Iran\n",
      "The winner of this simulation is Switzerland\n",
      "The winner of this simulation is Portugal\n",
      "The winner of this simulation is Croatia\n",
      "The winner of this simulation is Portugal\n",
      "The winner of this simulation is Costa Rica\n",
      "The winner of this simulation is Argentina\n",
      "The winner of this simulation is Portugal\n",
      "The winner of this simulation is England\n",
      "The winner of this simulation is Wales\n",
      "The winner of this simulation is Poland\n",
      "The winner of this simulation is France\n",
      "The winner of this simulation is Brazil\n",
      "The winner of this simulation is Japan\n",
      "The winner of this simulation is Argentina\n",
      "The winner of this simulation is Switzerland\n",
      "The winner of this simulation is Netherlands\n",
      "The winner of this simulation is Qatar\n",
      "The winner of this simulation is Brazil\n",
      "The winner of this simulation is Argentina\n",
      "The winner of this simulation is Poland\n",
      "The winner of this simulation is England\n",
      "The winner of this simulation is England\n",
      "The winner of this simulation is Germany\n",
      "The winner of this simulation is Netherlands\n",
      "The winner of this simulation is Switzerland\n",
      "The winner of this simulation is England\n",
      "The winner of this simulation is Netherlands\n",
      "The winner of this simulation is Qatar\n",
      "The winner of this simulation is Croatia\n",
      "The winner of this simulation is Senegal\n",
      "The winner of this simulation is Serbia\n",
      "The winner of this simulation is Argentina\n",
      "The winner of this simulation is France\n",
      "The winner of this simulation is Serbia\n",
      "The winner of this simulation is Serbia\n",
      "The winner of this simulation is South Korea\n",
      "The winner of this simulation is England\n",
      "The winner of this simulation is Brazil\n",
      "The winner of this simulation is Brazil\n",
      "The winner of this simulation is Wales\n",
      "The winner of this simulation is Denmark\n",
      "The winner of this simulation is Denmark\n",
      "The winner of this simulation is Mexico\n",
      "The winner of this simulation is United States\n",
      "The winner of this simulation is Netherlands\n",
      "The winner of this simulation is France\n",
      "The winner of this simulation is Tunisia\n",
      "The winner of this simulation is Argentina\n",
      "The winner of this simulation is Switzerland\n",
      "The winner of this simulation is Iran\n",
      "The winner of this simulation is Germany\n",
      "The winner of this simulation is Morocco\n",
      "The winner of this simulation is Croatia\n",
      "The winner of this simulation is Brazil\n",
      "The winner of this simulation is Belgium\n",
      "The winner of this simulation is Iran\n",
      "The winner of this simulation is Spain\n",
      "The winner of this simulation is Argentina\n",
      "The winner of this simulation is Denmark\n",
      "The winner of this simulation is Germany\n",
      "The winner of this simulation is England\n",
      "The winner of this simulation is Uruguay\n",
      "The winner of this simulation is Argentina\n",
      "The winner of this simulation is Uruguay\n",
      "The winner of this simulation is Croatia\n",
      "The winner of this simulation is Serbia\n",
      "The winner of this simulation is Netherlands\n",
      "The winner of this simulation is Brazil\n",
      "The winner of this simulation is Belgium\n",
      "The winner of this simulation is France\n",
      "The winner of this simulation is Spain\n",
      "The winner of this simulation is Belgium\n",
      "The winner of this simulation is Saudi Arabia\n",
      "The winner of this simulation is Argentina\n",
      "The winner of this simulation is England\n",
      "The winner of this simulation is Costa Rica\n",
      "The winner of this simulation is England\n",
      "The winner of this simulation is Qatar\n",
      "The winner of this simulation is Argentina\n",
      "The winner of this simulation is Brazil\n",
      "The winner of this simulation is Qatar\n",
      "The winner of this simulation is Senegal\n",
      "The winner of this simulation is England\n",
      "The winner of this simulation is Spain\n",
      "The winner of this simulation is South Korea\n",
      "The winner of this simulation is Netherlands\n",
      "The winner of this simulation is Spain\n",
      "The winner of this simulation is Wales\n",
      "The winner of this simulation is Spain\n",
      "The winner of this simulation is United States\n",
      "The winner of this simulation is Morocco\n",
      "The winner of this simulation is Senegal\n",
      "The winner of this simulation is Qatar\n",
      "The winner of this simulation is Brazil\n",
      "The winner of this simulation is Argentina\n",
      "The winner of this simulation is France\n",
      "The winner of this simulation is Senegal\n",
      "The winner of this simulation is Denmark\n",
      "The winner of this simulation is England\n",
      "The winner of this simulation is Portugal\n",
      "The winner of this simulation is Spain\n",
      "The winner of this simulation is Spain\n",
      "The winner of this simulation is Morocco\n",
      "The winner of this simulation is Mexico\n",
      "The winner of this simulation is England\n",
      "The winner of this simulation is Germany\n",
      "The winner of this simulation is Croatia\n",
      "The winner of this simulation is England\n",
      "The winner of this simulation is Portugal\n",
      "The winner of this simulation is Spain\n",
      "The winner of this simulation is Portugal\n",
      "The winner of this simulation is Morocco\n",
      "The winner of this simulation is Wales\n",
      "The winner of this simulation is France\n",
      "The winner of this simulation is Netherlands\n",
      "The winner of this simulation is Netherlands\n",
      "The winner of this simulation is United States\n",
      "The winner of this simulation is Belgium\n",
      "The winner of this simulation is Argentina\n",
      "The winner of this simulation is France\n",
      "The winner of this simulation is Senegal\n",
      "The winner of this simulation is Germany\n",
      "The winner of this simulation is Brazil\n",
      "The winner of this simulation is England\n",
      "The winner of this simulation is United States\n",
      "The winner of this simulation is Wales\n",
      "The winner of this simulation is Senegal\n",
      "The winner of this simulation is Brazil\n",
      "The winner of this simulation is Argentina\n",
      "The winner of this simulation is Spain\n",
      "The winner of this simulation is Germany\n",
      "The winner of this simulation is Switzerland\n",
      "The winner of this simulation is Canada\n",
      "The winner of this simulation is Argentina\n",
      "The winner of this simulation is Brazil\n",
      "The winner of this simulation is Argentina\n",
      "The winner of this simulation is Brazil\n",
      "The winner of this simulation is Argentina\n",
      "The winner of this simulation is Belgium\n",
      "The winner of this simulation is Denmark\n",
      "The winner of this simulation is Brazil\n",
      "The winner of this simulation is Portugal\n",
      "The winner of this simulation is Belgium\n",
      "The winner of this simulation is Croatia\n",
      "The winner of this simulation is Denmark\n",
      "The winner of this simulation is Brazil\n",
      "The winner of this simulation is Morocco\n",
      "The winner of this simulation is Denmark\n",
      "The winner of this simulation is France\n",
      "The winner of this simulation is England\n",
      "The winner of this simulation is Senegal\n",
      "The winner of this simulation is Belgium\n",
      "The winner of this simulation is Ecuador\n",
      "The winner of this simulation is Iran\n",
      "The winner of this simulation is Morocco\n",
      "The winner of this simulation is Switzerland\n",
      "The winner of this simulation is Argentina\n",
      "The winner of this simulation is Germany\n",
      "The winner of this simulation is Portugal\n",
      "The winner of this simulation is England\n",
      "The winner of this simulation is Spain\n",
      "The winner of this simulation is Mexico\n",
      "The winner of this simulation is Uruguay\n",
      "The winner of this simulation is Senegal\n",
      "The winner of this simulation is Belgium\n",
      "The winner of this simulation is Portugal\n",
      "The winner of this simulation is Argentina\n",
      "The winner of this simulation is Senegal\n",
      "The winner of this simulation is Brazil\n",
      "The winner of this simulation is Argentina\n",
      "The winner of this simulation is Belgium\n",
      "The winner of this simulation is Brazil\n",
      "The winner of this simulation is Argentina\n",
      "The winner of this simulation is Argentina\n",
      "The winner of this simulation is Mexico\n",
      "The winner of this simulation is Denmark\n",
      "The winner of this simulation is Spain\n",
      "The winner of this simulation is France\n",
      "The winner of this simulation is Portugal\n",
      "The winner of this simulation is Portugal\n",
      "The winner of this simulation is Switzerland\n",
      "The winner of this simulation is England\n",
      "The winner of this simulation is Switzerland\n",
      "The winner of this simulation is Iran\n",
      "The winner of this simulation is Germany\n",
      "The winner of this simulation is Mexico\n",
      "The winner of this simulation is Wales\n",
      "The winner of this simulation is Spain\n",
      "The winner of this simulation is Denmark\n",
      "The winner of this simulation is Serbia\n",
      "The winner of this simulation is Netherlands\n",
      "The winner of this simulation is Brazil\n",
      "The winner of this simulation is Belgium\n",
      "The winner of this simulation is Belgium\n",
      "The winner of this simulation is France\n",
      "The winner of this simulation is Belgium\n",
      "The winner of this simulation is Netherlands\n",
      "The winner of this simulation is Cameroon\n",
      "The winner of this simulation is Uruguay\n",
      "The winner of this simulation is Germany\n",
      "The winner of this simulation is Netherlands\n",
      "The winner of this simulation is France\n",
      "The winner of this simulation is Portugal\n",
      "The winner of this simulation is Poland\n",
      "The winner of this simulation is Belgium\n",
      "The winner of this simulation is Argentina\n",
      "The winner of this simulation is Denmark\n",
      "The winner of this simulation is Uruguay\n",
      "The winner of this simulation is England\n",
      "The winner of this simulation is South Korea\n",
      "The winner of this simulation is Brazil\n",
      "The winner of this simulation is Brazil\n",
      "The winner of this simulation is Switzerland\n",
      "The winner of this simulation is Belgium\n",
      "The winner of this simulation is United States\n",
      "The winner of this simulation is Canada\n",
      "The winner of this simulation is Netherlands\n",
      "The winner of this simulation is Mexico\n",
      "The winner of this simulation is Belgium\n",
      "The winner of this simulation is Netherlands\n",
      "The winner of this simulation is Uruguay\n",
      "The winner of this simulation is Mexico\n",
      "The winner of this simulation is Belgium\n",
      "The winner of this simulation is Croatia\n",
      "The winner of this simulation is Qatar\n",
      "The winner of this simulation is Spain\n",
      "The winner of this simulation is Belgium\n",
      "The winner of this simulation is France\n",
      "The winner of this simulation is Belgium\n",
      "The winner of this simulation is Serbia\n",
      "The winner of this simulation is Croatia\n",
      "The winner of this simulation is Spain\n",
      "The winner of this simulation is England\n",
      "The winner of this simulation is Belgium\n",
      "The winner of this simulation is South Korea\n",
      "The winner of this simulation is Belgium\n",
      "The winner of this simulation is Serbia\n",
      "The winner of this simulation is England\n",
      "The winner of this simulation is England\n",
      "The winner of this simulation is Morocco\n",
      "The winner of this simulation is United States\n",
      "The winner of this simulation is Netherlands\n",
      "The winner of this simulation is Belgium\n",
      "The winner of this simulation is France\n",
      "The winner of this simulation is Portugal\n",
      "The winner of this simulation is Belgium\n",
      "The winner of this simulation is Morocco\n",
      "The winner of this simulation is Mexico\n",
      "The winner of this simulation is Uruguay\n",
      "The winner of this simulation is Brazil\n",
      "The winner of this simulation is Brazil\n",
      "The winner of this simulation is Serbia\n",
      "The winner of this simulation is England\n",
      "The winner of this simulation is Argentina\n",
      "The winner of this simulation is Spain\n",
      "The winner of this simulation is Netherlands\n",
      "The winner of this simulation is Spain\n",
      "The winner of this simulation is Qatar\n",
      "The winner of this simulation is England\n",
      "The winner of this simulation is Mexico\n",
      "The winner of this simulation is Mexico\n",
      "The winner of this simulation is Belgium\n",
      "The winner of this simulation is Spain\n",
      "The winner of this simulation is Belgium\n",
      "The winner of this simulation is Argentina\n",
      "The winner of this simulation is Senegal\n",
      "The winner of this simulation is Serbia\n",
      "The winner of this simulation is England\n",
      "The winner of this simulation is Iran\n",
      "The winner of this simulation is Serbia\n",
      "The winner of this simulation is Denmark\n",
      "The winner of this simulation is Costa Rica\n",
      "The winner of this simulation is Spain\n",
      "The winner of this simulation is England\n",
      "The winner of this simulation is Denmark\n",
      "The winner of this simulation is Wales\n",
      "The winner of this simulation is United States\n",
      "The winner of this simulation is Brazil\n",
      "The winner of this simulation is Uruguay\n",
      "The winner of this simulation is Netherlands\n",
      "The winner of this simulation is Serbia\n",
      "The winner of this simulation is Brazil\n",
      "The winner of this simulation is South Korea\n",
      "The winner of this simulation is Brazil\n",
      "The winner of this simulation is Belgium\n",
      "The winner of this simulation is France\n",
      "The winner of this simulation is Denmark\n",
      "The winner of this simulation is Brazil\n",
      "The winner of this simulation is Argentina\n",
      "The winner of this simulation is Portugal\n",
      "The winner of this simulation is Brazil\n",
      "The winner of this simulation is Netherlands\n",
      "The winner of this simulation is France\n",
      "The winner of this simulation is Japan\n",
      "The winner of this simulation is Germany\n",
      "The winner of this simulation is Qatar\n",
      "The winner of this simulation is Netherlands\n",
      "The winner of this simulation is Denmark\n",
      "The winner of this simulation is United States\n",
      "The winner of this simulation is Iran\n",
      "The winner of this simulation is Germany\n",
      "The winner of this simulation is Argentina\n",
      "The winner of this simulation is Netherlands\n",
      "The winner of this simulation is Costa Rica\n",
      "The winner of this simulation is Wales\n",
      "The winner of this simulation is Spain\n",
      "The winner of this simulation is Croatia\n",
      "The winner of this simulation is Portugal\n",
      "The winner of this simulation is England\n",
      "The winner of this simulation is France\n",
      "The winner of this simulation is Wales\n",
      "The winner of this simulation is Croatia\n",
      "The winner of this simulation is Denmark\n",
      "The winner of this simulation is Spain\n",
      "The winner of this simulation is France\n",
      "The winner of this simulation is Belgium\n",
      "The winner of this simulation is Senegal\n",
      "The winner of this simulation is Senegal\n",
      "The winner of this simulation is Croatia\n",
      "The winner of this simulation is South Korea\n",
      "The winner of this simulation is Switzerland\n",
      "The winner of this simulation is Senegal\n",
      "The winner of this simulation is Brazil\n",
      "The winner of this simulation is Argentina\n",
      "The winner of this simulation is Brazil\n",
      "The winner of this simulation is Switzerland\n",
      "The winner of this simulation is Portugal\n",
      "The winner of this simulation is Denmark\n",
      "The winner of this simulation is England\n",
      "The winner of this simulation is Netherlands\n",
      "The winner of this simulation is Brazil\n",
      "The winner of this simulation is Spain\n",
      "The winner of this simulation is Switzerland\n",
      "The winner of this simulation is Argentina\n",
      "The winner of this simulation is Brazil\n",
      "The winner of this simulation is France\n",
      "The winner of this simulation is Croatia\n",
      "The winner of this simulation is Germany\n",
      "The winner of this simulation is Senegal\n",
      "The winner of this simulation is Denmark\n",
      "The winner of this simulation is Belgium\n",
      "The winner of this simulation is England\n",
      "The winner of this simulation is Switzerland\n",
      "The winner of this simulation is Brazil\n",
      "The winner of this simulation is Spain\n",
      "The winner of this simulation is Croatia\n",
      "The winner of this simulation is Belgium\n",
      "The winner of this simulation is Spain\n",
      "The winner of this simulation is Netherlands\n",
      "The winner of this simulation is Portugal\n",
      "The winner of this simulation is England\n",
      "The winner of this simulation is Senegal\n",
      "The winner of this simulation is United States\n",
      "The winner of this simulation is Spain\n",
      "The winner of this simulation is Germany\n",
      "The winner of this simulation is Switzerland\n",
      "The winner of this simulation is England\n",
      "The winner of this simulation is Germany\n",
      "The winner of this simulation is France\n",
      "The winner of this simulation is Japan\n",
      "The winner of this simulation is Uruguay\n",
      "The winner of this simulation is Wales\n",
      "The winner of this simulation is Iran\n",
      "The winner of this simulation is Denmark\n",
      "The winner of this simulation is Belgium\n",
      "The winner of this simulation is France\n",
      "The winner of this simulation is Qatar\n",
      "The winner of this simulation is Switzerland\n",
      "The winner of this simulation is Belgium\n",
      "The winner of this simulation is Germany\n",
      "The winner of this simulation is France\n",
      "The winner of this simulation is Netherlands\n",
      "The winner of this simulation is Canada\n",
      "The winner of this simulation is Netherlands\n",
      "The winner of this simulation is Portugal\n",
      "The winner of this simulation is Netherlands\n",
      "The winner of this simulation is Spain\n",
      "The winner of this simulation is Mexico\n",
      "The winner of this simulation is Argentina\n",
      "The winner of this simulation is Brazil\n",
      "The winner of this simulation is Brazil\n",
      "The winner of this simulation is Brazil\n",
      "The winner of this simulation is England\n",
      "The winner of this simulation is Spain\n",
      "The winner of this simulation is Tunisia\n",
      "The winner of this simulation is Spain\n",
      "The winner of this simulation is Belgium\n",
      "The winner of this simulation is Brazil\n",
      "The winner of this simulation is Netherlands\n",
      "The winner of this simulation is Mexico\n",
      "The winner of this simulation is Uruguay\n",
      "The winner of this simulation is Portugal\n",
      "The winner of this simulation is Portugal\n",
      "The winner of this simulation is England\n",
      "The winner of this simulation is Brazil\n",
      "The winner of this simulation is Brazil\n",
      "The winner of this simulation is Germany\n",
      "The winner of this simulation is Uruguay\n",
      "The winner of this simulation is Uruguay\n",
      "The winner of this simulation is England\n",
      "The winner of this simulation is Spain\n",
      "The winner of this simulation is Spain\n",
      "The winner of this simulation is Argentina\n",
      "The winner of this simulation is France\n",
      "The winner of this simulation is Japan\n",
      "The winner of this simulation is Morocco\n",
      "The winner of this simulation is Brazil\n",
      "The winner of this simulation is Iran\n",
      "The winner of this simulation is Brazil\n",
      "The winner of this simulation is Wales\n",
      "The winner of this simulation is Brazil\n",
      "The winner of this simulation is Croatia\n",
      "The winner of this simulation is Netherlands\n",
      "The winner of this simulation is Spain\n",
      "The winner of this simulation is Brazil\n",
      "The winner of this simulation is France\n",
      "The winner of this simulation is Argentina\n",
      "The winner of this simulation is Uruguay\n",
      "The winner of this simulation is Qatar\n",
      "The winner of this simulation is Morocco\n",
      "The winner of this simulation is England\n",
      "The winner of this simulation is Argentina\n",
      "The winner of this simulation is Poland\n",
      "The winner of this simulation is Portugal\n",
      "The winner of this simulation is France\n",
      "The winner of this simulation is Netherlands\n",
      "The winner of this simulation is Spain\n",
      "The winner of this simulation is Cameroon\n",
      "The winner of this simulation is Belgium\n",
      "The winner of this simulation is Iran\n",
      "The winner of this simulation is United States\n",
      "The winner of this simulation is Netherlands\n",
      "The winner of this simulation is Argentina\n",
      "The winner of this simulation is Denmark\n",
      "The winner of this simulation is Argentina\n",
      "The winner of this simulation is Brazil\n",
      "The winner of this simulation is France\n",
      "The winner of this simulation is Denmark\n",
      "The winner of this simulation is Belgium\n",
      "The winner of this simulation is England\n",
      "The winner of this simulation is Spain\n",
      "The winner of this simulation is Brazil\n",
      "The winner of this simulation is Germany\n",
      "The winner of this simulation is Netherlands\n",
      "The winner of this simulation is France\n",
      "The winner of this simulation is Brazil\n",
      "The winner of this simulation is Wales\n",
      "The winner of this simulation is Morocco\n",
      "The winner of this simulation is Mexico\n",
      "The winner of this simulation is South Korea\n",
      "The winner of this simulation is Switzerland\n",
      "The winner of this simulation is Denmark\n",
      "The winner of this simulation is Spain\n",
      "The winner of this simulation is Wales\n",
      "The winner of this simulation is Germany\n",
      "The winner of this simulation is Croatia\n",
      "The winner of this simulation is Brazil\n",
      "The winner of this simulation is Spain\n",
      "The winner of this simulation is England\n",
      "The winner of this simulation is Belgium\n",
      "The winner of this simulation is Uruguay\n",
      "The winner of this simulation is Wales\n",
      "The winner of this simulation is Morocco\n",
      "The winner of this simulation is Denmark\n",
      "The winner of this simulation is Morocco\n",
      "The winner of this simulation is Uruguay\n",
      "The winner of this simulation is Argentina\n",
      "The winner of this simulation is Mexico\n",
      "The winner of this simulation is Switzerland\n",
      "The winner of this simulation is Belgium\n",
      "The winner of this simulation is France\n",
      "The winner of this simulation is Argentina\n",
      "The winner of this simulation is Senegal\n",
      "The winner of this simulation is Iran\n",
      "The winner of this simulation is France\n",
      "The winner of this simulation is France\n",
      "The winner of this simulation is Qatar\n",
      "The winner of this simulation is Portugal\n",
      "The winner of this simulation is England\n",
      "The winner of this simulation is Germany\n",
      "The winner of this simulation is Denmark\n",
      "The winner of this simulation is Portugal\n",
      "The winner of this simulation is Iran\n",
      "The winner of this simulation is United States\n",
      "The winner of this simulation is Argentina\n",
      "The winner of this simulation is Poland\n",
      "The winner of this simulation is Denmark\n",
      "The winner of this simulation is United States\n",
      "The winner of this simulation is Switzerland\n",
      "The winner of this simulation is Morocco\n",
      "The winner of this simulation is Wales\n",
      "The winner of this simulation is Switzerland\n",
      "The winner of this simulation is Tunisia\n",
      "The winner of this simulation is Serbia\n",
      "The winner of this simulation is Croatia\n",
      "The winner of this simulation is Spain\n",
      "The winner of this simulation is Switzerland\n",
      "The winner of this simulation is Denmark\n",
      "The winner of this simulation is Switzerland\n",
      "The winner of this simulation is Costa Rica\n",
      "The winner of this simulation is Qatar\n",
      "The winner of this simulation is England\n",
      "The winner of this simulation is Brazil\n",
      "The winner of this simulation is Japan\n",
      "The winner of this simulation is Belgium\n",
      "The winner of this simulation is Denmark\n",
      "The winner of this simulation is Spain\n",
      "The winner of this simulation is United States\n",
      "The winner of this simulation is Portugal\n",
      "The winner of this simulation is Denmark\n",
      "The winner of this simulation is Wales\n",
      "The winner of this simulation is Senegal\n",
      "The winner of this simulation is Belgium\n",
      "The winner of this simulation is Argentina\n",
      "The winner of this simulation is Argentina\n",
      "The winner of this simulation is Portugal\n",
      "The winner of this simulation is Belgium\n",
      "The winner of this simulation is Belgium\n",
      "The winner of this simulation is Germany\n",
      "The winner of this simulation is Portugal\n",
      "The winner of this simulation is Denmark\n",
      "The winner of this simulation is Wales\n",
      "The winner of this simulation is Serbia\n",
      "The winner of this simulation is Spain\n",
      "The winner of this simulation is Argentina\n",
      "The winner of this simulation is Brazil\n",
      "The winner of this simulation is Croatia\n",
      "The winner of this simulation is Iran\n",
      "The winner of this simulation is England\n",
      "The winner of this simulation is Denmark\n",
      "The winner of this simulation is France\n",
      "The winner of this simulation is Mexico\n",
      "The winner of this simulation is Uruguay\n",
      "The winner of this simulation is Iran\n",
      "The winner of this simulation is Mexico\n",
      "The winner of this simulation is Mexico\n",
      "The winner of this simulation is Switzerland\n",
      "The winner of this simulation is Netherlands\n",
      "The winner of this simulation is France\n",
      "The winner of this simulation is Croatia\n",
      "The winner of this simulation is Wales\n",
      "The winner of this simulation is Portugal\n",
      "The winner of this simulation is Germany\n",
      "The winner of this simulation is Belgium\n",
      "The winner of this simulation is Mexico\n",
      "The winner of this simulation is France\n",
      "The winner of this simulation is Netherlands\n",
      "The winner of this simulation is South Korea\n",
      "The winner of this simulation is Belgium\n",
      "The winner of this simulation is South Korea\n",
      "The winner of this simulation is Costa Rica\n",
      "The winner of this simulation is Croatia\n",
      "The winner of this simulation is Portugal\n",
      "The winner of this simulation is Germany\n",
      "The winner of this simulation is Belgium\n",
      "The winner of this simulation is Denmark\n",
      "The winner of this simulation is Croatia\n",
      "The winner of this simulation is Belgium\n",
      "The winner of this simulation is Argentina\n",
      "The winner of this simulation is Belgium\n",
      "The winner of this simulation is Germany\n",
      "The winner of this simulation is England\n",
      "The winner of this simulation is Argentina\n",
      "The winner of this simulation is United States\n",
      "The winner of this simulation is Germany\n",
      "The winner of this simulation is Croatia\n",
      "The winner of this simulation is United States\n",
      "The winner of this simulation is Spain\n",
      "The winner of this simulation is Argentina\n",
      "The winner of this simulation is Netherlands\n",
      "The winner of this simulation is Denmark\n",
      "The winner of this simulation is England\n",
      "The winner of this simulation is Denmark\n",
      "The winner of this simulation is Australia\n",
      "The winner of this simulation is Senegal\n",
      "The winner of this simulation is Uruguay\n",
      "The winner of this simulation is Mexico\n",
      "The winner of this simulation is Croatia\n",
      "The winner of this simulation is Portugal\n",
      "The winner of this simulation is Uruguay\n",
      "The winner of this simulation is Belgium\n",
      "The winner of this simulation is Belgium\n",
      "The winner of this simulation is Belgium\n",
      "The winner of this simulation is Japan\n",
      "The winner of this simulation is Ecuador\n",
      "The winner of this simulation is Belgium\n",
      "The winner of this simulation is Senegal\n",
      "The winner of this simulation is United States\n",
      "The winner of this simulation is Switzerland\n",
      "The winner of this simulation is Argentina\n",
      "The winner of this simulation is Brazil\n",
      "The winner of this simulation is Brazil\n",
      "The winner of this simulation is England\n",
      "The winner of this simulation is England\n",
      "The winner of this simulation is United States\n",
      "The winner of this simulation is United States\n",
      "The winner of this simulation is Serbia\n",
      "The winner of this simulation is Netherlands\n",
      "The winner of this simulation is Wales\n",
      "The winner of this simulation is Serbia\n",
      "The winner of this simulation is Costa Rica\n",
      "The winner of this simulation is South Korea\n",
      "The winner of this simulation is England\n",
      "The winner of this simulation is France\n",
      "The winner of this simulation is Belgium\n",
      "The winner of this simulation is Brazil\n",
      "The winner of this simulation is Netherlands\n",
      "The winner of this simulation is Argentina\n",
      "The winner of this simulation is Netherlands\n",
      "The winner of this simulation is Iran\n",
      "The winner of this simulation is France\n",
      "The winner of this simulation is Serbia\n",
      "The winner of this simulation is Croatia\n",
      "The winner of this simulation is Croatia\n",
      "The winner of this simulation is Belgium\n",
      "The winner of this simulation is Uruguay\n",
      "The winner of this simulation is Portugal\n",
      "The winner of this simulation is Spain\n",
      "The winner of this simulation is Morocco\n",
      "The winner of this simulation is Senegal\n",
      "The winner of this simulation is England\n",
      "The winner of this simulation is Serbia\n",
      "The winner of this simulation is Denmark\n",
      "The winner of this simulation is Brazil\n",
      "The winner of this simulation is Denmark\n",
      "The winner of this simulation is Belgium\n",
      "The winner of this simulation is Germany\n",
      "The winner of this simulation is Brazil\n",
      "The winner of this simulation is Argentina\n",
      "The winner of this simulation is Netherlands\n",
      "The winner of this simulation is Argentina\n",
      "The winner of this simulation is Portugal\n",
      "The winner of this simulation is England\n",
      "The winner of this simulation is Argentina\n",
      "The winner of this simulation is Morocco\n",
      "The winner of this simulation is Brazil\n",
      "The winner of this simulation is Argentina\n",
      "The winner of this simulation is England\n",
      "The winner of this simulation is Senegal\n",
      "The winner of this simulation is Japan\n",
      "The winner of this simulation is Argentina\n",
      "The winner of this simulation is Qatar\n",
      "The winner of this simulation is Argentina\n",
      "The winner of this simulation is Uruguay\n",
      "The winner of this simulation is Denmark\n",
      "The winner of this simulation is United States\n",
      "The winner of this simulation is Denmark\n",
      "The winner of this simulation is Belgium\n",
      "The winner of this simulation is Senegal\n",
      "The winner of this simulation is Qatar\n",
      "The winner of this simulation is Argentina\n",
      "The winner of this simulation is France\n",
      "The winner of this simulation is United States\n",
      "The winner of this simulation is Netherlands\n",
      "The winner of this simulation is Argentina\n",
      "The winner of this simulation is France\n",
      "The winner of this simulation is Belgium\n",
      "The winner of this simulation is Spain\n",
      "The winner of this simulation is Germany\n",
      "The winner of this simulation is Croatia\n",
      "The winner of this simulation is Spain\n",
      "The winner of this simulation is Brazil\n",
      "The winner of this simulation is Japan\n",
      "The winner of this simulation is Mexico\n",
      "The winner of this simulation is Netherlands\n",
      "The winner of this simulation is United States\n",
      "The winner of this simulation is Brazil\n",
      "The winner of this simulation is Serbia\n",
      "The winner of this simulation is Argentina\n",
      "The winner of this simulation is Netherlands\n",
      "The winner of this simulation is France\n",
      "The winner of this simulation is Belgium\n",
      "The winner of this simulation is Germany\n",
      "The winner of this simulation is Belgium\n",
      "The winner of this simulation is Senegal\n",
      "The winner of this simulation is Argentina\n",
      "The winner of this simulation is France\n",
      "The winner of this simulation is Argentina\n"
     ]
    }
   ],
   "source": [
    "# Hence, for 1000 simulations\n",
    "\n",
    "for i in range(1000):\n",
    "    df = round_32.copy()\n",
    "    round = 32\n",
    "    while round != 1:\n",
    "        df = reorder_new(df)\n",
    "        df = add_opponent(df)\n",
    "        df['Rank'] = df['Rank'].astype(float)\n",
    "        df['Goal Rate'] = goal_rate(df['Rank'], df['Opponent_Rank'], df['Host'], df['Neutral'])\n",
    "        df = knockout(df)\n",
    "        round /= 2\n",
    "    winner = df.loc[0,'Team']\n",
    "    print('The winner of this simulation is', winner)\n",
    "    tally[winner] += 1\n"
   ],
   "metadata": {
    "collapsed": false
   }
  },
  {
   "cell_type": "markdown",
   "source": [
    "After simulating 1000 times, I can now print the winning probability of each team."
   ],
   "metadata": {
    "collapsed": false
   }
  },
  {
   "cell_type": "code",
   "execution_count": 226,
   "outputs": [
    {
     "name": "stdout",
     "output_type": "stream",
     "text": [
      "The winning probability for each team in the worldcup is shown here {'France': 0.07, 'Australia': 0.004, 'Mexico': 0.031, 'Qatar': 0.028, 'Senegal': 0.025, 'Ecuador': 0.004, 'Portugal': 0.057, 'Canada': 0.002, 'Serbia': 0.016, 'Belgium': 0.069, 'Croatia': 0.046, 'Tunisia': 0.014, 'Cameroon': 0.004, 'Morocco': 0.02, 'Uruguay': 0.027, 'Switzerland': 0.038, 'Ghana': 0.001, 'England': 0.064, 'Germany': 0.039, 'United States': 0.026, 'Netherlands': 0.059, 'Costa Rica': 0.009, 'South Korea': 0.016, 'Japan': 0.016, 'Argentina': 0.085, 'Iran': 0.019, 'Brazil': 0.081, 'Saudi Arabia': 0.0, 'Spain': 0.055, 'Wales': 0.027, 'Denmark': 0.036, 'Poland': 0.012}\n"
     ]
    }
   ],
   "source": [
    "win_prob = {key:value/1000 for key, value in tally.items()}\n",
    "print('The winning probability for each team in the worldcup is shown here', win_prob)"
   ],
   "metadata": {
    "collapsed": false
   }
  },
  {
   "cell_type": "code",
   "execution_count": 226,
   "outputs": [],
   "source": [],
   "metadata": {
    "collapsed": false
   }
  }
 ],
 "metadata": {
  "kernelspec": {
   "display_name": "Python 3",
   "language": "python",
   "name": "python3"
  },
  "language_info": {
   "codemirror_mode": {
    "name": "ipython",
    "version": 2
   },
   "file_extension": ".py",
   "mimetype": "text/x-python",
   "name": "python",
   "nbconvert_exporter": "python",
   "pygments_lexer": "ipython2",
   "version": "2.7.6"
  }
 },
 "nbformat": 4,
 "nbformat_minor": 0
}
